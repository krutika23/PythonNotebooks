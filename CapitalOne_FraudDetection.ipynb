{
  "cells": [
    {
      "cell_type": "markdown",
      "metadata": {
        "id": "ZH7v-0TNaSCr"
      },
      "source": [
        "Loading all the required libraries "
      ]
    },
    {
      "cell_type": "code",
      "execution_count": null,
      "metadata": {
        "id": "P_1pJCjJaQqk"
      },
      "outputs": [],
      "source": [
        "import pandas as pd\n",
        "import numpy as np\n",
        "import seaborn as sns\n",
        "from matplotlib import pyplot as plt\n",
        "from sklearn import preprocessing\n",
        "from sklearn.model_selection import train_test_split, StratifiedKFold\n",
        "from sklearn.metrics import roc_auc_score, confusion_matrix, precision_recall_fscore_support\n",
        "from sklearn.ensemble import RandomForestClassifier"
      ]
    },
    {
      "cell_type": "markdown",
      "metadata": {
        "id": "YLtkOvnFabYb"
      },
      "source": [
        "The data was present in a json format. So i used read_json function from pandas library for create a dataframe.\n"
      ]
    },
    {
      "cell_type": "code",
      "execution_count": null,
      "metadata": {
        "colab": {
          "base_uri": "https://localhost:8080/",
          "height": 314
        },
        "id": "NyOKPKqyaYNt",
        "outputId": "86e2eb37-4be4-42f4-ad66-c98f7f7902e8"
      },
      "outputs": [
        {
          "output_type": "execute_result",
          "data": {
            "text/plain": [
              "   accountNumber  customerId  creditLimit  availableMoney  \\\n",
              "0      737265056   737265056         5000          5000.0   \n",
              "1      737265056   737265056         5000          5000.0   \n",
              "2      737265056   737265056         5000          5000.0   \n",
              "3      737265056   737265056         5000          5000.0   \n",
              "4      830329091   830329091         5000          5000.0   \n",
              "\n",
              "   transactionDateTime  transactionAmount         merchantName acqCountry  \\\n",
              "0  2016-08-13T14:27:32              98.55                 Uber         US   \n",
              "1  2016-10-11T05:05:54              74.51          AMC #191138         US   \n",
              "2  2016-11-08T09:18:39               7.47           Play Store         US   \n",
              "3  2016-12-10T02:14:50               7.47           Play Store         US   \n",
              "4  2016-03-24T21:04:46              71.18  Tim Hortons #947751         US   \n",
              "\n",
              "  merchantCountryCode posEntryMode  ... echoBuffer currentBalance  \\\n",
              "0                  US           02  ...                       0.0   \n",
              "1                  US           09  ...                       0.0   \n",
              "2                  US           09  ...                       0.0   \n",
              "3                  US           09  ...                       0.0   \n",
              "4                  US           02  ...                       0.0   \n",
              "\n",
              "  merchantCity merchantState merchantZip  cardPresent  posOnPremises  \\\n",
              "0                                               False                  \n",
              "1                                                True                  \n",
              "2                                               False                  \n",
              "3                                               False                  \n",
              "4                                                True                  \n",
              "\n",
              "   recurringAuthInd expirationDateKeyInMatch isFraud  \n",
              "0                                      False   False  \n",
              "1                                      False   False  \n",
              "2                                      False   False  \n",
              "3                                      False   False  \n",
              "4                                      False   False  \n",
              "\n",
              "[5 rows x 29 columns]"
            ],
            "text/html": [
              "\n",
              "  <div id=\"df-9820acd2-8069-4b92-ba62-a6c5488f54d4\">\n",
              "    <div class=\"colab-df-container\">\n",
              "      <div>\n",
              "<style scoped>\n",
              "    .dataframe tbody tr th:only-of-type {\n",
              "        vertical-align: middle;\n",
              "    }\n",
              "\n",
              "    .dataframe tbody tr th {\n",
              "        vertical-align: top;\n",
              "    }\n",
              "\n",
              "    .dataframe thead th {\n",
              "        text-align: right;\n",
              "    }\n",
              "</style>\n",
              "<table border=\"1\" class=\"dataframe\">\n",
              "  <thead>\n",
              "    <tr style=\"text-align: right;\">\n",
              "      <th></th>\n",
              "      <th>accountNumber</th>\n",
              "      <th>customerId</th>\n",
              "      <th>creditLimit</th>\n",
              "      <th>availableMoney</th>\n",
              "      <th>transactionDateTime</th>\n",
              "      <th>transactionAmount</th>\n",
              "      <th>merchantName</th>\n",
              "      <th>acqCountry</th>\n",
              "      <th>merchantCountryCode</th>\n",
              "      <th>posEntryMode</th>\n",
              "      <th>...</th>\n",
              "      <th>echoBuffer</th>\n",
              "      <th>currentBalance</th>\n",
              "      <th>merchantCity</th>\n",
              "      <th>merchantState</th>\n",
              "      <th>merchantZip</th>\n",
              "      <th>cardPresent</th>\n",
              "      <th>posOnPremises</th>\n",
              "      <th>recurringAuthInd</th>\n",
              "      <th>expirationDateKeyInMatch</th>\n",
              "      <th>isFraud</th>\n",
              "    </tr>\n",
              "  </thead>\n",
              "  <tbody>\n",
              "    <tr>\n",
              "      <th>0</th>\n",
              "      <td>737265056</td>\n",
              "      <td>737265056</td>\n",
              "      <td>5000</td>\n",
              "      <td>5000.0</td>\n",
              "      <td>2016-08-13T14:27:32</td>\n",
              "      <td>98.55</td>\n",
              "      <td>Uber</td>\n",
              "      <td>US</td>\n",
              "      <td>US</td>\n",
              "      <td>02</td>\n",
              "      <td>...</td>\n",
              "      <td></td>\n",
              "      <td>0.0</td>\n",
              "      <td></td>\n",
              "      <td></td>\n",
              "      <td></td>\n",
              "      <td>False</td>\n",
              "      <td></td>\n",
              "      <td></td>\n",
              "      <td>False</td>\n",
              "      <td>False</td>\n",
              "    </tr>\n",
              "    <tr>\n",
              "      <th>1</th>\n",
              "      <td>737265056</td>\n",
              "      <td>737265056</td>\n",
              "      <td>5000</td>\n",
              "      <td>5000.0</td>\n",
              "      <td>2016-10-11T05:05:54</td>\n",
              "      <td>74.51</td>\n",
              "      <td>AMC #191138</td>\n",
              "      <td>US</td>\n",
              "      <td>US</td>\n",
              "      <td>09</td>\n",
              "      <td>...</td>\n",
              "      <td></td>\n",
              "      <td>0.0</td>\n",
              "      <td></td>\n",
              "      <td></td>\n",
              "      <td></td>\n",
              "      <td>True</td>\n",
              "      <td></td>\n",
              "      <td></td>\n",
              "      <td>False</td>\n",
              "      <td>False</td>\n",
              "    </tr>\n",
              "    <tr>\n",
              "      <th>2</th>\n",
              "      <td>737265056</td>\n",
              "      <td>737265056</td>\n",
              "      <td>5000</td>\n",
              "      <td>5000.0</td>\n",
              "      <td>2016-11-08T09:18:39</td>\n",
              "      <td>7.47</td>\n",
              "      <td>Play Store</td>\n",
              "      <td>US</td>\n",
              "      <td>US</td>\n",
              "      <td>09</td>\n",
              "      <td>...</td>\n",
              "      <td></td>\n",
              "      <td>0.0</td>\n",
              "      <td></td>\n",
              "      <td></td>\n",
              "      <td></td>\n",
              "      <td>False</td>\n",
              "      <td></td>\n",
              "      <td></td>\n",
              "      <td>False</td>\n",
              "      <td>False</td>\n",
              "    </tr>\n",
              "    <tr>\n",
              "      <th>3</th>\n",
              "      <td>737265056</td>\n",
              "      <td>737265056</td>\n",
              "      <td>5000</td>\n",
              "      <td>5000.0</td>\n",
              "      <td>2016-12-10T02:14:50</td>\n",
              "      <td>7.47</td>\n",
              "      <td>Play Store</td>\n",
              "      <td>US</td>\n",
              "      <td>US</td>\n",
              "      <td>09</td>\n",
              "      <td>...</td>\n",
              "      <td></td>\n",
              "      <td>0.0</td>\n",
              "      <td></td>\n",
              "      <td></td>\n",
              "      <td></td>\n",
              "      <td>False</td>\n",
              "      <td></td>\n",
              "      <td></td>\n",
              "      <td>False</td>\n",
              "      <td>False</td>\n",
              "    </tr>\n",
              "    <tr>\n",
              "      <th>4</th>\n",
              "      <td>830329091</td>\n",
              "      <td>830329091</td>\n",
              "      <td>5000</td>\n",
              "      <td>5000.0</td>\n",
              "      <td>2016-03-24T21:04:46</td>\n",
              "      <td>71.18</td>\n",
              "      <td>Tim Hortons #947751</td>\n",
              "      <td>US</td>\n",
              "      <td>US</td>\n",
              "      <td>02</td>\n",
              "      <td>...</td>\n",
              "      <td></td>\n",
              "      <td>0.0</td>\n",
              "      <td></td>\n",
              "      <td></td>\n",
              "      <td></td>\n",
              "      <td>True</td>\n",
              "      <td></td>\n",
              "      <td></td>\n",
              "      <td>False</td>\n",
              "      <td>False</td>\n",
              "    </tr>\n",
              "  </tbody>\n",
              "</table>\n",
              "<p>5 rows × 29 columns</p>\n",
              "</div>\n",
              "      <button class=\"colab-df-convert\" onclick=\"convertToInteractive('df-9820acd2-8069-4b92-ba62-a6c5488f54d4')\"\n",
              "              title=\"Convert this dataframe to an interactive table.\"\n",
              "              style=\"display:none;\">\n",
              "        \n",
              "  <svg xmlns=\"http://www.w3.org/2000/svg\" height=\"24px\"viewBox=\"0 0 24 24\"\n",
              "       width=\"24px\">\n",
              "    <path d=\"M0 0h24v24H0V0z\" fill=\"none\"/>\n",
              "    <path d=\"M18.56 5.44l.94 2.06.94-2.06 2.06-.94-2.06-.94-.94-2.06-.94 2.06-2.06.94zm-11 1L8.5 8.5l.94-2.06 2.06-.94-2.06-.94L8.5 2.5l-.94 2.06-2.06.94zm10 10l.94 2.06.94-2.06 2.06-.94-2.06-.94-.94-2.06-.94 2.06-2.06.94z\"/><path d=\"M17.41 7.96l-1.37-1.37c-.4-.4-.92-.59-1.43-.59-.52 0-1.04.2-1.43.59L10.3 9.45l-7.72 7.72c-.78.78-.78 2.05 0 2.83L4 21.41c.39.39.9.59 1.41.59.51 0 1.02-.2 1.41-.59l7.78-7.78 2.81-2.81c.8-.78.8-2.07 0-2.86zM5.41 20L4 18.59l7.72-7.72 1.47 1.35L5.41 20z\"/>\n",
              "  </svg>\n",
              "      </button>\n",
              "      \n",
              "  <style>\n",
              "    .colab-df-container {\n",
              "      display:flex;\n",
              "      flex-wrap:wrap;\n",
              "      gap: 12px;\n",
              "    }\n",
              "\n",
              "    .colab-df-convert {\n",
              "      background-color: #E8F0FE;\n",
              "      border: none;\n",
              "      border-radius: 50%;\n",
              "      cursor: pointer;\n",
              "      display: none;\n",
              "      fill: #1967D2;\n",
              "      height: 32px;\n",
              "      padding: 0 0 0 0;\n",
              "      width: 32px;\n",
              "    }\n",
              "\n",
              "    .colab-df-convert:hover {\n",
              "      background-color: #E2EBFA;\n",
              "      box-shadow: 0px 1px 2px rgba(60, 64, 67, 0.3), 0px 1px 3px 1px rgba(60, 64, 67, 0.15);\n",
              "      fill: #174EA6;\n",
              "    }\n",
              "\n",
              "    [theme=dark] .colab-df-convert {\n",
              "      background-color: #3B4455;\n",
              "      fill: #D2E3FC;\n",
              "    }\n",
              "\n",
              "    [theme=dark] .colab-df-convert:hover {\n",
              "      background-color: #434B5C;\n",
              "      box-shadow: 0px 1px 3px 1px rgba(0, 0, 0, 0.15);\n",
              "      filter: drop-shadow(0px 1px 2px rgba(0, 0, 0, 0.3));\n",
              "      fill: #FFFFFF;\n",
              "    }\n",
              "  </style>\n",
              "\n",
              "      <script>\n",
              "        const buttonEl =\n",
              "          document.querySelector('#df-9820acd2-8069-4b92-ba62-a6c5488f54d4 button.colab-df-convert');\n",
              "        buttonEl.style.display =\n",
              "          google.colab.kernel.accessAllowed ? 'block' : 'none';\n",
              "\n",
              "        async function convertToInteractive(key) {\n",
              "          const element = document.querySelector('#df-9820acd2-8069-4b92-ba62-a6c5488f54d4');\n",
              "          const dataTable =\n",
              "            await google.colab.kernel.invokeFunction('convertToInteractive',\n",
              "                                                     [key], {});\n",
              "          if (!dataTable) return;\n",
              "\n",
              "          const docLinkHtml = 'Like what you see? Visit the ' +\n",
              "            '<a target=\"_blank\" href=https://colab.research.google.com/notebooks/data_table.ipynb>data table notebook</a>'\n",
              "            + ' to learn more about interactive tables.';\n",
              "          element.innerHTML = '';\n",
              "          dataTable['output_type'] = 'display_data';\n",
              "          await google.colab.output.renderOutput(dataTable, element);\n",
              "          const docLink = document.createElement('div');\n",
              "          docLink.innerHTML = docLinkHtml;\n",
              "          element.appendChild(docLink);\n",
              "        }\n",
              "      </script>\n",
              "    </div>\n",
              "  </div>\n",
              "  "
            ]
          },
          "metadata": {},
          "execution_count": 2
        }
      ],
      "source": [
        "cc_df=pd.read_json(\"/content/drive/MyDrive/Data/transactions.txt\",convert_dates=True, lines=True)\n",
        "cc_df.head(5)"
      ]
    },
    {
      "cell_type": "markdown",
      "metadata": {
        "id": "zenpXyEBbBPq"
      },
      "source": [
        "WE can see that ther are 786363 records and each record is denoted by 29 features which gives us information about all the transactions."
      ]
    },
    {
      "cell_type": "code",
      "execution_count": null,
      "metadata": {
        "colab": {
          "base_uri": "https://localhost:8080/"
        },
        "id": "xGW0-l3Valw5",
        "outputId": "408c19ae-30ef-413a-f636-ff00a5a7a5f2"
      },
      "outputs": [
        {
          "output_type": "execute_result",
          "data": {
            "text/plain": [
              "(786363, 29)"
            ]
          },
          "metadata": {},
          "execution_count": 3
        }
      ],
      "source": [
        "cc_df.shape\n",
        " "
      ]
    },
    {
      "cell_type": "code",
      "execution_count": null,
      "metadata": {
        "colab": {
          "base_uri": "https://localhost:8080/"
        },
        "id": "GfAP1TIpbCiV",
        "outputId": "e08926fa-29da-44d5-cb44-1b253ecba690"
      },
      "outputs": [
        {
          "output_type": "stream",
          "name": "stdout",
          "text": [
            "<class 'pandas.core.frame.DataFrame'>\n",
            "RangeIndex: 786363 entries, 0 to 786362\n",
            "Data columns (total 29 columns):\n",
            " #   Column                    Non-Null Count   Dtype  \n",
            "---  ------                    --------------   -----  \n",
            " 0   accountNumber             786363 non-null  int64  \n",
            " 1   customerId                786363 non-null  int64  \n",
            " 2   creditLimit               786363 non-null  int64  \n",
            " 3   availableMoney            786363 non-null  float64\n",
            " 4   transactionDateTime       786363 non-null  object \n",
            " 5   transactionAmount         786363 non-null  float64\n",
            " 6   merchantName              786363 non-null  object \n",
            " 7   acqCountry                786363 non-null  object \n",
            " 8   merchantCountryCode       786363 non-null  object \n",
            " 9   posEntryMode              786363 non-null  object \n",
            " 10  posConditionCode          786363 non-null  object \n",
            " 11  merchantCategoryCode      786363 non-null  object \n",
            " 12  currentExpDate            786363 non-null  object \n",
            " 13  accountOpenDate           786363 non-null  object \n",
            " 14  dateOfLastAddressChange   786363 non-null  object \n",
            " 15  cardCVV                   786363 non-null  int64  \n",
            " 16  enteredCVV                786363 non-null  int64  \n",
            " 17  cardLast4Digits           786363 non-null  int64  \n",
            " 18  transactionType           786363 non-null  object \n",
            " 19  echoBuffer                786363 non-null  object \n",
            " 20  currentBalance            786363 non-null  float64\n",
            " 21  merchantCity              786363 non-null  object \n",
            " 22  merchantState             786363 non-null  object \n",
            " 23  merchantZip               786363 non-null  object \n",
            " 24  cardPresent               786363 non-null  bool   \n",
            " 25  posOnPremises             786363 non-null  object \n",
            " 26  recurringAuthInd          786363 non-null  object \n",
            " 27  expirationDateKeyInMatch  786363 non-null  bool   \n",
            " 28  isFraud                   786363 non-null  bool   \n",
            "dtypes: bool(3), float64(3), int64(6), object(17)\n",
            "memory usage: 158.2+ MB\n"
          ]
        }
      ],
      "source": [
        "cc_df.info()"
      ]
    },
    {
      "cell_type": "markdown",
      "metadata": {
        "id": "EM8layRidg8w"
      },
      "source": [
        "There are no null values present in the data. But there could be some columns which just have singe value present for all rows. \n",
        "For example: After looking at the data I found out that merchantCity column had \"\" values for all the rows.\n",
        "Such a column is going to be of no use so we can discard them. \n",
        "If these columns have just a single value for all rows, it is going to be of no help in classifying fraud."
      ]
    },
    {
      "cell_type": "code",
      "execution_count": null,
      "metadata": {
        "colab": {
          "base_uri": "https://localhost:8080/"
        },
        "id": "3ash9mxXbdSd",
        "outputId": "73299b6a-944b-4d6d-f7d7-015ea2d30308"
      },
      "outputs": [
        {
          "output_type": "stream",
          "name": "stdout",
          "text": [
            "Columns to be discarded:  ['echoBuffer', 'merchantCity', 'merchantState', 'merchantZip', 'posOnPremises', 'recurringAuthInd']\n"
          ]
        }
      ],
      "source": [
        "discard_columns=[]\n",
        "for i in cc_df.columns:\n",
        "  if len(cc_df[i].value_counts())==1:\n",
        "    discard_columns.append(i)\n",
        "print(\"Columns to be discarded: \",discard_columns)"
      ]
    },
    {
      "cell_type": "code",
      "execution_count": null,
      "metadata": {
        "colab": {
          "base_uri": "https://localhost:8080/"
        },
        "id": "c6DdK1P_cwmk",
        "outputId": "fd455bd7-719d-4211-ca8d-651e6c060458"
      },
      "outputs": [
        {
          "output_type": "execute_result",
          "data": {
            "text/plain": [
              "(786363, 23)"
            ]
          },
          "metadata": {},
          "execution_count": 6
        }
      ],
      "source": [
        "cc_df.drop(discard_columns,axis=1,inplace=True)\n",
        "cc_df.shape"
      ]
    },
    {
      "cell_type": "code",
      "execution_count": null,
      "metadata": {
        "colab": {
          "base_uri": "https://localhost:8080/",
          "height": 297
        },
        "id": "JC4W3qkzeT7c",
        "outputId": "ab1ff143-379b-4af0-ebed-f3ca94350b8b"
      },
      "outputs": [
        {
          "output_type": "execute_result",
          "data": {
            "text/plain": [
              "       accountNumber    customerId    creditLimit  availableMoney  \\\n",
              "count   7.863630e+05  7.863630e+05  786363.000000   786363.000000   \n",
              "mean    5.372326e+08  5.372326e+08   10759.464459     6250.725369   \n",
              "std     2.554211e+08  2.554211e+08   11636.174890     8880.783989   \n",
              "min     1.000881e+08  1.000881e+08     250.000000    -1005.630000   \n",
              "25%     3.301333e+08  3.301333e+08    5000.000000     1077.420000   \n",
              "50%     5.074561e+08  5.074561e+08    7500.000000     3184.860000   \n",
              "75%     7.676200e+08  7.676200e+08   15000.000000     7500.000000   \n",
              "max     9.993896e+08  9.993896e+08   50000.000000    50000.000000   \n",
              "\n",
              "       transactionAmount        cardCVV     enteredCVV  cardLast4Digits  \\\n",
              "count      786363.000000  786363.000000  786363.000000    786363.000000   \n",
              "mean          136.985791     544.467338     544.183857      4757.417799   \n",
              "std           147.725569     261.524220     261.551254      2996.583810   \n",
              "min             0.000000     100.000000       0.000000         0.000000   \n",
              "25%            33.650000     310.000000     310.000000      2178.000000   \n",
              "50%            87.900000     535.000000     535.000000      4733.000000   \n",
              "75%           191.480000     785.000000     785.000000      7338.000000   \n",
              "max          2011.540000     998.000000     998.000000      9998.000000   \n",
              "\n",
              "       currentBalance  \n",
              "count   786363.000000  \n",
              "mean      4508.739089  \n",
              "std       6457.442068  \n",
              "min          0.000000  \n",
              "25%        689.910000  \n",
              "50%       2451.760000  \n",
              "75%       5291.095000  \n",
              "max      47498.810000  "
            ],
            "text/html": [
              "\n",
              "  <div id=\"df-b24d083d-e616-4a64-ac2e-837fe9f73d0d\">\n",
              "    <div class=\"colab-df-container\">\n",
              "      <div>\n",
              "<style scoped>\n",
              "    .dataframe tbody tr th:only-of-type {\n",
              "        vertical-align: middle;\n",
              "    }\n",
              "\n",
              "    .dataframe tbody tr th {\n",
              "        vertical-align: top;\n",
              "    }\n",
              "\n",
              "    .dataframe thead th {\n",
              "        text-align: right;\n",
              "    }\n",
              "</style>\n",
              "<table border=\"1\" class=\"dataframe\">\n",
              "  <thead>\n",
              "    <tr style=\"text-align: right;\">\n",
              "      <th></th>\n",
              "      <th>accountNumber</th>\n",
              "      <th>customerId</th>\n",
              "      <th>creditLimit</th>\n",
              "      <th>availableMoney</th>\n",
              "      <th>transactionAmount</th>\n",
              "      <th>cardCVV</th>\n",
              "      <th>enteredCVV</th>\n",
              "      <th>cardLast4Digits</th>\n",
              "      <th>currentBalance</th>\n",
              "    </tr>\n",
              "  </thead>\n",
              "  <tbody>\n",
              "    <tr>\n",
              "      <th>count</th>\n",
              "      <td>7.863630e+05</td>\n",
              "      <td>7.863630e+05</td>\n",
              "      <td>786363.000000</td>\n",
              "      <td>786363.000000</td>\n",
              "      <td>786363.000000</td>\n",
              "      <td>786363.000000</td>\n",
              "      <td>786363.000000</td>\n",
              "      <td>786363.000000</td>\n",
              "      <td>786363.000000</td>\n",
              "    </tr>\n",
              "    <tr>\n",
              "      <th>mean</th>\n",
              "      <td>5.372326e+08</td>\n",
              "      <td>5.372326e+08</td>\n",
              "      <td>10759.464459</td>\n",
              "      <td>6250.725369</td>\n",
              "      <td>136.985791</td>\n",
              "      <td>544.467338</td>\n",
              "      <td>544.183857</td>\n",
              "      <td>4757.417799</td>\n",
              "      <td>4508.739089</td>\n",
              "    </tr>\n",
              "    <tr>\n",
              "      <th>std</th>\n",
              "      <td>2.554211e+08</td>\n",
              "      <td>2.554211e+08</td>\n",
              "      <td>11636.174890</td>\n",
              "      <td>8880.783989</td>\n",
              "      <td>147.725569</td>\n",
              "      <td>261.524220</td>\n",
              "      <td>261.551254</td>\n",
              "      <td>2996.583810</td>\n",
              "      <td>6457.442068</td>\n",
              "    </tr>\n",
              "    <tr>\n",
              "      <th>min</th>\n",
              "      <td>1.000881e+08</td>\n",
              "      <td>1.000881e+08</td>\n",
              "      <td>250.000000</td>\n",
              "      <td>-1005.630000</td>\n",
              "      <td>0.000000</td>\n",
              "      <td>100.000000</td>\n",
              "      <td>0.000000</td>\n",
              "      <td>0.000000</td>\n",
              "      <td>0.000000</td>\n",
              "    </tr>\n",
              "    <tr>\n",
              "      <th>25%</th>\n",
              "      <td>3.301333e+08</td>\n",
              "      <td>3.301333e+08</td>\n",
              "      <td>5000.000000</td>\n",
              "      <td>1077.420000</td>\n",
              "      <td>33.650000</td>\n",
              "      <td>310.000000</td>\n",
              "      <td>310.000000</td>\n",
              "      <td>2178.000000</td>\n",
              "      <td>689.910000</td>\n",
              "    </tr>\n",
              "    <tr>\n",
              "      <th>50%</th>\n",
              "      <td>5.074561e+08</td>\n",
              "      <td>5.074561e+08</td>\n",
              "      <td>7500.000000</td>\n",
              "      <td>3184.860000</td>\n",
              "      <td>87.900000</td>\n",
              "      <td>535.000000</td>\n",
              "      <td>535.000000</td>\n",
              "      <td>4733.000000</td>\n",
              "      <td>2451.760000</td>\n",
              "    </tr>\n",
              "    <tr>\n",
              "      <th>75%</th>\n",
              "      <td>7.676200e+08</td>\n",
              "      <td>7.676200e+08</td>\n",
              "      <td>15000.000000</td>\n",
              "      <td>7500.000000</td>\n",
              "      <td>191.480000</td>\n",
              "      <td>785.000000</td>\n",
              "      <td>785.000000</td>\n",
              "      <td>7338.000000</td>\n",
              "      <td>5291.095000</td>\n",
              "    </tr>\n",
              "    <tr>\n",
              "      <th>max</th>\n",
              "      <td>9.993896e+08</td>\n",
              "      <td>9.993896e+08</td>\n",
              "      <td>50000.000000</td>\n",
              "      <td>50000.000000</td>\n",
              "      <td>2011.540000</td>\n",
              "      <td>998.000000</td>\n",
              "      <td>998.000000</td>\n",
              "      <td>9998.000000</td>\n",
              "      <td>47498.810000</td>\n",
              "    </tr>\n",
              "  </tbody>\n",
              "</table>\n",
              "</div>\n",
              "      <button class=\"colab-df-convert\" onclick=\"convertToInteractive('df-b24d083d-e616-4a64-ac2e-837fe9f73d0d')\"\n",
              "              title=\"Convert this dataframe to an interactive table.\"\n",
              "              style=\"display:none;\">\n",
              "        \n",
              "  <svg xmlns=\"http://www.w3.org/2000/svg\" height=\"24px\"viewBox=\"0 0 24 24\"\n",
              "       width=\"24px\">\n",
              "    <path d=\"M0 0h24v24H0V0z\" fill=\"none\"/>\n",
              "    <path d=\"M18.56 5.44l.94 2.06.94-2.06 2.06-.94-2.06-.94-.94-2.06-.94 2.06-2.06.94zm-11 1L8.5 8.5l.94-2.06 2.06-.94-2.06-.94L8.5 2.5l-.94 2.06-2.06.94zm10 10l.94 2.06.94-2.06 2.06-.94-2.06-.94-.94-2.06-.94 2.06-2.06.94z\"/><path d=\"M17.41 7.96l-1.37-1.37c-.4-.4-.92-.59-1.43-.59-.52 0-1.04.2-1.43.59L10.3 9.45l-7.72 7.72c-.78.78-.78 2.05 0 2.83L4 21.41c.39.39.9.59 1.41.59.51 0 1.02-.2 1.41-.59l7.78-7.78 2.81-2.81c.8-.78.8-2.07 0-2.86zM5.41 20L4 18.59l7.72-7.72 1.47 1.35L5.41 20z\"/>\n",
              "  </svg>\n",
              "      </button>\n",
              "      \n",
              "  <style>\n",
              "    .colab-df-container {\n",
              "      display:flex;\n",
              "      flex-wrap:wrap;\n",
              "      gap: 12px;\n",
              "    }\n",
              "\n",
              "    .colab-df-convert {\n",
              "      background-color: #E8F0FE;\n",
              "      border: none;\n",
              "      border-radius: 50%;\n",
              "      cursor: pointer;\n",
              "      display: none;\n",
              "      fill: #1967D2;\n",
              "      height: 32px;\n",
              "      padding: 0 0 0 0;\n",
              "      width: 32px;\n",
              "    }\n",
              "\n",
              "    .colab-df-convert:hover {\n",
              "      background-color: #E2EBFA;\n",
              "      box-shadow: 0px 1px 2px rgba(60, 64, 67, 0.3), 0px 1px 3px 1px rgba(60, 64, 67, 0.15);\n",
              "      fill: #174EA6;\n",
              "    }\n",
              "\n",
              "    [theme=dark] .colab-df-convert {\n",
              "      background-color: #3B4455;\n",
              "      fill: #D2E3FC;\n",
              "    }\n",
              "\n",
              "    [theme=dark] .colab-df-convert:hover {\n",
              "      background-color: #434B5C;\n",
              "      box-shadow: 0px 1px 3px 1px rgba(0, 0, 0, 0.15);\n",
              "      filter: drop-shadow(0px 1px 2px rgba(0, 0, 0, 0.3));\n",
              "      fill: #FFFFFF;\n",
              "    }\n",
              "  </style>\n",
              "\n",
              "      <script>\n",
              "        const buttonEl =\n",
              "          document.querySelector('#df-b24d083d-e616-4a64-ac2e-837fe9f73d0d button.colab-df-convert');\n",
              "        buttonEl.style.display =\n",
              "          google.colab.kernel.accessAllowed ? 'block' : 'none';\n",
              "\n",
              "        async function convertToInteractive(key) {\n",
              "          const element = document.querySelector('#df-b24d083d-e616-4a64-ac2e-837fe9f73d0d');\n",
              "          const dataTable =\n",
              "            await google.colab.kernel.invokeFunction('convertToInteractive',\n",
              "                                                     [key], {});\n",
              "          if (!dataTable) return;\n",
              "\n",
              "          const docLinkHtml = 'Like what you see? Visit the ' +\n",
              "            '<a target=\"_blank\" href=https://colab.research.google.com/notebooks/data_table.ipynb>data table notebook</a>'\n",
              "            + ' to learn more about interactive tables.';\n",
              "          element.innerHTML = '';\n",
              "          dataTable['output_type'] = 'display_data';\n",
              "          await google.colab.output.renderOutput(dataTable, element);\n",
              "          const docLink = document.createElement('div');\n",
              "          docLink.innerHTML = docLinkHtml;\n",
              "          element.appendChild(docLink);\n",
              "        }\n",
              "      </script>\n",
              "    </div>\n",
              "  </div>\n",
              "  "
            ]
          },
          "metadata": {},
          "execution_count": 7
        }
      ],
      "source": [
        "cc_df.describe()"
      ]
    },
    {
      "cell_type": "code",
      "execution_count": null,
      "metadata": {
        "colab": {
          "base_uri": "https://localhost:8080/",
          "height": 296
        },
        "id": "BFVN7RQOeoAn",
        "outputId": "e910658b-271e-43f2-9dfe-8b7ed62d3940"
      },
      "outputs": [
        {
          "data": {
            "text/plain": [
              "<matplotlib.axes._subplots.AxesSubplot at 0x7f6b5eafa510>"
            ]
          },
          "execution_count": 8,
          "metadata": {},
          "output_type": "execute_result"
        },
        {
          "data": {
            "image/png": "[encoded data removed]",
            "text/plain": [
              "<Figure size 432x288 with 2 Axes>"
            ]
          },
          "metadata": {},
          "output_type": "display_data"
        }
      ],
      "source": [
        "fig, axes = plt.subplots(1,2)\n",
        "sns.boxplot(x=cc_df[\"transactionAmount\"],ax=axes[0])\n",
        "sns.boxplot(x=cc_df[\"currentBalance\"],ax=axes[1])\n"
      ]
    },
    {
      "cell_type": "code",
      "execution_count": null,
      "metadata": {
        "colab": {
          "base_uri": "https://localhost:8080/",
          "height": 282
        },
        "id": "zWjNTPUshsZd",
        "outputId": "78ee8f90-c296-4fb2-fd76-cb12f639c038"
      },
      "outputs": [
        {
          "data": {
            "text/plain": [
              "<matplotlib.axes._subplots.AxesSubplot at 0x7f6b5ea0f290>"
            ]
          },
          "execution_count": 9,
          "metadata": {},
          "output_type": "execute_result"
        },
        {
          "data": {
            "image/png": "[encoded data removed]",
            "text/plain": [
              "<Figure size 432x288 with 1 Axes>"
            ]
          },
          "metadata": {},
          "output_type": "display_data"
        }
      ],
      "source": [
        "cc_df[\"transactionAmount\"].plot.hist(bins=20, alpha=0.9)"
      ]
    },
    {
      "cell_type": "markdown",
      "metadata": {
        "id": "pHCR8COohxl5"
      },
      "source": [
        "From the plots we can say that the data is present in a skewed and unnormalized format.\n",
        "So, if we are using some regression or vector machines, we will first have to normalize the data."
      ]
    },
    {
      "cell_type": "markdown",
      "metadata": {
        "id": "94jJpno8hS_j"
      },
      "source": [
        "As we will require dates for further transacctions we will convert dates from object to datetime values "
      ]
    },
    {
      "cell_type": "code",
      "execution_count": null,
      "metadata": {
        "id": "b9qxsEfXfQPd"
      },
      "outputs": [],
      "source": [
        "cc_df['transactionDateTime'] = pd.to_datetime(cc_df['transactionDateTime'])\n",
        "cc_df['currentExpDate'] = pd.to_datetime(cc_df['currentExpDate'])\n",
        "cc_df['accountOpenDate'] = pd.to_datetime(cc_df['accountOpenDate'])\n",
        "cc_df['dateOfLastAddressChange'] = pd.to_datetime(cc_df['dateOfLastAddressChange'])"
      ]
    },
    {
      "cell_type": "markdown",
      "metadata": {
        "id": "duoGyARsiIpo"
      },
      "source": [
        "1. Checking for reversed transactions\n",
        "\n",
        "- I initially seperated the data based on purchase and reversal transactionType. I though of using a merge function on them using accountNumber, amount,merchantName to find out identical transactions which had gotten reversed. But as our dataset is very big, the merge operation kept failing.\n",
        "- Hence I tried an iterative approach"
      ]
    },
    {
      "cell_type": "code",
      "execution_count": null,
      "metadata": {
        "colab": {
          "background_save": true,
          "base_uri": "https://localhost:8080/"
        },
        "id": "_r1dAvlphc7F",
        "outputId": "aeca46d8-3688-412e-ac73-6a5b1d995a73"
      },
      "outputs": [
        {
          "name": "stdout",
          "output_type": "stream",
          "text": [
            "(745193, 23) (20303, 23)\n",
            "17447  Total transaction amount:  2624724.369999987\n"
          ]
        }
      ],
      "source": [
        "\n",
        "# merged=purchases.merge(reversal, on='accountNumber', how='inner', indicator=True) \\\n",
        "#     .query(purchases.transactionAmount==reversal.transactionAmount)\n",
        "\n",
        "# merged.head(10)\n",
        "\n",
        "purchases=cc_df[cc_df.transactionType==\"PURCHASE\"]\n",
        "reversal=cc_df[cc_df.transactionType==\"REVERSAL\"]\n",
        "print(purchases.shape,reversal.shape)\n",
        "count=0\n",
        "totaltransactionAmount=0\n",
        "for val,cost,merchant in zip(reversal.accountNumber,reversal.transactionAmount,reversal.merchantName):\n",
        "  dd=purchases[(purchases.accountNumber==val) & (purchases.merchantName==merchant)]\n",
        "  if dd[dd.transactionAmount==cost].shape[0]==1:\n",
        "    totaltransactionAmount+=cost\n",
        "    count+=1\n",
        "print(count,\" Total transaction amount: \",totaltransactionAmount)\n",
        "\n",
        "\n"
      ]
    },
    {
      "cell_type": "markdown",
      "source": [
        "Hence we have total 17447 transactions which are reversal transactions and total amount of these transactions is 2624724 dollars "
      ],
      "metadata": {
        "id": "pP0ZKrY0nmhQ"
      }
    },
    {
      "cell_type": "code",
      "execution_count": null,
      "metadata": {
        "colab": {
          "background_save": true
        },
        "id": "y82C6B_JjlyC"
      },
      "outputs": [],
      "source": [
        "cc_df=cc_df.sort_values(by=[\"accountNumber\",\"transactionAmount\",\"transactionDateTime\"])\n",
        "cc_df = cc_df.reset_index(drop=True)"
      ]
    },
    {
      "cell_type": "markdown",
      "metadata": {
        "id": "-qY9rRX9lf0X"
      },
      "source": [
        "2. Multi-swipe transactions\n",
        "-  Firstly, I sorted the data by accountNumber and then transactionAmount.\n",
        "- Here we are only concerned with trasactionType=\"Purchase\". I am not taking address verification into consideration becasue for that the transaction amounts are mostly zero.\n",
        "- Simply checking lagged data to see if there was a repeated transaction in becasue if it is a multi swipe transaction then it should have occured in a very short span of time i.e. within a minute or two and its not possible that the user will make iany other transaction in such a short span of time "
      ]
    },
    {
      "cell_type": "code",
      "execution_count": null,
      "metadata": {
        "colab": {
          "background_save": true
        },
        "id": "5qNB8HTZlUV6",
        "outputId": "bd7df270-8e3e-4761-e550-86d2d4e71114"
      },
      "outputs": [
        {
          "name": "stdout",
          "output_type": "stream",
          "text": [
            "Number of multiswap oerations:  7443 Total amount:  1102145.0600000024\n"
          ]
        }
      ],
      "source": [
        "count=0\n",
        "totalAmt=0\n",
        "purchases=cc_df[cc_df.transactionType==\"PURCHASE\"].reset_index(drop=True)\n",
        "# print(purchases.index)\n",
        "# for i in range(len(purchases.index)):\n",
        "#   if i>0 and purchases.index[i]-purchases.index[i-1]!=1:\n",
        "#     print(purchases.index[i],purchases.index[i-1])\n",
        "for idx,rows in purchases.iterrows():\n",
        "  # print(idx)\n",
        "  if idx>0 and purchases.iloc[idx].transactionType==\"PURCHASE\" and purchases.iloc[idx].accountNumber==purchases.iloc[idx-1].accountNumber\\\n",
        "   and purchases.iloc[idx].transactionAmount==purchases.iloc[idx-1].transactionAmount and \\\n",
        "  abs(purchases.iloc[idx].transactionDateTime.date()-purchases.iloc[idx-1].transactionDateTime.date()).total_seconds()<60 and\\\n",
        "   purchases.iloc[idx].merchantName==purchases.iloc[idx-1].merchantName:\n",
        "    count+=1\n",
        "    totalAmt+=purchases.iloc[idx].transactionAmount\n",
        "    # print(min_df.iloc[idx].accountNumber,min_df.iloc[idx].transactionDateTime,min_df.iloc[idx].transactionAmount)\n",
        "print(\"Number of multiswap oerations: \",count,\"Total amount: \",totalAmt)"
      ]
    },
    {
      "cell_type": "markdown",
      "source": [
        "Hence the number of multiswap transactions which have occured are 7443 and total value without taking the first transaction into consideration is 1102145 dollars "
      ],
      "metadata": {
        "id": "PFCI9tVQn4xP"
      }
    },
    {
      "cell_type": "code",
      "execution_count": null,
      "metadata": {
        "colab": {
          "background_save": true
        },
        "id": "Gq2lAKxOruUf",
        "outputId": "4732e458-ed74-43dc-e542-7cc7e1ab354c"
      },
      "outputs": [
        {
          "data": {
            "text/plain": [
              "((12417, 23), (773946, 23))"
            ]
          },
          "execution_count": 14,
          "metadata": {},
          "output_type": "execute_result"
        }
      ],
      "source": [
        "isFraud=cc_df[cc_df.isFraud==True]\n",
        "notFraud=cc_df[cc_df.isFraud==False]\n",
        "isFraud.shape,notFraud.shape"
      ]
    },
    {
      "cell_type": "code",
      "execution_count": null,
      "metadata": {
        "colab": {
          "background_save": true
        },
        "id": "FE1ajkoQtAS4",
        "outputId": "50176a42-62ee-4929-e103-5161e7fd59df"
      },
      "outputs": [
        {
          "data": {
            "text/plain": [
              "<matplotlib.axes._subplots.AxesSubplot at 0x7f6b5eaf6dd0>"
            ]
          },
          "execution_count": 15,
          "metadata": {},
          "output_type": "execute_result"
        },
        {
          "name": "stderr",
          "output_type": "stream",
          "text": [
            "/usr/local/lib/python3.7/dist-packages/IPython/core/events.py:88: UserWarning: Creating legend with loc=\"best\" can be slow with large amounts of data.\n",
            "  func(*args, **kwargs)\n",
            "/usr/local/lib/python3.7/dist-packages/IPython/core/pylabtools.py:128: UserWarning: Creating legend with loc=\"best\" can be slow with large amounts of data.\n",
            "  fig.canvas.print_figure(bytes_io, **kw)\n"
          ]
        },
        {
          "data": {
            "image/png": "[encoded data removed]",
            "text/plain": [
              "<Figure size 432x288 with 2 Axes>"
            ]
          },
          "metadata": {},
          "output_type": "display_data"
        }
      ],
      "source": [
        "fig, axes = plt.subplots(1,2)\n",
        "sns.scatterplot(data=cc_df, x=\"transactionAmount\", y=\"currentBalance\",hue=\"isFraud\",ax=axes[0])\n",
        "sns.scatterplot(data=cc_df, x=\"availableMoney\", y=\"transactionAmount\",hue=\"isFraud\",ax=axes[1])\n"
      ]
    },
    {
      "cell_type": "code",
      "execution_count": null,
      "metadata": {
        "colab": {
          "background_save": true
        },
        "id": "Vewz5qGmlUZP",
        "outputId": "829cfa4a-0488-4a12-fdf1-dffc41ec8ead"
      },
      "outputs": [
        {
          "name": "stdout",
          "output_type": "stream",
          "text": [
            "(786363, 23)\n"
          ]
        },
        {
          "data": {
            "image/png": "[encoded data removed]",
            "text/plain": [
              "<Figure size 432x288 with 2 Axes>"
            ]
          },
          "metadata": {},
          "output_type": "display_data"
        }
      ],
      "source": [
        "from matplotlib import pyplot as plt\n",
        "import seaborn as sns\n",
        "print(cc_df.shape)\n",
        "corr = cc_df.corr()\n",
        "sns.heatmap(corr,xticklabels=corr.columns,yticklabels=corr.columns,linewidths=.1,cmap=\"Reds\")\n",
        "plt.show()"
      ]
    },
    {
      "cell_type": "markdown",
      "metadata": {
        "id": "MlItXLplte-F"
      },
      "source": [
        "- From the correlation plot we can see that currentBalance and creditLimit are higlhy correlated and using them both in the model could lead to multi-collinearity issues. Hence e can drop one of the columns.\n",
        "- Columns like enteredCVV and cardCVV are also mismated only for non fraud values. Hence they wont be good indicators for classification. I dropped those columns too.\n",
        "- CustomerId and AccountNumber are unique key ids so I dropped them. \n",
        "\n"
      ]
    },
    {
      "cell_type": "code",
      "execution_count": null,
      "metadata": {
        "colab": {
          "background_save": true
        },
        "id": "cCqdqHv9lUbs",
        "outputId": "00ff2be7-c0bb-4559-f9f1-556a148bec41"
      },
      "outputs": [
        {
          "name": "stderr",
          "output_type": "stream",
          "text": [
            "/usr/local/lib/python3.7/dist-packages/ipykernel_launcher.py:6: SettingWithCopyWarning: \n",
            "A value is trying to be set on a copy of a slice from a DataFrame.\n",
            "Try using .loc[row_indexer,col_indexer] = value instead\n",
            "\n",
            "See the caveats in the documentation: https://pandas.pydata.org/pandas-docs/stable/user_guide/indexing.html#returning-a-view-versus-a-copy\n",
            "  \n",
            "/usr/local/lib/python3.7/dist-packages/ipykernel_launcher.py:7: SettingWithCopyWarning: \n",
            "A value is trying to be set on a copy of a slice from a DataFrame.\n",
            "Try using .loc[row_indexer,col_indexer] = value instead\n",
            "\n",
            "See the caveats in the documentation: https://pandas.pydata.org/pandas-docs/stable/user_guide/indexing.html#returning-a-view-versus-a-copy\n",
            "  import sys\n",
            "/usr/local/lib/python3.7/dist-packages/ipykernel_launcher.py:9: SettingWithCopyWarning: \n",
            "A value is trying to be set on a copy of a slice from a DataFrame.\n",
            "Try using .loc[row_indexer,col_indexer] = value instead\n",
            "\n",
            "See the caveats in the documentation: https://pandas.pydata.org/pandas-docs/stable/user_guide/indexing.html#returning-a-view-versus-a-copy\n",
            "  if __name__ == '__main__':\n",
            "/usr/local/lib/python3.7/dist-packages/pandas/core/generic.py:5516: SettingWithCopyWarning: \n",
            "A value is trying to be set on a copy of a slice from a DataFrame.\n",
            "Try using .loc[row_indexer,col_indexer] = value instead\n",
            "\n",
            "See the caveats in the documentation: https://pandas.pydata.org/pandas-docs/stable/user_guide/indexing.html#returning-a-view-versus-a-copy\n",
            "  self[name] = value\n"
          ]
        },
        {
          "data": {
            "image/png": "[encoded data removed]",
            "text/plain": [
              "<Figure size 432x288 with 2 Axes>"
            ]
          },
          "metadata": {},
          "output_type": "display_data"
        },
        {
          "data": {
            "text/html": [
              "\n",
              "  <div id=\"df-49fd376b-c8f4-47ff-8d83-efdf4d58bdd3\">\n",
              "    <div class=\"colab-df-container\">\n",
              "      <div>\n",
              "<style scoped>\n",
              "    .dataframe tbody tr th:only-of-type {\n",
              "        vertical-align: middle;\n",
              "    }\n",
              "\n",
              "    .dataframe tbody tr th {\n",
              "        vertical-align: top;\n",
              "    }\n",
              "\n",
              "    .dataframe thead th {\n",
              "        text-align: right;\n",
              "    }\n",
              "</style>\n",
              "<table border=\"1\" class=\"dataframe\">\n",
              "  <thead>\n",
              "    <tr style=\"text-align: right;\">\n",
              "      <th></th>\n",
              "      <th>creditLimit</th>\n",
              "      <th>availableMoney</th>\n",
              "      <th>transactionAmount</th>\n",
              "      <th>merchantName</th>\n",
              "      <th>transactionType</th>\n",
              "      <th>merchantCategoryCode</th>\n",
              "      <th>cardLast4Digits</th>\n",
              "      <th>cardPresent</th>\n",
              "      <th>isFraud</th>\n",
              "    </tr>\n",
              "  </thead>\n",
              "  <tbody>\n",
              "    <tr>\n",
              "      <th>0</th>\n",
              "      <td>50000</td>\n",
              "      <td>49856.19</td>\n",
              "      <td>0.25</td>\n",
              "      <td>1531</td>\n",
              "      <td>1</td>\n",
              "      <td>3</td>\n",
              "      <td>2077</td>\n",
              "      <td>1</td>\n",
              "      <td>0</td>\n",
              "    </tr>\n",
              "    <tr>\n",
              "      <th>1</th>\n",
              "      <td>50000</td>\n",
              "      <td>49560.51</td>\n",
              "      <td>1.14</td>\n",
              "      <td>34</td>\n",
              "      <td>1</td>\n",
              "      <td>3</td>\n",
              "      <td>2077</td>\n",
              "      <td>1</td>\n",
              "      <td>0</td>\n",
              "    </tr>\n",
              "    <tr>\n",
              "      <th>2</th>\n",
              "      <td>50000</td>\n",
              "      <td>50000.00</td>\n",
              "      <td>3.96</td>\n",
              "      <td>43</td>\n",
              "      <td>1</td>\n",
              "      <td>12</td>\n",
              "      <td>4615</td>\n",
              "      <td>0</td>\n",
              "      <td>0</td>\n",
              "    </tr>\n",
              "    <tr>\n",
              "      <th>3</th>\n",
              "      <td>50000</td>\n",
              "      <td>49695.85</td>\n",
              "      <td>3.96</td>\n",
              "      <td>43</td>\n",
              "      <td>1</td>\n",
              "      <td>12</td>\n",
              "      <td>4615</td>\n",
              "      <td>0</td>\n",
              "      <td>0</td>\n",
              "    </tr>\n",
              "    <tr>\n",
              "      <th>4</th>\n",
              "      <td>50000</td>\n",
              "      <td>50000.00</td>\n",
              "      <td>3.96</td>\n",
              "      <td>43</td>\n",
              "      <td>1</td>\n",
              "      <td>12</td>\n",
              "      <td>4615</td>\n",
              "      <td>0</td>\n",
              "      <td>0</td>\n",
              "    </tr>\n",
              "  </tbody>\n",
              "</table>\n",
              "</div>\n",
              "      <button class=\"colab-df-convert\" onclick=\"convertToInteractive('df-49fd376b-c8f4-47ff-8d83-efdf4d58bdd3')\"\n",
              "              title=\"Convert this dataframe to an interactive table.\"\n",
              "              style=\"display:none;\">\n",
              "        \n",
              "  <svg xmlns=\"http://www.w3.org/2000/svg\" height=\"24px\"viewBox=\"0 0 24 24\"\n",
              "       width=\"24px\">\n",
              "    <path d=\"M0 0h24v24H0V0z\" fill=\"none\"/>\n",
              "    <path d=\"M18.56 5.44l.94 2.06.94-2.06 2.06-.94-2.06-.94-.94-2.06-.94 2.06-2.06.94zm-11 1L8.5 8.5l.94-2.06 2.06-.94-2.06-.94L8.5 2.5l-.94 2.06-2.06.94zm10 10l.94 2.06.94-2.06 2.06-.94-2.06-.94-.94-2.06-.94 2.06-2.06.94z\"/><path d=\"M17.41 7.96l-1.37-1.37c-.4-.4-.92-.59-1.43-.59-.52 0-1.04.2-1.43.59L10.3 9.45l-7.72 7.72c-.78.78-.78 2.05 0 2.83L4 21.41c.39.39.9.59 1.41.59.51 0 1.02-.2 1.41-.59l7.78-7.78 2.81-2.81c.8-.78.8-2.07 0-2.86zM5.41 20L4 18.59l7.72-7.72 1.47 1.35L5.41 20z\"/>\n",
              "  </svg>\n",
              "      </button>\n",
              "      \n",
              "  <style>\n",
              "    .colab-df-container {\n",
              "      display:flex;\n",
              "      flex-wrap:wrap;\n",
              "      gap: 12px;\n",
              "    }\n",
              "\n",
              "    .colab-df-convert {\n",
              "      background-color: #E8F0FE;\n",
              "      border: none;\n",
              "      border-radius: 50%;\n",
              "      cursor: pointer;\n",
              "      display: none;\n",
              "      fill: #1967D2;\n",
              "      height: 32px;\n",
              "      padding: 0 0 0 0;\n",
              "      width: 32px;\n",
              "    }\n",
              "\n",
              "    .colab-df-convert:hover {\n",
              "      background-color: #E2EBFA;\n",
              "      box-shadow: 0px 1px 2px rgba(60, 64, 67, 0.3), 0px 1px 3px 1px rgba(60, 64, 67, 0.15);\n",
              "      fill: #174EA6;\n",
              "    }\n",
              "\n",
              "    [theme=dark] .colab-df-convert {\n",
              "      background-color: #3B4455;\n",
              "      fill: #D2E3FC;\n",
              "    }\n",
              "\n",
              "    [theme=dark] .colab-df-convert:hover {\n",
              "      background-color: #434B5C;\n",
              "      box-shadow: 0px 1px 3px 1px rgba(0, 0, 0, 0.15);\n",
              "      filter: drop-shadow(0px 1px 2px rgba(0, 0, 0, 0.3));\n",
              "      fill: #FFFFFF;\n",
              "    }\n",
              "  </style>\n",
              "\n",
              "      <script>\n",
              "        const buttonEl =\n",
              "          document.querySelector('#df-49fd376b-c8f4-47ff-8d83-efdf4d58bdd3 button.colab-df-convert');\n",
              "        buttonEl.style.display =\n",
              "          google.colab.kernel.accessAllowed ? 'block' : 'none';\n",
              "\n",
              "        async function convertToInteractive(key) {\n",
              "          const element = document.querySelector('#df-49fd376b-c8f4-47ff-8d83-efdf4d58bdd3');\n",
              "          const dataTable =\n",
              "            await google.colab.kernel.invokeFunction('convertToInteractive',\n",
              "                                                     [key], {});\n",
              "          if (!dataTable) return;\n",
              "\n",
              "          const docLinkHtml = 'Like what you see? Visit the ' +\n",
              "            '<a target=\"_blank\" href=https://colab.research.google.com/notebooks/data_table.ipynb>data table notebook</a>'\n",
              "            + ' to learn more about interactive tables.';\n",
              "          element.innerHTML = '';\n",
              "          dataTable['output_type'] = 'display_data';\n",
              "          await google.colab.output.renderOutput(dataTable, element);\n",
              "          const docLink = document.createElement('div');\n",
              "          docLink.innerHTML = docLinkHtml;\n",
              "          element.appendChild(docLink);\n",
              "        }\n",
              "      </script>\n",
              "    </div>\n",
              "  </div>\n",
              "  "
            ],
            "text/plain": [
              "   creditLimit  availableMoney  transactionAmount  merchantName  \\\n",
              "0        50000        49856.19               0.25          1531   \n",
              "1        50000        49560.51               1.14            34   \n",
              "2        50000        50000.00               3.96            43   \n",
              "3        50000        49695.85               3.96            43   \n",
              "4        50000        50000.00               3.96            43   \n",
              "\n",
              "   transactionType  merchantCategoryCode  cardLast4Digits  cardPresent  \\\n",
              "0                1                     3             2077            1   \n",
              "1                1                     3             2077            1   \n",
              "2                1                    12             4615            0   \n",
              "3                1                    12             4615            0   \n",
              "4                1                    12             4615            0   \n",
              "\n",
              "   isFraud  \n",
              "0        0  \n",
              "1        0  \n",
              "2        0  \n",
              "3        0  \n",
              "4        0  "
            ]
          },
          "execution_count": 17,
          "metadata": {},
          "output_type": "execute_result"
        }
      ],
      "source": [
        "le = preprocessing.LabelEncoder()\n",
        "\n",
        "pred_cols=[\"creditLimit\",\"availableMoney\",\"transactionAmount\",\"merchantName\",\"transactionType\",\\\n",
        "           \"merchantCategoryCode\",\"cardLast4Digits\",\"cardPresent\",\"isFraud\"]\n",
        "pred_df=cc_df[pred_cols]\n",
        "pred_df['merchantName'] = le.fit_transform(pred_df.merchantName.values)\n",
        "pred_df['merchantCategoryCode'] = le.fit_transform(pred_df.merchantCategoryCode.values)\n",
        "# pred_df.drop([\"merchantCity\",\"merchantState\",\"merchantZip\"],axis=1,inplace=True)\n",
        "pred_df['isFraud'] = le.fit_transform(pred_df.isFraud.values)\n",
        "# pred_df.isFraud=pred_df.isFraud.map({False:0,True:1})\n",
        "pred_df.cardPresent=pred_df.cardPresent.map({False:0,True:1})\n",
        "pred_df.transactionType=pred_df.transactionType.map({\"PURCHASE\":1,\"REVERSAL\":2,\"ADDRESS_VERIFICATION\":3,\"\":0})\n",
        "\n",
        "corr = pred_df.corr()\n",
        "sns.heatmap(corr,xticklabels=corr.columns,yticklabels=corr.columns,linewidths=.1,cmap=\"Reds\")\n",
        "plt.show()\n",
        "\n",
        "\n",
        "pred_df.head(5)"
      ]
    },
    {
      "cell_type": "markdown",
      "metadata": {
        "id": "TYrWdBThsB5P"
      },
      "source": [
        "Our class distribution is imbalanced, we have very less information for relevant class data i.e. isFraud.\n",
        "Hence we can try diifferent data augmentation techniques to upscale or downscale the data. \n",
        "Given the situation, it is better to upscale the data so that we do not lose any important datapoints. \n",
        "\n",
        "I tried to use SMOTE data augmentation technique but found out that the fraud and not fraud datapoints are too close to each other and there is not clear distiguition between them. IT can be seen in the scatter plot that the points are too close and hence using SMOTE will not be helpful, it will just confuse the model more."
      ]
    },
    {
      "cell_type": "code",
      "execution_count": null,
      "metadata": {
        "colab": {
          "background_save": true
        },
        "id": "J1WjmJBeCn-Q",
        "outputId": "ef5efe54-fec7-4433-89bd-37d71701c726"
      },
      "outputs": [
        {
          "name": "stdout",
          "output_type": "stream",
          "text": [
            "(786363, 9) (12417, 9)\n"
          ]
        },
        {
          "data": {
            "text/plain": [
              "(823614, 9)"
            ]
          },
          "execution_count": 18,
          "metadata": {},
          "output_type": "execute_result"
        }
      ],
      "source": [
        "augment=pred_df[pred_df.isFraud==1]\n",
        "print(pred_df.shape,augment.shape)\n",
        "pred_df=pd.concat([pred_df,augment,augment,augment],ignore_index=True)\n",
        "pred_df.shape"
      ]
    },
    {
      "cell_type": "code",
      "execution_count": null,
      "metadata": {
        "colab": {
          "background_save": true
        },
        "id": "SR3heEgmlUeq",
        "outputId": "9730f4e4-85c7-4a79-f119-c33427c44965"
      },
      "outputs": [
        {
          "name": "stdout",
          "output_type": "stream",
          "text": [
            "<class 'pandas.core.frame.DataFrame'>\n",
            "RangeIndex: 823614 entries, 0 to 823613\n",
            "Data columns (total 9 columns):\n",
            " #   Column                Non-Null Count   Dtype  \n",
            "---  ------                --------------   -----  \n",
            " 0   creditLimit           823614 non-null  int64  \n",
            " 1   availableMoney        823614 non-null  float64\n",
            " 2   transactionAmount     823614 non-null  float64\n",
            " 3   merchantName          823614 non-null  int64  \n",
            " 4   transactionType       823614 non-null  int64  \n",
            " 5   merchantCategoryCode  823614 non-null  int64  \n",
            " 6   cardLast4Digits       823614 non-null  int64  \n",
            " 7   cardPresent           823614 non-null  int64  \n",
            " 8   isFraud               823614 non-null  int64  \n",
            "dtypes: float64(2), int64(7)\n",
            "memory usage: 56.6 MB\n"
          ]
        }
      ],
      "source": [
        "pred_df.info()"
      ]
    },
    {
      "cell_type": "markdown",
      "metadata": {
        "id": "ai4JjeEtDF8_"
      },
      "source": [
        "- \n",
        "\n"
      ]
    },
    {
      "cell_type": "code",
      "execution_count": null,
      "metadata": {
        "colab": {
          "background_save": true
        },
        "id": "KkIcf1a8lUhi"
      },
      "outputs": [],
      "source": [
        "VALID_SIZE = 0.20 # simple validation using train_test_split\n",
        "TEST_SIZE = 0.30\n",
        "X=pred_df.iloc[:,:-1]\n",
        "y=pred_df.iloc[:,-1]\n",
        "train_X,test_X,train_y,test_y= train_test_split(X,y, test_size=TEST_SIZE, shuffle=True, stratify=y )\n",
        "train_X,valid_X,train_y,valid_y = train_test_split(train_X,train_y, test_size=VALID_SIZE, shuffle=True, stratify=train_y )\n",
        "\n"
      ]
    },
    {
      "cell_type": "code",
      "execution_count": null,
      "metadata": {
        "colab": {
          "background_save": true
        },
        "id": "ztU2wjtOE8oz",
        "outputId": "7e4b7451-5a02-4ded-a1b8-9681c5506964"
      },
      "outputs": [
        {
          "data": {
            "text/plain": [
              "RandomForestClassifier(n_jobs=1, verbose=False)"
            ]
          },
          "execution_count": 21,
          "metadata": {},
          "output_type": "execute_result"
        }
      ],
      "source": [
        "RFC_METRIC = 'gini'  #metric used for RandomForrestClassifier\n",
        "NUM_ESTIMATORS = 100 #number of estimators used for RandomForrestClassifier\n",
        "NO_JOBS = 1\n",
        "\n",
        "clf = RandomForestClassifier(n_jobs=NO_JOBS, \n",
        "                        \n",
        "                             criterion=RFC_METRIC,\n",
        "                             n_estimators=NUM_ESTIMATORS,\n",
        "                             verbose=False)\n",
        "clf.fit(train_X, train_y.values)"
      ]
    },
    {
      "cell_type": "code",
      "execution_count": null,
      "metadata": {
        "colab": {
          "background_save": true
        },
        "id": "ziQrg3HXlUkH"
      },
      "outputs": [],
      "source": [
        "preds=clf.predict(test_X)"
      ]
    },
    {
      "cell_type": "code",
      "execution_count": null,
      "metadata": {
        "colab": {
          "background_save": true
        },
        "id": "xVU2jjMDE8EN",
        "outputId": "54905fbd-f987-4030-b155-963dc46fd343"
      },
      "outputs": [
        {
          "data": {
            "image/png": "[encoded data removed]",
            "text/plain": [
              "<Figure size 504x288 with 1 Axes>"
            ]
          },
          "metadata": {},
          "output_type": "display_data"
        }
      ],
      "source": [
        "from matplotlib import pyplot as plt\n",
        "tmp = pd.DataFrame({'Feature': train_X.columns, 'Feature importance': clf.feature_importances_})\n",
        "tmp = tmp.sort_values(by='Feature importance',ascending=False)\n",
        "plt.figure(figsize = (7,4))\n",
        "plt.title('Features importance',fontsize=14)\n",
        "s = sns.barplot(x='Feature',y='Feature importance',data=tmp)\n",
        "s.set_xticklabels(s.get_xticklabels(),rotation=90)\n",
        "plt.show() "
      ]
    },
    {
      "cell_type": "code",
      "execution_count": null,
      "metadata": {
        "colab": {
          "background_save": true
        },
        "id": "x82wulikHRwR",
        "outputId": "391a4402-c6c6-42e9-9969-1bef1dc3febf"
      },
      "outputs": [
        {
          "data": {
            "text/plain": [
              "0.9652181898171052"
            ]
          },
          "execution_count": 24,
          "metadata": {},
          "output_type": "execute_result"
        }
      ],
      "source": [
        "roc_auc_score(test_y.values, preds)"
      ]
    },
    {
      "cell_type": "code",
      "execution_count": null,
      "metadata": {
        "colab": {
          "background_save": true
        },
        "id": "mZI2Qz-dHf83",
        "outputId": "584b51aa-10b5-4b23-8841-ee077cb52380"
      },
      "outputs": [
        {
          "data": {
            "text/plain": [
              "array([[231850,    335],\n",
              "       [  1015,  13885]])"
            ]
          },
          "execution_count": 25,
          "metadata": {},
          "output_type": "execute_result"
        }
      ],
      "source": [
        "confusion_matrix(test_y.values,preds)"
      ]
    },
    {
      "cell_type": "code",
      "execution_count": null,
      "metadata": {
        "colab": {
          "background_save": true
        },
        "id": "mzxv5t8dH0T1",
        "outputId": "a0ed92a7-f324-4904-db0c-316b90347a06"
      },
      "outputs": [
        {
          "name": "stdout",
          "output_type": "stream",
          "text": [
            "Precision:  0.9956412513688189 Recall:  0.9985571850033379\n",
            "Fscore:  0.9970970863348028\n"
          ]
        }
      ],
      "source": [
        "precision,recall,fscore,_=precision_recall_fscore_support(test_y.values,preds)\n",
        "print(\"Precision: \",precision[0],\"Recall: \",recall[0])\n",
        "print(\"Fscore: \",fscore[0])"
      ]
    },
    {
      "cell_type": "markdown",
      "metadata": {
        "id": "Uj7lAMNHGo-c"
      },
      "source": [
        "- Further improvement, I could have tried using other classifier models lile boosting techniques as they robust to overfitting or SVM models.\n",
        "- I could also try out some neural network architectures to check if ther is any Fscore improvement. \n",
        "- I could try out some further feature extraction methods to try to get some more infomration from the current features to find out any pattern or behaviour or any peculiar traces of fraud. \n",
        "- Also, could use K-fold stratified cross validation. But normal stratified hold out method is giving good enough accuracy hence I didnt use K-fold technique, but could implement that in future.\n"
      ]
    },
    {
      "cell_type": "code",
      "execution_count": null,
      "metadata": {
        "id": "_mCy5kS0lUoG"
      },
      "outputs": [],
      "source": []
    },
    {
      "cell_type": "code",
      "execution_count": null,
      "metadata": {
        "colab": {
          "background_save": true
        },
        "id": "q-53uKTplUq1"
      },
      "outputs": [],
      "source": []
    }
  ],
  "metadata": {
    "colab": {
      "provenance": []
    },
    "gpuClass": "standard",
    "kernelspec": {
      "display_name": "Python 3",
      "name": "python3"
    },
    "language_info": {
      "name": "python"
    }
  },
  "nbformat": 4,
  "nbformat_minor": 0
}