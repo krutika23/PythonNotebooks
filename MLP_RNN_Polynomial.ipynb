{
  "nbformat": 4,
  "nbformat_minor": 0,
  "metadata": {
    "colab": {
      "provenance": []
    },
    "kernelspec": {
      "name": "python3",
      "display_name": "Python 3"
    },
    "language_info": {
      "name": "python"
    },
    "accelerator": "GPU",
    "gpuClass": "standard"
  },
  "cells": [
    {
      "cell_type": "markdown",
      "source": [
        "##MLP with TF Tuner implementation"
      ],
      "metadata": {
        "id": "OXg34tqrF3hA"
      }
    },
    {
      "cell_type": "code",
      "execution_count": null,
      "metadata": {
        "colab": {
          "base_uri": "https://localhost:8080/"
        },
        "id": "SU1SuStEVdvE",
        "outputId": "78fa507d-d2f0-48ed-a59b-8e39bae897ba"
      },
      "outputs": [
        {
          "output_type": "stream",
          "name": "stdout",
          "text": [
            "Looking in indexes: https://pypi.org/simple, https://us-python.pkg.dev/colab-wheels/public/simple/\n",
            "Requirement already satisfied: tensorflow in /usr/local/lib/python3.8/dist-packages (2.9.2)\n",
            "Requirement already satisfied: setuptools in /usr/local/lib/python3.8/dist-packages (from tensorflow) (57.4.0)\n",
            "Requirement already satisfied: tensorboard<2.10,>=2.9 in /usr/local/lib/python3.8/dist-packages (from tensorflow) (2.9.1)\n",
            "Requirement already satisfied: typing-extensions>=3.6.6 in /usr/local/lib/python3.8/dist-packages (from tensorflow) (4.4.0)\n",
            "Requirement already satisfied: keras<2.10.0,>=2.9.0rc0 in /usr/local/lib/python3.8/dist-packages (from tensorflow) (2.9.0)\n",
            "Requirement already satisfied: numpy>=1.20 in /usr/local/lib/python3.8/dist-packages (from tensorflow) (1.21.6)\n",
            "Requirement already satisfied: gast<=0.4.0,>=0.2.1 in /usr/local/lib/python3.8/dist-packages (from tensorflow) (0.4.0)\n",
            "Requirement already satisfied: protobuf<3.20,>=3.9.2 in /usr/local/lib/python3.8/dist-packages (from tensorflow) (3.19.6)\n",
            "Requirement already satisfied: keras-preprocessing>=1.1.1 in /usr/local/lib/python3.8/dist-packages (from tensorflow) (1.1.2)\n",
            "Requirement already satisfied: absl-py>=1.0.0 in /usr/local/lib/python3.8/dist-packages (from tensorflow) (1.3.0)\n",
            "Requirement already satisfied: h5py>=2.9.0 in /usr/local/lib/python3.8/dist-packages (from tensorflow) (3.1.0)\n",
            "Requirement already satisfied: tensorflow-io-gcs-filesystem>=0.23.1 in /usr/local/lib/python3.8/dist-packages (from tensorflow) (0.29.0)\n",
            "Requirement already satisfied: tensorflow-estimator<2.10.0,>=2.9.0rc0 in /usr/local/lib/python3.8/dist-packages (from tensorflow) (2.9.0)\n",
            "Requirement already satisfied: grpcio<2.0,>=1.24.3 in /usr/local/lib/python3.8/dist-packages (from tensorflow) (1.51.1)\n",
            "Requirement already satisfied: flatbuffers<2,>=1.12 in /usr/local/lib/python3.8/dist-packages (from tensorflow) (1.12)\n",
            "Requirement already satisfied: libclang>=13.0.0 in /usr/local/lib/python3.8/dist-packages (from tensorflow) (14.0.6)\n",
            "Requirement already satisfied: six>=1.12.0 in /usr/local/lib/python3.8/dist-packages (from tensorflow) (1.15.0)\n",
            "Requirement already satisfied: termcolor>=1.1.0 in /usr/local/lib/python3.8/dist-packages (from tensorflow) (2.2.0)\n",
            "Requirement already satisfied: astunparse>=1.6.0 in /usr/local/lib/python3.8/dist-packages (from tensorflow) (1.6.3)\n",
            "Requirement already satisfied: opt-einsum>=2.3.2 in /usr/local/lib/python3.8/dist-packages (from tensorflow) (3.3.0)\n",
            "Requirement already satisfied: google-pasta>=0.1.1 in /usr/local/lib/python3.8/dist-packages (from tensorflow) (0.2.0)\n",
            "Requirement already satisfied: wrapt>=1.11.0 in /usr/local/lib/python3.8/dist-packages (from tensorflow) (1.14.1)\n",
            "Requirement already satisfied: packaging in /usr/local/lib/python3.8/dist-packages (from tensorflow) (21.3)\n",
            "Requirement already satisfied: wheel<1.0,>=0.23.0 in /usr/local/lib/python3.8/dist-packages (from astunparse>=1.6.0->tensorflow) (0.38.4)\n",
            "Requirement already satisfied: werkzeug>=1.0.1 in /usr/local/lib/python3.8/dist-packages (from tensorboard<2.10,>=2.9->tensorflow) (1.0.1)\n",
            "Requirement already satisfied: google-auth-oauthlib<0.5,>=0.4.1 in /usr/local/lib/python3.8/dist-packages (from tensorboard<2.10,>=2.9->tensorflow) (0.4.6)\n",
            "Requirement already satisfied: markdown>=2.6.8 in /usr/local/lib/python3.8/dist-packages (from tensorboard<2.10,>=2.9->tensorflow) (3.4.1)\n",
            "Requirement already satisfied: tensorboard-data-server<0.7.0,>=0.6.0 in /usr/local/lib/python3.8/dist-packages (from tensorboard<2.10,>=2.9->tensorflow) (0.6.1)\n",
            "Requirement already satisfied: tensorboard-plugin-wit>=1.6.0 in /usr/local/lib/python3.8/dist-packages (from tensorboard<2.10,>=2.9->tensorflow) (1.8.1)\n",
            "Requirement already satisfied: requests<3,>=2.21.0 in /usr/local/lib/python3.8/dist-packages (from tensorboard<2.10,>=2.9->tensorflow) (2.25.1)\n",
            "Requirement already satisfied: google-auth<3,>=1.6.3 in /usr/local/lib/python3.8/dist-packages (from tensorboard<2.10,>=2.9->tensorflow) (2.15.0)\n",
            "Requirement already satisfied: pyparsing!=3.0.5,>=2.0.2 in /usr/local/lib/python3.8/dist-packages (from packaging->tensorflow) (3.0.9)\n",
            "Requirement already satisfied: cachetools<6.0,>=2.0.0 in /usr/local/lib/python3.8/dist-packages (from google-auth<3,>=1.6.3->tensorboard<2.10,>=2.9->tensorflow) (5.2.0)\n",
            "Requirement already satisfied: rsa<5,>=3.1.4 in /usr/local/lib/python3.8/dist-packages (from google-auth<3,>=1.6.3->tensorboard<2.10,>=2.9->tensorflow) (4.9)\n",
            "Requirement already satisfied: pyasn1-modules>=0.2.1 in /usr/local/lib/python3.8/dist-packages (from google-auth<3,>=1.6.3->tensorboard<2.10,>=2.9->tensorflow) (0.2.8)\n",
            "Requirement already satisfied: requests-oauthlib>=0.7.0 in /usr/local/lib/python3.8/dist-packages (from google-auth-oauthlib<0.5,>=0.4.1->tensorboard<2.10,>=2.9->tensorflow) (1.3.1)\n",
            "Requirement already satisfied: importlib-metadata>=4.4 in /usr/local/lib/python3.8/dist-packages (from markdown>=2.6.8->tensorboard<2.10,>=2.9->tensorflow) (6.0.0)\n",
            "Requirement already satisfied: certifi>=2017.4.17 in /usr/local/lib/python3.8/dist-packages (from requests<3,>=2.21.0->tensorboard<2.10,>=2.9->tensorflow) (2022.12.7)\n",
            "Requirement already satisfied: chardet<5,>=3.0.2 in /usr/local/lib/python3.8/dist-packages (from requests<3,>=2.21.0->tensorboard<2.10,>=2.9->tensorflow) (4.0.0)\n",
            "Requirement already satisfied: idna<3,>=2.5 in /usr/local/lib/python3.8/dist-packages (from requests<3,>=2.21.0->tensorboard<2.10,>=2.9->tensorflow) (2.10)\n",
            "Requirement already satisfied: urllib3<1.27,>=1.21.1 in /usr/local/lib/python3.8/dist-packages (from requests<3,>=2.21.0->tensorboard<2.10,>=2.9->tensorflow) (1.24.3)\n",
            "Requirement already satisfied: zipp>=0.5 in /usr/local/lib/python3.8/dist-packages (from importlib-metadata>=4.4->markdown>=2.6.8->tensorboard<2.10,>=2.9->tensorflow) (3.11.0)\n",
            "Requirement already satisfied: pyasn1<0.5.0,>=0.4.6 in /usr/local/lib/python3.8/dist-packages (from pyasn1-modules>=0.2.1->google-auth<3,>=1.6.3->tensorboard<2.10,>=2.9->tensorflow) (0.4.8)\n",
            "Requirement already satisfied: oauthlib>=3.0.0 in /usr/local/lib/python3.8/dist-packages (from requests-oauthlib>=0.7.0->google-auth-oauthlib<0.5,>=0.4.1->tensorboard<2.10,>=2.9->tensorflow) (3.2.2)\n",
            "\u001b[2K     \u001b[90m━━━━━━━━━━━━━━━━━━━━━━━━━━━━━━━━━━━━━━━\u001b[0m \u001b[32m135.7/135.7 KB\u001b[0m \u001b[31m3.2 MB/s\u001b[0m eta \u001b[36m0:00:00\u001b[0m\n",
            "\u001b[2K     \u001b[90m━━━━━━━━━━━━━━━━━━━━━━━━━━━━━━━━━━━━━━━━\u001b[0m \u001b[32m1.6/1.6 MB\u001b[0m \u001b[31m25.4 MB/s\u001b[0m eta \u001b[36m0:00:00\u001b[0m\n",
            "\u001b[?25h"
          ]
        }
      ],
      "source": [
        "!pip install tensorflow\n",
        "!pip install -q -U keras-tuner\n",
        "import pandas as pd\n",
        "import numpy as np\n"
      ]
    },
    {
      "cell_type": "code",
      "source": [
        "files=np.load('/content/drive/MyDrive/Data/689PolynomialData/ae_data.npz')\n",
        "for k in files:\n",
        "  print(k)"
      ],
      "metadata": {
        "colab": {
          "base_uri": "https://localhost:8080/"
        },
        "id": "t2WlgCqoVmyt",
        "outputId": "44af0493-dd2f-4316-9e56-fe1873fc608d"
      },
      "execution_count": null,
      "outputs": [
        {
          "output_type": "stream",
          "name": "stdout",
          "text": [
            "Str\n",
            "Xtr\n",
            "Ytr\n",
            "Ste\n",
            "Xte\n",
            "Yte\n"
          ]
        }
      ]
    },
    {
      "cell_type": "code",
      "source": [
        "files['Ytr'][0],files['Str'][20:40]"
      ],
      "metadata": {
        "colab": {
          "base_uri": "https://localhost:8080/"
        },
        "id": "CfPamGFhV0j0",
        "outputId": "d1b07b6e-33af-4b5f-b975-25a45ee4ad5e"
      },
      "execution_count": null,
      "outputs": [
        {
          "output_type": "execute_result",
          "data": {
            "text/plain": [
              "(array([-188.]),\n",
              " array(['    9-8', '  1+489', '    6+1', ' 239+53', '   2+78', '   5-40',\n",
              "        '    4+9', '  7+273', ' 349-44', '  73+40', '205+152', '    7-5',\n",
              "        '  59-31', ' 696-70', '   47+7', '    7-8', '   87-0', '   1+69',\n",
              "        '  304-8', ' 78-550'], dtype='<U7'))"
            ]
          },
          "metadata": {},
          "execution_count": 3
        }
      ]
    },
    {
      "cell_type": "code",
      "source": [
        "word2idx={'':0,'+':1,'-':2}\n",
        "charset=set() #sorted(set(files['Str']))\n",
        "for val in files['Str']:\n",
        "  for e in val: charset.add(e)\n",
        "word2idx={word:idx for idx, word in enumerate(sorted(charset))}"
      ],
      "metadata": {
        "id": "rD6WS0E_Wuaf"
      },
      "execution_count": null,
      "outputs": []
    },
    {
      "cell_type": "code",
      "source": [
        "def tokenize(data):\n",
        "  return [word2idx[i] for i in data]\n",
        "X=[tokenize(val) for val in files['Str']]\n",
        "X=np.array(X)\n",
        "y=np.array(files['Ytr'])"
      ],
      "metadata": {
        "id": "jkq8jJ-IaF4L"
      },
      "execution_count": null,
      "outputs": []
    },
    {
      "cell_type": "code",
      "source": [
        "X=X[:5000]\n",
        "y=y[:5000]"
      ],
      "metadata": {
        "id": "Sp4ZG2MBLc0J"
      },
      "execution_count": null,
      "outputs": []
    },
    {
      "cell_type": "code",
      "source": [
        "from tensorflow.keras.layers import Dense, Dropout, BatchNormalization\n",
        "from tensorflow.keras.models import Sequential\n",
        "from tensorflow.keras.optimizers import Adam\n",
        "from tensorflow.keras.regularizers import l2,l1\n",
        "from tensorflow.keras.callbacks import EarlyStopping\n",
        "from tensorflow.keras.metrics import AUC\n",
        "import keras_tuner as kt\n",
        "\n",
        "def model_builder(hp):\n",
        "  model=Sequential()\n",
        "  model.add(Dense(7,input_shape=(7,),activation='relu',kernel_regularizer=l2(0.001)))\n",
        "  model.add(BatchNormalization())\n",
        "  model.add(Dropout(0.15))\n",
        "  model.add(Dense(hp.Int('hidden_size', 30, 100, step=10, default=50),activation='relu'))\n",
        "  # model.add(BatchNormalization())\n",
        "  model.add(Dropout(0.3))\n",
        "  model.add(Dense(12,activation='relu',kernel_regularizer=l1(0.001)))\n",
        "  # model.add(BatchNormalization())\n",
        "  model.add(Dropout(0.2))\n",
        "  model.add(Dense(1))\n",
        "  hp_learning_rate = hp.Choice('learning_rate', values=[0.01,0.001,0.0001,0.00001])\n",
        "  optimizer = Adam(lr=hp_learning_rate, decay=5e-4)\n",
        "  model.compile(optimizer=optimizer, loss='mae')\n",
        "  return model\n",
        "# history=model.fit(X, y, epochs=50, validation_split=0.2, batch_size=8)"
      ],
      "metadata": {
        "id": "YzBCUUvJMjqQ"
      },
      "execution_count": null,
      "outputs": []
    },
    {
      "cell_type": "markdown",
      "source": [
        "##Implementing TF tuner for hyperparameter tuning"
      ],
      "metadata": {
        "id": "iAACkweSlnO3"
      }
    },
    {
      "cell_type": "code",
      "source": [
        "tuner = kt.Hyperband(model_builder,\n",
        "                     objective=kt.Objective('val_loss',direction=\"min\"),\n",
        "                     max_epochs=10,\n",
        "                     factor=3,\n",
        "                     directory='my_dir',\n",
        "                     project_name='intro_to_kt')\n",
        "stop_early = EarlyStopping(monitor='val_loss', patience=5)\n",
        "tuner.search(X, y, epochs=10, validation_split=0.2, callbacks=[stop_early])\n",
        "\n",
        "# Get the optimal hyperparameters\n",
        "best_hps=tuner.get_best_hyperparameters(num_trials=1)[0]"
      ],
      "metadata": {
        "id": "J22UrwPuTLYj"
      },
      "execution_count": null,
      "outputs": []
    },
    {
      "cell_type": "code",
      "source": [
        "best_hps.values"
      ],
      "metadata": {
        "colab": {
          "base_uri": "https://localhost:8080/"
        },
        "id": "pSPOjEc4TOjD",
        "outputId": "040e6d22-c3a6-431a-9d98-f2de58295287"
      },
      "execution_count": null,
      "outputs": [
        {
          "output_type": "execute_result",
          "data": {
            "text/plain": [
              "{'hidden_size': 30,\n",
              " 'learning_rate': 0.01,\n",
              " 'tuner/epochs': 10,\n",
              " 'tuner/initial_epoch': 0,\n",
              " 'tuner/bracket': 0,\n",
              " 'tuner/round': 0}"
            ]
          },
          "metadata": {},
          "execution_count": 15
        }
      ]
    },
    {
      "cell_type": "code",
      "source": [
        "model = tuner.hypermodel.build(best_hps)\n",
        "history = model.fit(X, y, epochs=50, validation_split=0.2)\n",
        "\n",
        "val_acc_per_epoch = history.history['val_loss']\n",
        "best_epoch = val_acc_per_epoch.index(max(val_acc_per_epoch)) + 1\n",
        "print('Best epoch: %d' % (best_epoch,))"
      ],
      "metadata": {
        "colab": {
          "base_uri": "https://localhost:8080/"
        },
        "id": "AbBxGJVrpsI3",
        "outputId": "9ff59b0b-a52e-4464-afc9-e68225e46f11"
      },
      "execution_count": null,
      "outputs": [
        {
          "output_type": "stream",
          "name": "stdout",
          "text": [
            "Epoch 1/50\n",
            "125/125 [==============================] - 1s 4ms/step - loss: 168088.0312 - val_loss: 133251.1406\n",
            "Epoch 2/50\n",
            "125/125 [==============================] - 0s 3ms/step - loss: 143873.3281 - val_loss: 132857.6094\n",
            "Epoch 3/50\n",
            "125/125 [==============================] - 0s 3ms/step - loss: 138589.9219 - val_loss: 126886.8438\n",
            "Epoch 4/50\n",
            "125/125 [==============================] - 0s 3ms/step - loss: 139480.8438 - val_loss: 127596.5781\n",
            "Epoch 5/50\n",
            "125/125 [==============================] - 0s 3ms/step - loss: 136603.7344 - val_loss: 125184.0781\n",
            "Epoch 6/50\n",
            "125/125 [==============================] - 0s 3ms/step - loss: 137007.6406 - val_loss: 123711.9844\n",
            "Epoch 7/50\n",
            "125/125 [==============================] - 0s 3ms/step - loss: 138104.9531 - val_loss: 124451.0703\n",
            "Epoch 8/50\n",
            "125/125 [==============================] - 0s 3ms/step - loss: 138102.9531 - val_loss: 123321.4062\n",
            "Epoch 9/50\n",
            "125/125 [==============================] - 0s 3ms/step - loss: 134512.2031 - val_loss: 125478.5156\n",
            "Epoch 10/50\n",
            "125/125 [==============================] - 0s 3ms/step - loss: 136722.3750 - val_loss: 123820.5156\n",
            "Epoch 11/50\n",
            "125/125 [==============================] - 0s 3ms/step - loss: 135213.2031 - val_loss: 124808.3516\n",
            "Epoch 12/50\n",
            "125/125 [==============================] - 0s 3ms/step - loss: 134685.3906 - val_loss: 124641.8203\n",
            "Epoch 13/50\n",
            "125/125 [==============================] - 0s 3ms/step - loss: 133474.3594 - val_loss: 123383.8828\n",
            "Epoch 14/50\n",
            "125/125 [==============================] - 0s 3ms/step - loss: 135415.6875 - val_loss: 126582.4141\n",
            "Epoch 15/50\n",
            "125/125 [==============================] - 0s 3ms/step - loss: 135419.5625 - val_loss: 121974.3281\n",
            "Epoch 16/50\n",
            "125/125 [==============================] - 0s 3ms/step - loss: 134321.4844 - val_loss: 123080.2578\n",
            "Epoch 17/50\n",
            "125/125 [==============================] - 0s 3ms/step - loss: 136088.3125 - val_loss: 122407.4375\n",
            "Epoch 18/50\n",
            "125/125 [==============================] - 0s 3ms/step - loss: 133890.7031 - val_loss: 121973.2344\n",
            "Epoch 19/50\n",
            "125/125 [==============================] - 0s 3ms/step - loss: 136013.5625 - val_loss: 122654.9297\n",
            "Epoch 20/50\n",
            "125/125 [==============================] - 0s 3ms/step - loss: 133863.2656 - val_loss: 120655.9062\n",
            "Epoch 21/50\n",
            "125/125 [==============================] - 0s 3ms/step - loss: 132744.3281 - val_loss: 119538.7734\n",
            "Epoch 22/50\n",
            "125/125 [==============================] - 0s 3ms/step - loss: 132763.2812 - val_loss: 119471.3203\n",
            "Epoch 23/50\n",
            "125/125 [==============================] - 0s 3ms/step - loss: 131329.7812 - val_loss: 114418.6406\n",
            "Epoch 24/50\n",
            "125/125 [==============================] - 0s 3ms/step - loss: 125246.6641 - val_loss: 106723.1250\n",
            "Epoch 25/50\n",
            "125/125 [==============================] - 0s 3ms/step - loss: 125406.4766 - val_loss: 107652.1875\n",
            "Epoch 26/50\n",
            "125/125 [==============================] - 0s 3ms/step - loss: 125302.3594 - val_loss: 100367.4141\n",
            "Epoch 27/50\n",
            "125/125 [==============================] - 0s 3ms/step - loss: 124276.7344 - val_loss: 98920.4609\n",
            "Epoch 28/50\n",
            "125/125 [==============================] - 0s 3ms/step - loss: 122198.2578 - val_loss: 98432.7812\n",
            "Epoch 29/50\n",
            "125/125 [==============================] - 0s 3ms/step - loss: 120235.0859 - val_loss: 92945.6328\n",
            "Epoch 30/50\n",
            "125/125 [==============================] - 0s 3ms/step - loss: 120379.1719 - val_loss: 93694.1719\n",
            "Epoch 31/50\n",
            "125/125 [==============================] - 0s 3ms/step - loss: 116496.8594 - val_loss: 91426.7656\n",
            "Epoch 32/50\n",
            "125/125 [==============================] - 0s 3ms/step - loss: 115115.7422 - val_loss: 86000.9844\n",
            "Epoch 33/50\n",
            "125/125 [==============================] - 0s 3ms/step - loss: 117269.1719 - val_loss: 89584.8438\n",
            "Epoch 34/50\n",
            "125/125 [==============================] - 0s 3ms/step - loss: 112864.5781 - val_loss: 82688.6562\n",
            "Epoch 35/50\n",
            "125/125 [==============================] - 0s 3ms/step - loss: 120514.1875 - val_loss: 85134.3984\n",
            "Epoch 36/50\n",
            "125/125 [==============================] - 0s 3ms/step - loss: 118427.0469 - val_loss: 90670.5469\n",
            "Epoch 37/50\n",
            "125/125 [==============================] - 0s 3ms/step - loss: 115499.9609 - val_loss: 92233.6641\n",
            "Epoch 38/50\n",
            "125/125 [==============================] - 0s 3ms/step - loss: 115820.7578 - val_loss: 86526.3281\n",
            "Epoch 39/50\n",
            "125/125 [==============================] - 0s 3ms/step - loss: 113572.0703 - val_loss: 85839.2109\n",
            "Epoch 40/50\n",
            "125/125 [==============================] - 0s 3ms/step - loss: 111145.8281 - val_loss: 83032.3828\n",
            "Epoch 41/50\n",
            "125/125 [==============================] - 0s 3ms/step - loss: 116939.9688 - val_loss: 81965.2266\n",
            "Epoch 42/50\n",
            "125/125 [==============================] - 0s 3ms/step - loss: 116607.7188 - val_loss: 83430.2188\n",
            "Epoch 43/50\n",
            "125/125 [==============================] - 0s 3ms/step - loss: 111492.1797 - val_loss: 81330.5703\n",
            "Epoch 44/50\n",
            "125/125 [==============================] - 0s 3ms/step - loss: 115303.9609 - val_loss: 82878.7031\n",
            "Epoch 45/50\n",
            "125/125 [==============================] - 0s 3ms/step - loss: 112088.0547 - val_loss: 82948.6484\n",
            "Epoch 46/50\n",
            "125/125 [==============================] - 0s 3ms/step - loss: 114060.5625 - val_loss: 84161.8516\n",
            "Epoch 47/50\n",
            "125/125 [==============================] - 0s 3ms/step - loss: 115880.1328 - val_loss: 86485.0469\n",
            "Epoch 48/50\n",
            "125/125 [==============================] - 0s 3ms/step - loss: 117494.0703 - val_loss: 80307.5156\n",
            "Epoch 49/50\n",
            "125/125 [==============================] - 0s 3ms/step - loss: 112341.1562 - val_loss: 79930.2656\n",
            "Epoch 50/50\n",
            "125/125 [==============================] - 0s 3ms/step - loss: 110760.4062 - val_loss: 79091.3281\n",
            "Best epoch: 1\n"
          ]
        }
      ]
    },
    {
      "cell_type": "code",
      "source": [],
      "metadata": {
        "colab": {
          "base_uri": "https://localhost:8080/"
        },
        "id": "In7xAAFZOL8A",
        "outputId": "15f6bd57-9594-412e-bcaa-763f24bf7a10"
      },
      "execution_count": null,
      "outputs": [
        {
          "output_type": "stream",
          "name": "stdout",
          "text": [
            "2813/2813 [==============================] - 4s 1ms/step\n"
          ]
        },
        {
          "output_type": "execute_result",
          "data": {
            "text/plain": [
              "(array([[102.95554 ,  26.057236,  81.61793 , 122.64572 , 631.4146  ,\n",
              "         284.43817 ,  26.057236,  26.057236, 659.8656  , 279.8784  ]],\n",
              "       dtype=float32),\n",
              " array([[-188.,   18.,  165., -504.,  889.,  352.,    6.,    9.,  943.,\n",
              "          204.]]))"
            ]
          },
          "metadata": {},
          "execution_count": 24
        }
      ]
    },
    {
      "cell_type": "markdown",
      "source": [
        "##RNN model"
      ],
      "metadata": {
        "id": "HmVV2CWbF-cg"
      }
    },
    {
      "cell_type": "code",
      "source": [
        "!pip install torch\n",
        "import torch\n",
        "import torch.nn as nn\n",
        "\n"
      ],
      "metadata": {
        "colab": {
          "base_uri": "https://localhost:8080/"
        },
        "id": "F6aPpIiOF9c9",
        "outputId": "19f7c835-e5f9-4d0b-eaa0-359046344a13"
      },
      "execution_count": null,
      "outputs": [
        {
          "output_type": "stream",
          "name": "stdout",
          "text": [
            "Looking in indexes: https://pypi.org/simple, https://us-python.pkg.dev/colab-wheels/public/simple/\n",
            "Requirement already satisfied: torch in /usr/local/lib/python3.8/dist-packages (1.13.0+cu116)\n",
            "Requirement already satisfied: typing-extensions in /usr/local/lib/python3.8/dist-packages (from torch) (4.4.0)\n"
          ]
        }
      ]
    },
    {
      "cell_type": "code",
      "source": [
        "train_len=int(0.9*len(X))\n",
        "print(\"training length:\",train_len)\n",
        "\n",
        "train_inputs=torch.tensor(X[:train_len])\n",
        "# train_masks=torch.tensor(attention_mask[:train_len])\n",
        "train_label=torch.tensor(y[:train_len])\n",
        "val_inputs=torch.tensor(X[train_len:])\n",
        "# val_masks=torch.tensor(attention_mask[train_len:])\n",
        "val_label=torch.tensor(y[train_len:])"
      ],
      "metadata": {
        "colab": {
          "base_uri": "https://localhost:8080/"
        },
        "id": "r7R91CqeH98l",
        "outputId": "486e84d7-cff5-4c96-da01-d48306c2f854"
      },
      "execution_count": null,
      "outputs": [
        {
          "output_type": "stream",
          "name": "stdout",
          "text": [
            "training length: 58320\n"
          ]
        }
      ]
    },
    {
      "cell_type": "code",
      "source": [
        "#create tensor datasets\n",
        "from torch.utils.data import TensorDataset, DataLoader, RandomSampler, SequentialSampler\n",
        "\n",
        "batch_size = 128\n",
        "\n",
        "# Create the DataLoader for our training set.\n",
        "train_data = TensorDataset(train_inputs, train_label)\n",
        "train_sampler = RandomSampler(train_data)\n",
        "train_dataloader = DataLoader(train_data, sampler=train_sampler, batch_size=batch_size,drop_last=True)\n",
        "\n",
        "# Create the DataLoader for our validation set.\n",
        "validation_data = TensorDataset(val_inputs, val_label)\n",
        "validation_sampler = SequentialSampler(validation_data)\n",
        "validation_dataloader = DataLoader(validation_data, sampler=validation_sampler, batch_size=batch_size,drop_last=True)"
      ],
      "metadata": {
        "id": "QommdD3DKDD2"
      },
      "execution_count": null,
      "outputs": []
    },
    {
      "cell_type": "code",
      "source": [
        "import torch.nn as nn\n",
        "devide=\"cpu\"\n",
        "class RNNModel(nn.Module):\n",
        "    def __init__(self, input_dim, hidden_dim, layer_dim, output_dim, dropout_prob):\n",
        "        super(RNNModel, self).__init__()\n",
        "\n",
        "        # Defining the number of layers and the nodes in each layer\n",
        "        self.hidden_dim = hidden_dim\n",
        "        self.layer_dim = layer_dim\n",
        "\n",
        "        # RNN layers\n",
        "        self.rnn = nn.RNN(\n",
        "            input_dim, hidden_dim, layer_dim, batch_first=True, dropout=dropout_prob,\n",
        "            # nonlinearity='relu'\n",
        "            # bidirectional=True\n",
        "        )\n",
        "        # Fully connected layer\n",
        "        self.fc = nn.Linear(hidden_dim, 32)\n",
        "        self.relu=nn.ReLU()\n",
        "        self.fc1 = nn.Linear(32, 8)\n",
        "        self.relu1=nn.ReLU()\n",
        "        self.fc2=nn.Linear(8, output_dim)\n",
        "        self.sigmoid=nn.Softmax()\n",
        "\n",
        "    def forward(self, x):\n",
        "        # x=x.unsqueeze(0)\n",
        "        # Initializing hidden state for first input with zeros\n",
        "\n",
        "        h0 = torch.zeros(self.layer_dim, x.size(0), self.hidden_dim).requires_grad_()\n",
        "        h0=h0.to(device)\n",
        "        h0=h0.to(torch.float32)\n",
        "        x=x.to(torch.float32)\n",
        "        x=x.to(device)\n",
        "\n",
        "        # Forward propagation by passing in the input and hidden state into the model\n",
        "        out, h0 = self.rnn(x, h0)\n",
        "\n",
        "        # Reshaping the outputs in the shape of (batch_size, seq_length, hidden_size)\n",
        "        # so that it can fit into the fully connected layer\n",
        "        out = out[: , -1, :]\n",
        "        # return self.fc(out)\n",
        "        # return self.fc1(self.relu(self.fc(out)))\n",
        "        # Convert the final state to our desired output shape (batch_size, output_dim)\n",
        "        out = self.fc2(self.relu1(self.fc1(self.relu(self.fc(out)))))\n",
        "        return out\n",
        "\n",
        "        # out=self.sigmoid(out)\n",
        "        # return out[-1]\n"
      ],
      "metadata": {
        "id": "F5-HnpA-KT_D"
      },
      "execution_count": null,
      "outputs": []
    },
    {
      "cell_type": "code",
      "source": [
        "#Adam optimizer with weigth decay fixes\n",
        "import torch.optim as optim\n",
        "# from warmup_scheduler_pytorch import WarmUpScheduler\n",
        "model=RNNModel(7,7,3,1,0.1)\n",
        "optimizer = optim.AdamW(model.parameters(),\n",
        "                  lr = 0.001 , # args.learning_rate - default is 5e-5, our notebook had 2e-5\n",
        "                  # eps = 1e-8, # args.adam_epsilon  - default is 1e-8.\n",
        "                  weight_decay=0.001\n",
        "\n",
        "                )\n",
        "scheduler = torch.optim.lr_scheduler.ReduceLROnPlateau(\n",
        "    optimizer, factor=0.1, patience=15, verbose=True\n",
        ")\n",
        "# scheduler_warmup = WarmUpScheduler(optimizer, multiplier=1, total_epoch=5, after_scheduler=scheduler)\n",
        "\n",
        "# from transformers import get_linear_schedule_with_warmup\n",
        "\n",
        "# Number of training epochs (authors recommend between 2 and 4)\n",
        "epochs = 8\n",
        "device=\"cpu\"\n",
        "# Total number of training steps is number of batches * number of epochs.\n",
        "total_steps = len(train_dataloader) * epochs\n",
        "\n",
        "# Create the learning rate scheduler.\n",
        "# scheduler_warmup = get_linear_schedule_with_warmup(optimizer,\n",
        "#                                             num_warmup_steps = 5, # Default value in run_glue.py\n",
        "#                                             num_training_steps = total_steps)\n",
        "scheduler"
      ],
      "metadata": {
        "colab": {
          "base_uri": "https://localhost:8080/"
        },
        "id": "-7DcCrroMAKP",
        "outputId": "62ae2598-f2c0-4140-d103-fda0504af4e5"
      },
      "execution_count": null,
      "outputs": [
        {
          "output_type": "execute_result",
          "data": {
            "text/plain": [
              "<torch.optim.lr_scheduler.ReduceLROnPlateau at 0x7f2c9a4dd0a0>"
            ]
          },
          "metadata": {},
          "execution_count": 34
        }
      ]
    },
    {
      "cell_type": "code",
      "source": [
        "def lossFunction(predicted,target):\n",
        "  loss = nn.L1Loss(reduction='mean')\n",
        "  return loss(predicted,target)\n",
        "tr_loss_hist = []\n",
        "\n",
        "\n",
        "model.train()\n",
        "model.to(device)\n",
        "for e in range(150):\n",
        "    avg_tr_loss = []\n",
        "    tr_step = 0\n",
        "\n",
        "    for step,batch in enumerate(train_dataloader):\n",
        "        input,label=batch\n",
        "        x_batch = input.view([batch_size, -1, 7]).to(device)\n",
        "        y_batch = label.to(device)\n",
        "        y_batch=y_batch.to(torch.float32)\n",
        "        predicted=model(x_batch)\n",
        "\n",
        "        loss=lossFunction(predicted,y_batch)\n",
        "        avg_tr_loss.append(loss.item())\n",
        "        optimizer.zero_grad()\n",
        "        loss.backward()\n",
        "        optimizer.step()\n",
        "        tr_step += 1\n",
        "\n",
        "    atl=sum(avg_tr_loss)/ tr_step\n",
        "    # scheduler.step(atl)\n",
        "    tr_loss_hist.append(atl)\n",
        "\n",
        "    if (e + 1) % 2 == 0:\n",
        "        print('Epoch: {:3}, tr_loss: {:.3f}'.format(e+1, atl))"
      ],
      "metadata": {
        "colab": {
          "base_uri": "https://localhost:8080/"
        },
        "id": "40SQJGAmMCWc",
        "outputId": "df3f1cc0-b74c-4166-ea73-a64ecbdc51da"
      },
      "execution_count": null,
      "outputs": [
        {
          "output_type": "stream",
          "name": "stdout",
          "text": [
            "Epoch:   2, tr_loss: 226.627\n",
            "Epoch:   4, tr_loss: 189.183\n",
            "Epoch:   6, tr_loss: 170.296\n",
            "Epoch:   8, tr_loss: 165.633\n",
            "Epoch:  10, tr_loss: 161.580\n",
            "Epoch:  12, tr_loss: 160.019\n",
            "Epoch:  14, tr_loss: 156.660\n",
            "Epoch:  16, tr_loss: 152.372\n",
            "Epoch:  18, tr_loss: 142.985\n",
            "Epoch:  20, tr_loss: 129.768\n",
            "Epoch:  22, tr_loss: 123.630\n",
            "Epoch:  24, tr_loss: 120.423\n",
            "Epoch:  26, tr_loss: 118.487\n",
            "Epoch:  28, tr_loss: 114.768\n",
            "Epoch:  30, tr_loss: 111.457\n",
            "Epoch:  32, tr_loss: 107.907\n",
            "Epoch:  34, tr_loss: 104.736\n",
            "Epoch:  36, tr_loss: 102.520\n",
            "Epoch:  38, tr_loss: 100.491\n",
            "Epoch:  40, tr_loss: 99.905\n",
            "Epoch:  42, tr_loss: 98.813\n",
            "Epoch:  44, tr_loss: 97.388\n",
            "Epoch:  46, tr_loss: 97.960\n",
            "Epoch:  48, tr_loss: 96.032\n",
            "Epoch:  50, tr_loss: 96.258\n",
            "Epoch:  52, tr_loss: 95.065\n",
            "Epoch:  54, tr_loss: 94.958\n",
            "Epoch:  56, tr_loss: 95.399\n",
            "Epoch:  58, tr_loss: 95.160\n",
            "Epoch:  60, tr_loss: 96.062\n",
            "Epoch:  62, tr_loss: 93.586\n",
            "Epoch:  64, tr_loss: 95.381\n",
            "Epoch:  66, tr_loss: 94.109\n",
            "Epoch:  68, tr_loss: 94.054\n",
            "Epoch:  70, tr_loss: 92.809\n",
            "Epoch:  72, tr_loss: 93.866\n",
            "Epoch:  74, tr_loss: 94.200\n",
            "Epoch:  76, tr_loss: 91.936\n",
            "Epoch:  78, tr_loss: 92.350\n",
            "Epoch:  80, tr_loss: 93.880\n",
            "Epoch:  82, tr_loss: 92.385\n",
            "Epoch:  84, tr_loss: 91.471\n",
            "Epoch:  86, tr_loss: 91.638\n",
            "Epoch:  88, tr_loss: 92.385\n",
            "Epoch:  90, tr_loss: 91.154\n",
            "Epoch:  92, tr_loss: 91.233\n",
            "Epoch:  94, tr_loss: 90.972\n",
            "Epoch:  96, tr_loss: 91.950\n",
            "Epoch:  98, tr_loss: 92.349\n",
            "Epoch: 100, tr_loss: 91.548\n",
            "Epoch: 102, tr_loss: 90.744\n",
            "Epoch: 104, tr_loss: 90.547\n",
            "Epoch: 106, tr_loss: 91.703\n",
            "Epoch: 108, tr_loss: 90.395\n",
            "Epoch: 110, tr_loss: 91.769\n",
            "Epoch: 112, tr_loss: 90.622\n",
            "Epoch: 114, tr_loss: 88.908\n",
            "Epoch: 116, tr_loss: 89.942\n",
            "Epoch: 118, tr_loss: 89.698\n",
            "Epoch: 120, tr_loss: 89.459\n",
            "Epoch: 122, tr_loss: 89.474\n",
            "Epoch: 124, tr_loss: 89.008\n",
            "Epoch: 126, tr_loss: 90.270\n",
            "Epoch: 128, tr_loss: 89.473\n",
            "Epoch: 130, tr_loss: 90.782\n",
            "Epoch: 132, tr_loss: 89.657\n",
            "Epoch: 134, tr_loss: 88.865\n",
            "Epoch: 136, tr_loss: 89.046\n",
            "Epoch: 138, tr_loss: 89.800\n",
            "Epoch: 140, tr_loss: 88.830\n",
            "Epoch: 142, tr_loss: 89.808\n",
            "Epoch: 144, tr_loss: 88.070\n",
            "Epoch: 146, tr_loss: 89.483\n",
            "Epoch: 148, tr_loss: 88.229\n",
            "Epoch: 150, tr_loss: 88.627\n"
          ]
        }
      ]
    },
    {
      "cell_type": "code",
      "source": [
        "model.eval()\n",
        "avg_val_loss=[]\n",
        "for step,batch in enumerate(validation_dataloader):\n",
        "        input,label=batch\n",
        "        x_batch = input.view([batch_size, -1, 7]).to(device)\n",
        "        y_batch = label.to(device)\n",
        "        y_batch=y_batch.to(torch.float32)\n",
        "\n",
        "        predicted=model(x_batch)\n",
        "        # print(predicted)\n",
        "        print(predicted[:1].T,y_batch[:1].T)\n",
        "        loss=lossFunction(predicted,y_batch)\n",
        "\n",
        "\n",
        "        avg_val_loss.append(loss.item())\n",
        "print(\"Testing Loss: \",sum(avg_val_loss)/len(validation_dataloader))\n"
      ],
      "metadata": {
        "colab": {
          "base_uri": "https://localhost:8080/"
        },
        "id": "zSRzUi9YMf8y",
        "outputId": "d189f082-5a2b-4af1-f481-43b472d210a2"
      },
      "execution_count": null,
      "outputs": [
        {
          "output_type": "stream",
          "name": "stdout",
          "text": [
            "tensor([[-190.4073]], grad_fn=<PermuteBackward0>) tensor([[-581.]])\n",
            "tensor([[56.6208]], grad_fn=<PermuteBackward0>) tensor([[107.]])\n",
            "tensor([[-105.2260]], grad_fn=<PermuteBackward0>) tensor([[-494.]])\n",
            "tensor([[306.9487]], grad_fn=<PermuteBackward0>) tensor([[168.]])\n",
            "tensor([[66.2376]], grad_fn=<PermuteBackward0>) tensor([[21.]])\n",
            "tensor([[68.3400]], grad_fn=<PermuteBackward0>) tensor([[27.]])\n",
            "tensor([[107.1077]], grad_fn=<PermuteBackward0>) tensor([[125.]])\n",
            "tensor([[56.7961]], grad_fn=<PermuteBackward0>) tensor([[71.]])\n",
            "tensor([[724.0518]], grad_fn=<PermuteBackward0>) tensor([[847.]])\n",
            "tensor([[45.5454]], grad_fn=<PermuteBackward0>) tensor([[92.]])\n",
            "tensor([[511.7805]], grad_fn=<PermuteBackward0>) tensor([[506.]])\n",
            "tensor([[1072.7306]], grad_fn=<PermuteBackward0>) tensor([[1171.]])\n",
            "tensor([[-4.0922]], grad_fn=<PermuteBackward0>) tensor([[-76.]])\n",
            "tensor([[631.8201]], grad_fn=<PermuteBackward0>) tensor([[529.]])\n",
            "tensor([[3.5574]], grad_fn=<PermuteBackward0>) tensor([[-37.]])\n",
            "tensor([[3.5201]], grad_fn=<PermuteBackward0>) tensor([[9.]])\n",
            "tensor([[42.4601]], grad_fn=<PermuteBackward0>) tensor([[27.]])\n",
            "tensor([[-347.4615]], grad_fn=<PermuteBackward0>) tensor([[-916.]])\n",
            "tensor([[43.3847]], grad_fn=<PermuteBackward0>) tensor([[91.]])\n",
            "tensor([[3.8235]], grad_fn=<PermuteBackward0>) tensor([[3.]])\n",
            "tensor([[267.2793]], grad_fn=<PermuteBackward0>) tensor([[221.]])\n",
            "tensor([[3.8521]], grad_fn=<PermuteBackward0>) tensor([[-1.]])\n",
            "tensor([[807.0833]], grad_fn=<PermuteBackward0>) tensor([[806.]])\n",
            "tensor([[8.7848]], grad_fn=<PermuteBackward0>) tensor([[44.]])\n",
            "tensor([[816.7145]], grad_fn=<PermuteBackward0>) tensor([[907.]])\n",
            "tensor([[183.1053]], grad_fn=<PermuteBackward0>) tensor([[197.]])\n",
            "tensor([[37.6609]], grad_fn=<PermuteBackward0>) tensor([[64.]])\n",
            "tensor([[390.2960]], grad_fn=<PermuteBackward0>) tensor([[399.]])\n",
            "tensor([[3.8588]], grad_fn=<PermuteBackward0>) tensor([[0.]])\n",
            "tensor([[61.7519]], grad_fn=<PermuteBackward0>) tensor([[69.]])\n",
            "tensor([[42.4162]], grad_fn=<PermuteBackward0>) tensor([[57.]])\n",
            "tensor([[3.8238]], grad_fn=<PermuteBackward0>) tensor([[0.]])\n",
            "tensor([[-220.4406]], grad_fn=<PermuteBackward0>) tensor([[-671.]])\n",
            "tensor([[835.4326]], grad_fn=<PermuteBackward0>) tensor([[943.]])\n",
            "tensor([[-278.6243]], grad_fn=<PermuteBackward0>) tensor([[-770.]])\n",
            "tensor([[572.1341]], grad_fn=<PermuteBackward0>) tensor([[552.]])\n",
            "tensor([[50.0655]], grad_fn=<PermuteBackward0>) tensor([[78.]])\n",
            "tensor([[731.2491]], grad_fn=<PermuteBackward0>) tensor([[805.]])\n",
            "tensor([[3.3850]], grad_fn=<PermuteBackward0>) tensor([[6.]])\n",
            "tensor([[3.8632]], grad_fn=<PermuteBackward0>) tensor([[-6.]])\n",
            "tensor([[12.9732]], grad_fn=<PermuteBackward0>) tensor([[31.]])\n",
            "tensor([[43.6059]], grad_fn=<PermuteBackward0>) tensor([[53.]])\n",
            "tensor([[-215.3538]], grad_fn=<PermuteBackward0>) tensor([[-677.]])\n",
            "tensor([[358.0397]], grad_fn=<PermuteBackward0>) tensor([[253.]])\n",
            "tensor([[46.0982]], grad_fn=<PermuteBackward0>) tensor([[21.]])\n",
            "tensor([[3.8807]], grad_fn=<PermuteBackward0>) tensor([[5.]])\n",
            "tensor([[3.9308]], grad_fn=<PermuteBackward0>) tensor([[7.]])\n",
            "tensor([[206.8335]], grad_fn=<PermuteBackward0>) tensor([[239.]])\n",
            "tensor([[64.0167]], grad_fn=<PermuteBackward0>) tensor([[68.]])\n",
            "tensor([[42.6601]], grad_fn=<PermuteBackward0>) tensor([[-83.]])\n",
            "Testing Loss:  89.04827377319336\n"
          ]
        }
      ]
    },
    {
      "cell_type": "code",
      "source": [
        "from matplotlib import pyplot as plt\n",
        "print(avg_val_loss)\n",
        "plt.plot(avg_val_loss,label = \"Val loss\")\n",
        "plt.plot(tr_loss_hist,label = \"Train loss\")\n",
        "plt.legend()\n",
        "plt.show()"
      ],
      "metadata": {
        "colab": {
          "base_uri": "https://localhost:8080/",
          "height": 304
        },
        "id": "iIucRWGOP2zQ",
        "outputId": "1a26032e-903d-460c-d4af-9a5293d1cb80"
      },
      "execution_count": null,
      "outputs": [
        {
          "output_type": "stream",
          "name": "stdout",
          "text": [
            "[116.40690612792969, 97.07472229003906, 86.08900451660156, 100.45944213867188, 105.84500122070312, 73.92386627197266, 75.3816909790039, 90.26432800292969, 67.86396026611328, 67.1230697631836, 85.47012329101562, 84.36009216308594, 79.07967376708984, 105.94126892089844, 85.95511627197266, 82.20992279052734, 96.68620300292969, 105.21898651123047, 104.32254791259766, 69.22174072265625, 103.23612976074219, 88.18685913085938, 73.77986907958984, 87.15571594238281, 87.29093170166016, 86.69891357421875, 88.49838256835938, 71.73114013671875, 80.19339752197266, 75.4971694946289, 86.04631805419922, 106.73442840576172, 95.76499938964844, 78.83285522460938, 85.38690185546875, 88.41508483886719, 76.56358337402344, 90.1668701171875, 87.41426086425781, 90.76940155029297, 69.48397064208984, 87.03263854980469, 94.20161437988281, 107.88783264160156, 100.16096496582031, 119.01901245117188, 90.57124328613281, 101.61531066894531, 93.77882385253906, 81.40139770507812]\n"
          ]
        },
        {
          "output_type": "display_data",
          "data": {
            "text/plain": [
              "<Figure size 432x288 with 1 Axes>"
            ],
            "image/png": "[encoded data removed]"
          },
          "metadata": {
            "needs_background": "light"
          }
        }
      ]
    },
    {
      "cell_type": "code",
      "source": [
        "yhat"
      ],
      "metadata": {
        "id": "RZXQIzZXN5c_"
      },
      "execution_count": null,
      "outputs": []
    },
    {
      "cell_type": "code",
      "source": [],
      "metadata": {
        "id": "RUh_T6W6OIgZ"
      },
      "execution_count": null,
      "outputs": []
    },
    {
      "cell_type": "markdown",
      "source": [
        "##MLP Implementation"
      ],
      "metadata": {
        "id": "844wX8qtbujM"
      }
    },
    {
      "cell_type": "code",
      "source": [
        "from tensorflow.keras.layers import Dense, Dropout, BatchNormalization\n",
        "from tensorflow.keras.models import Sequential\n",
        "from tensorflow.keras.optimizers import Adam\n",
        "from tensorflow.keras.regularizers import l2,l1\n",
        "from tensorflow.keras.callbacks import EarlyStopping\n",
        "from tensorflow.keras.metrics import AUC\n",
        "from tensorflow.keras.initializers import GlorotNormal\n",
        "import keras_tuner as kt\n",
        "\n",
        "def model_builder():\n",
        "  model=Sequential()\n",
        "  model.add(Dense(7,input_shape=(7,),activation='relu',kernel_initializer = GlorotNormal()))\n",
        "  # model.add(BatchNormalization())\n",
        "  # model.add(Dropout(0.15))\n",
        "  # model.add(Dense(16,activation='relu',kernel_regularizer=l2(0.001)))\n",
        "  model.add(Dense(64,activation='relu',kernel_initializer = GlorotNormal()))\n",
        "  # model.add(BatchNormalization())\n",
        "  # model.add(Dropout(0.3))\n",
        "  model.add(Dense(32,activation='relu',kernel_initializer = GlorotNormal()))\n",
        "  model.add(Dense(8,activation='relu',kernel_initializer = GlorotNormal()))\n",
        "  # model.add(BatchNormalization())\n",
        "  # model.add(Dropout(0.2))\n",
        "  model.add(Dense(1))\n",
        "  # hp_learning_rate = hp.Choice('learning_rate', values=[0.01,0.001,0.0001,0.00001])\n",
        "  # optimizer = Adam(lr=0.01, decay=5e-4)\n",
        "  optimizer = Adam(lr=0.02)\n",
        "  model.compile(optimizer=optimizer, loss='mae')\n",
        "  return model\n",
        "# history=model.fit(X, y, epochs=70, validation_split=0.2, batch_size=8)"
      ],
      "metadata": {
        "id": "5ArwqB7abyeJ"
      },
      "execution_count": null,
      "outputs": []
    },
    {
      "cell_type": "code",
      "source": [
        "from sklearn.model_selection import train_test_split\n",
        "\n",
        "X,X_test,y,y_test=train_test_split(X,y,shuffle=True,test_size=0.1)"
      ],
      "metadata": {
        "id": "eu6KajcJTNMz"
      },
      "execution_count": null,
      "outputs": []
    },
    {
      "cell_type": "code",
      "source": [
        "model=model_builder()\n",
        "history = model.fit(X, y, epochs=60, validation_split=0.2, batch_size=64)"
      ],
      "metadata": {
        "colab": {
          "base_uri": "https://localhost:8080/"
        },
        "id": "rECulHR1chVx",
        "outputId": "f56be334-59e1-4160-d146-2a665c68edb3"
      },
      "execution_count": null,
      "outputs": [
        {
          "output_type": "stream",
          "name": "stdout",
          "text": [
            "Epoch 1/60\n"
          ]
        },
        {
          "output_type": "stream",
          "name": "stderr",
          "text": [
            "/usr/local/lib/python3.8/dist-packages/keras/optimizers/optimizer_v2/adam.py:110: UserWarning: The `lr` argument is deprecated, use `learning_rate` instead.\n",
            "  super(Adam, self).__init__(name, **kwargs)\n"
          ]
        },
        {
          "output_type": "stream",
          "name": "stdout",
          "text": [
            "810/810 [==============================] - 3s 3ms/step - loss: 205.2912 - val_loss: 180.2156\n",
            "Epoch 2/60\n",
            "810/810 [==============================] - 2s 2ms/step - loss: 167.3069 - val_loss: 125.3339\n",
            "Epoch 3/60\n",
            "810/810 [==============================] - 2s 3ms/step - loss: 70.9437 - val_loss: 45.0572\n",
            "Epoch 4/60\n",
            "810/810 [==============================] - 2s 2ms/step - loss: 30.6064 - val_loss: 23.1842\n",
            "Epoch 5/60\n",
            "810/810 [==============================] - 2s 2ms/step - loss: 27.4832 - val_loss: 19.4870\n",
            "Epoch 6/60\n",
            "810/810 [==============================] - 2s 2ms/step - loss: 23.6713 - val_loss: 18.5387\n",
            "Epoch 7/60\n",
            "810/810 [==============================] - 2s 2ms/step - loss: 21.8057 - val_loss: 24.0340\n",
            "Epoch 8/60\n",
            "810/810 [==============================] - 2s 2ms/step - loss: 19.0844 - val_loss: 21.4603\n",
            "Epoch 9/60\n",
            "810/810 [==============================] - 2s 2ms/step - loss: 34.2444 - val_loss: 21.8358\n",
            "Epoch 10/60\n",
            "810/810 [==============================] - 2s 2ms/step - loss: 18.4702 - val_loss: 18.3028\n",
            "Epoch 11/60\n",
            "810/810 [==============================] - 2s 2ms/step - loss: 23.9195 - val_loss: 14.1182\n",
            "Epoch 12/60\n",
            "810/810 [==============================] - 2s 2ms/step - loss: 16.2300 - val_loss: 15.7513\n",
            "Epoch 13/60\n",
            "810/810 [==============================] - 2s 2ms/step - loss: 20.0792 - val_loss: 17.4947\n",
            "Epoch 14/60\n",
            "810/810 [==============================] - 2s 2ms/step - loss: 15.3049 - val_loss: 14.0924\n",
            "Epoch 15/60\n",
            "810/810 [==============================] - 2s 3ms/step - loss: 14.8870 - val_loss: 19.7312\n",
            "Epoch 16/60\n",
            "810/810 [==============================] - 3s 3ms/step - loss: 17.6481 - val_loss: 11.4848\n",
            "Epoch 17/60\n",
            "810/810 [==============================] - 2s 3ms/step - loss: 14.2999 - val_loss: 12.8016\n",
            "Epoch 18/60\n",
            "810/810 [==============================] - 2s 2ms/step - loss: 14.1250 - val_loss: 11.4818\n",
            "Epoch 19/60\n",
            "810/810 [==============================] - 2s 2ms/step - loss: 45.3477 - val_loss: 31.6236\n",
            "Epoch 20/60\n",
            "810/810 [==============================] - 2s 2ms/step - loss: 23.7834 - val_loss: 16.6474\n",
            "Epoch 21/60\n",
            "810/810 [==============================] - 2s 2ms/step - loss: 19.3748 - val_loss: 16.0952\n",
            "Epoch 22/60\n",
            "810/810 [==============================] - 2s 2ms/step - loss: 17.4111 - val_loss: 14.6898\n",
            "Epoch 23/60\n",
            "810/810 [==============================] - 2s 2ms/step - loss: 17.0111 - val_loss: 19.1725\n",
            "Epoch 24/60\n",
            "810/810 [==============================] - 2s 2ms/step - loss: 16.8072 - val_loss: 20.9749\n",
            "Epoch 25/60\n",
            "810/810 [==============================] - 2s 2ms/step - loss: 16.0669 - val_loss: 11.4863\n",
            "Epoch 26/60\n",
            "810/810 [==============================] - 2s 2ms/step - loss: 15.0828 - val_loss: 14.3573\n",
            "Epoch 27/60\n",
            "810/810 [==============================] - 2s 2ms/step - loss: 14.6461 - val_loss: 15.4427\n",
            "Epoch 28/60\n",
            "810/810 [==============================] - 2s 2ms/step - loss: 13.8845 - val_loss: 11.9918\n",
            "Epoch 29/60\n",
            "810/810 [==============================] - 2s 3ms/step - loss: 13.9428 - val_loss: 12.4383\n",
            "Epoch 30/60\n",
            "810/810 [==============================] - 2s 3ms/step - loss: 14.0262 - val_loss: 12.0839\n",
            "Epoch 31/60\n",
            "810/810 [==============================] - 2s 3ms/step - loss: 13.4968 - val_loss: 13.1753\n",
            "Epoch 32/60\n",
            "810/810 [==============================] - 3s 4ms/step - loss: 13.7407 - val_loss: 12.7363\n",
            "Epoch 33/60\n",
            "810/810 [==============================] - 2s 2ms/step - loss: 13.6750 - val_loss: 10.4120\n",
            "Epoch 34/60\n",
            "810/810 [==============================] - 2s 2ms/step - loss: 13.2534 - val_loss: 8.4713\n",
            "Epoch 35/60\n",
            "810/810 [==============================] - 2s 2ms/step - loss: 12.4456 - val_loss: 10.8783\n",
            "Epoch 36/60\n",
            "810/810 [==============================] - 2s 3ms/step - loss: 12.3112 - val_loss: 12.2705\n",
            "Epoch 37/60\n",
            "810/810 [==============================] - 2s 2ms/step - loss: 12.6762 - val_loss: 14.1143\n",
            "Epoch 38/60\n",
            "810/810 [==============================] - 2s 2ms/step - loss: 11.9732 - val_loss: 9.2278\n",
            "Epoch 39/60\n",
            "810/810 [==============================] - 2s 2ms/step - loss: 12.4820 - val_loss: 11.7683\n",
            "Epoch 40/60\n",
            "810/810 [==============================] - 2s 2ms/step - loss: 11.5420 - val_loss: 6.6505\n",
            "Epoch 41/60\n",
            "810/810 [==============================] - 2s 2ms/step - loss: 11.8091 - val_loss: 8.6281\n",
            "Epoch 42/60\n",
            "810/810 [==============================] - 2s 2ms/step - loss: 11.3471 - val_loss: 9.9400\n",
            "Epoch 43/60\n",
            "810/810 [==============================] - 2s 2ms/step - loss: 11.3939 - val_loss: 8.1729\n",
            "Epoch 44/60\n",
            "810/810 [==============================] - 2s 2ms/step - loss: 11.2656 - val_loss: 11.9324\n",
            "Epoch 45/60\n",
            "810/810 [==============================] - 2s 2ms/step - loss: 9.4773 - val_loss: 11.3526\n",
            "Epoch 46/60\n",
            "810/810 [==============================] - 2s 2ms/step - loss: 11.0554 - val_loss: 21.2481\n",
            "Epoch 47/60\n",
            "810/810 [==============================] - 2s 2ms/step - loss: 10.4689 - val_loss: 10.1498\n",
            "Epoch 48/60\n",
            "810/810 [==============================] - 2s 2ms/step - loss: 10.6957 - val_loss: 11.7322\n",
            "Epoch 49/60\n",
            "810/810 [==============================] - 2s 2ms/step - loss: 10.0944 - val_loss: 7.7440\n",
            "Epoch 50/60\n",
            "810/810 [==============================] - 2s 2ms/step - loss: 11.7317 - val_loss: 10.1439\n",
            "Epoch 51/60\n",
            "810/810 [==============================] - 2s 2ms/step - loss: 10.1606 - val_loss: 9.5711\n",
            "Epoch 52/60\n",
            "810/810 [==============================] - 2s 3ms/step - loss: 9.2858 - val_loss: 9.8579\n",
            "Epoch 53/60\n",
            "810/810 [==============================] - 2s 2ms/step - loss: 16.2527 - val_loss: 11.4213\n",
            "Epoch 54/60\n",
            "810/810 [==============================] - 2s 2ms/step - loss: 8.9461 - val_loss: 6.8947\n",
            "Epoch 55/60\n",
            "810/810 [==============================] - 2s 2ms/step - loss: 9.5491 - val_loss: 11.7662\n",
            "Epoch 56/60\n",
            "810/810 [==============================] - 2s 2ms/step - loss: 10.9089 - val_loss: 9.0986\n",
            "Epoch 57/60\n",
            "810/810 [==============================] - 2s 3ms/step - loss: 9.6281 - val_loss: 9.9063\n",
            "Epoch 58/60\n",
            "810/810 [==============================] - 2s 2ms/step - loss: 8.5568 - val_loss: 7.2187\n",
            "Epoch 59/60\n",
            "810/810 [==============================] - 2s 2ms/step - loss: 8.3647 - val_loss: 7.4590\n",
            "Epoch 60/60\n",
            "810/810 [==============================] - 2s 2ms/step - loss: 11.7121 - val_loss: 7.1486\n"
          ]
        }
      ]
    },
    {
      "cell_type": "code",
      "source": [
        "tr_loss_hist=history.history['loss']\n",
        "avg_val_loss=history.history['val_loss']\n",
        "from matplotlib import pyplot as plt\n",
        "plt.plot(avg_val_loss,label = \"Val loss\")\n",
        "plt.plot(tr_loss_hist,label = \"Train loss\")\n",
        "plt.legend()\n",
        "plt.show()"
      ],
      "metadata": {
        "colab": {
          "base_uri": "https://localhost:8080/",
          "height": 265
        },
        "id": "5Ic7fGC1co54",
        "outputId": "7c72730a-9507-4c85-dd51-3eb78510989a"
      },
      "execution_count": null,
      "outputs": [
        {
          "output_type": "display_data",
          "data": {
            "text/plain": [
              "<Figure size 432x288 with 1 Axes>"
            ],
            "image/png": "[encoded data removed]"
          },
          "metadata": {
            "needs_background": "light"
          }
        }
      ]
    },
    {
      "cell_type": "code",
      "source": [
        "yhat=model.predict(X_test)\n",
        "# print(yhat[:10],y_test[:10])\n",
        "\n",
        "from sklearn.metrics import r2_score, mean_squared_error, mean_absolute_error\n",
        "score = r2_score(y_test, yhat)\n",
        "mse_loss=mean_absolute_error(y_test, yhat)\n",
        "score,mse_loss"
      ],
      "metadata": {
        "colab": {
          "base_uri": "https://localhost:8080/"
        },
        "id": "gpjsahZHc267",
        "outputId": "0a032fdb-8c26-41ed-9e35-7e5d652c6807"
      },
      "execution_count": null,
      "outputs": [
        {
          "output_type": "stream",
          "name": "stdout",
          "text": [
            "225/225 [==============================] - 0s 2ms/step\n"
          ]
        },
        {
          "output_type": "execute_result",
          "data": {
            "text/plain": [
              "(0.9993223135663057, 7.149539991948339)"
            ]
          },
          "metadata": {},
          "execution_count": 22
        }
      ]
    },
    {
      "cell_type": "code",
      "source": [],
      "metadata": {
        "id": "YYVLQzRoUapX"
      },
      "execution_count": null,
      "outputs": []
    }
  ]
}