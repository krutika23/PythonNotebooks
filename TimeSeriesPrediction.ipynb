{
 "cells": [
  {
   "cell_type": "code",
   "execution_count": 20,
   "id": "02a5739d",
   "metadata": {},
   "outputs": [
    {
     "data": {
      "text/html": [
       "<div>\n",
       "<style scoped>\n",
       "    .dataframe tbody tr th:only-of-type {\n",
       "        vertical-align: middle;\n",
       "    }\n",
       "\n",
       "    .dataframe tbody tr th {\n",
       "        vertical-align: top;\n",
       "    }\n",
       "\n",
       "    .dataframe thead th {\n",
       "        text-align: right;\n",
       "    }\n",
       "</style>\n",
       "<table border=\"1\" class=\"dataframe\">\n",
       "  <thead>\n",
       "    <tr style=\"text-align: right;\">\n",
       "      <th></th>\n",
       "      <th>date</th>\n",
       "      <th>open</th>\n",
       "      <th>high</th>\n",
       "      <th>low</th>\n",
       "      <th>close</th>\n",
       "      <th>adjusted_close</th>\n",
       "      <th>volume</th>\n",
       "      <th>dividend_amount</th>\n",
       "      <th>split_coefficient</th>\n",
       "    </tr>\n",
       "  </thead>\n",
       "  <tbody>\n",
       "    <tr>\n",
       "      <th>0</th>\n",
       "      <td>2021-10-06</td>\n",
       "      <td>3515.48</td>\n",
       "      <td>3538.70</td>\n",
       "      <td>3502.80</td>\n",
       "      <td>3517.71</td>\n",
       "      <td>3517.71</td>\n",
       "      <td>11513.0</td>\n",
       "      <td>0.0</td>\n",
       "      <td>1.0</td>\n",
       "    </tr>\n",
       "    <tr>\n",
       "      <th>1</th>\n",
       "      <td>2021-10-05</td>\n",
       "      <td>3386.31</td>\n",
       "      <td>3545.00</td>\n",
       "      <td>3363.78</td>\n",
       "      <td>3515.27</td>\n",
       "      <td>3515.27</td>\n",
       "      <td>393900.0</td>\n",
       "      <td>0.0</td>\n",
       "      <td>1.0</td>\n",
       "    </tr>\n",
       "    <tr>\n",
       "      <th>2</th>\n",
       "      <td>2021-10-04</td>\n",
       "      <td>3417.73</td>\n",
       "      <td>3437.19</td>\n",
       "      <td>3270.00</td>\n",
       "      <td>3386.31</td>\n",
       "      <td>3386.31</td>\n",
       "      <td>485204.0</td>\n",
       "      <td>0.0</td>\n",
       "      <td>1.0</td>\n",
       "    </tr>\n",
       "    <tr>\n",
       "      <th>3</th>\n",
       "      <td>2021-10-03</td>\n",
       "      <td>3387.77</td>\n",
       "      <td>3488.00</td>\n",
       "      <td>3342.51</td>\n",
       "      <td>3417.73</td>\n",
       "      <td>3417.73</td>\n",
       "      <td>360586.0</td>\n",
       "      <td>0.0</td>\n",
       "      <td>1.0</td>\n",
       "    </tr>\n",
       "    <tr>\n",
       "      <th>4</th>\n",
       "      <td>2021-10-02</td>\n",
       "      <td>3309.91</td>\n",
       "      <td>3469.00</td>\n",
       "      <td>3257.00</td>\n",
       "      <td>3387.76</td>\n",
       "      <td>3387.76</td>\n",
       "      <td>422551.0</td>\n",
       "      <td>0.0</td>\n",
       "      <td>1.0</td>\n",
       "    </tr>\n",
       "    <tr>\n",
       "      <th>...</th>\n",
       "      <td>...</td>\n",
       "      <td>...</td>\n",
       "      <td>...</td>\n",
       "      <td>...</td>\n",
       "      <td>...</td>\n",
       "      <td>...</td>\n",
       "      <td>...</td>\n",
       "      <td>...</td>\n",
       "      <td>...</td>\n",
       "    </tr>\n",
       "    <tr>\n",
       "      <th>95</th>\n",
       "      <td>2021-07-03</td>\n",
       "      <td>2153.95</td>\n",
       "      <td>2240.00</td>\n",
       "      <td>2112.01</td>\n",
       "      <td>2226.99</td>\n",
       "      <td>2226.99</td>\n",
       "      <td>569264.0</td>\n",
       "      <td>0.0</td>\n",
       "      <td>1.0</td>\n",
       "    </tr>\n",
       "    <tr>\n",
       "      <th>96</th>\n",
       "      <td>2021-07-02</td>\n",
       "      <td>2106.41</td>\n",
       "      <td>2160.00</td>\n",
       "      <td>2018.50</td>\n",
       "      <td>2154.13</td>\n",
       "      <td>2154.13</td>\n",
       "      <td>672282.0</td>\n",
       "      <td>0.0</td>\n",
       "      <td>1.0</td>\n",
       "    </tr>\n",
       "    <tr>\n",
       "      <th>97</th>\n",
       "      <td>2021-07-01</td>\n",
       "      <td>2275.68</td>\n",
       "      <td>2275.93</td>\n",
       "      <td>2073.12</td>\n",
       "      <td>2106.41</td>\n",
       "      <td>2106.41</td>\n",
       "      <td>787865.0</td>\n",
       "      <td>0.0</td>\n",
       "      <td>1.0</td>\n",
       "    </tr>\n",
       "    <tr>\n",
       "      <th>98</th>\n",
       "      <td>2021-06-30</td>\n",
       "      <td>2165.46</td>\n",
       "      <td>2287.78</td>\n",
       "      <td>2087.99</td>\n",
       "      <td>2275.68</td>\n",
       "      <td>2275.68</td>\n",
       "      <td>910583.0</td>\n",
       "      <td>0.0</td>\n",
       "      <td>1.0</td>\n",
       "    </tr>\n",
       "    <tr>\n",
       "      <th>99</th>\n",
       "      <td>2021-06-29</td>\n",
       "      <td>2084.42</td>\n",
       "      <td>2245.00</td>\n",
       "      <td>2073.57</td>\n",
       "      <td>2165.33</td>\n",
       "      <td>2165.33</td>\n",
       "      <td>831257.0</td>\n",
       "      <td>0.0</td>\n",
       "      <td>1.0</td>\n",
       "    </tr>\n",
       "  </tbody>\n",
       "</table>\n",
       "<p>100 rows × 9 columns</p>\n",
       "</div>"
      ],
      "text/plain": [
       "         date     open     high      low    close  adjusted_close    volume  \\\n",
       "0  2021-10-06  3515.48  3538.70  3502.80  3517.71         3517.71   11513.0   \n",
       "1  2021-10-05  3386.31  3545.00  3363.78  3515.27         3515.27  393900.0   \n",
       "2  2021-10-04  3417.73  3437.19  3270.00  3386.31         3386.31  485204.0   \n",
       "3  2021-10-03  3387.77  3488.00  3342.51  3417.73         3417.73  360586.0   \n",
       "4  2021-10-02  3309.91  3469.00  3257.00  3387.76         3387.76  422551.0   \n",
       "..        ...      ...      ...      ...      ...             ...       ...   \n",
       "95 2021-07-03  2153.95  2240.00  2112.01  2226.99         2226.99  569264.0   \n",
       "96 2021-07-02  2106.41  2160.00  2018.50  2154.13         2154.13  672282.0   \n",
       "97 2021-07-01  2275.68  2275.93  2073.12  2106.41         2106.41  787865.0   \n",
       "98 2021-06-30  2165.46  2287.78  2087.99  2275.68         2275.68  910583.0   \n",
       "99 2021-06-29  2084.42  2245.00  2073.57  2165.33         2165.33  831257.0   \n",
       "\n",
       "    dividend_amount  split_coefficient  \n",
       "0               0.0                1.0  \n",
       "1               0.0                1.0  \n",
       "2               0.0                1.0  \n",
       "3               0.0                1.0  \n",
       "4               0.0                1.0  \n",
       "..              ...                ...  \n",
       "95              0.0                1.0  \n",
       "96              0.0                1.0  \n",
       "97              0.0                1.0  \n",
       "98              0.0                1.0  \n",
       "99              0.0                1.0  \n",
       "\n",
       "[100 rows x 9 columns]"
      ]
     },
     "execution_count": 20,
     "metadata": {},
     "output_type": "execute_result"
    }
   ],
   "source": [
    "import pandas as pd\n",
    "import numpy as np\n",
    "df=pd.read_csv(\"eth.csv\",parse_dates=[\"date\"])\n",
    "df"
   ]
  },
  {
   "cell_type": "code",
   "execution_count": 21,
   "id": "72a205ba",
   "metadata": {},
   "outputs": [],
   "source": [
    "df=df.sort_values(\"date\",ascending=True).reset_index(drop=True)"
   ]
  },
  {
   "cell_type": "code",
   "execution_count": 22,
   "id": "04b1cc1c",
   "metadata": {},
   "outputs": [],
   "source": [
    "# import datetime\n",
    "# df[\"date\"]=pd.to_datetime(df[\"date\"])\n",
    "# df.index=df.pop('date')"
   ]
  },
  {
   "cell_type": "code",
   "execution_count": 23,
   "id": "68c318e3",
   "metadata": {},
   "outputs": [
    {
     "data": {
      "text/html": [
       "<div>\n",
       "<style scoped>\n",
       "    .dataframe tbody tr th:only-of-type {\n",
       "        vertical-align: middle;\n",
       "    }\n",
       "\n",
       "    .dataframe tbody tr th {\n",
       "        vertical-align: top;\n",
       "    }\n",
       "\n",
       "    .dataframe thead th {\n",
       "        text-align: right;\n",
       "    }\n",
       "</style>\n",
       "<table border=\"1\" class=\"dataframe\">\n",
       "  <thead>\n",
       "    <tr style=\"text-align: right;\">\n",
       "      <th></th>\n",
       "      <th>date</th>\n",
       "      <th>open</th>\n",
       "      <th>high</th>\n",
       "      <th>low</th>\n",
       "      <th>close</th>\n",
       "      <th>adjusted_close</th>\n",
       "      <th>volume</th>\n",
       "      <th>dividend_amount</th>\n",
       "      <th>split_coefficient</th>\n",
       "    </tr>\n",
       "  </thead>\n",
       "  <tbody>\n",
       "    <tr>\n",
       "      <th>0</th>\n",
       "      <td>2021-06-29</td>\n",
       "      <td>2084.42</td>\n",
       "      <td>2245.00</td>\n",
       "      <td>2073.57</td>\n",
       "      <td>2165.33</td>\n",
       "      <td>2165.33</td>\n",
       "      <td>831257.0</td>\n",
       "      <td>0.0</td>\n",
       "      <td>1.0</td>\n",
       "    </tr>\n",
       "    <tr>\n",
       "      <th>1</th>\n",
       "      <td>2021-06-30</td>\n",
       "      <td>2165.46</td>\n",
       "      <td>2287.78</td>\n",
       "      <td>2087.99</td>\n",
       "      <td>2275.68</td>\n",
       "      <td>2275.68</td>\n",
       "      <td>910583.0</td>\n",
       "      <td>0.0</td>\n",
       "      <td>1.0</td>\n",
       "    </tr>\n",
       "    <tr>\n",
       "      <th>2</th>\n",
       "      <td>2021-07-01</td>\n",
       "      <td>2275.68</td>\n",
       "      <td>2275.93</td>\n",
       "      <td>2073.12</td>\n",
       "      <td>2106.41</td>\n",
       "      <td>2106.41</td>\n",
       "      <td>787865.0</td>\n",
       "      <td>0.0</td>\n",
       "      <td>1.0</td>\n",
       "    </tr>\n",
       "    <tr>\n",
       "      <th>3</th>\n",
       "      <td>2021-07-02</td>\n",
       "      <td>2106.41</td>\n",
       "      <td>2160.00</td>\n",
       "      <td>2018.50</td>\n",
       "      <td>2154.13</td>\n",
       "      <td>2154.13</td>\n",
       "      <td>672282.0</td>\n",
       "      <td>0.0</td>\n",
       "      <td>1.0</td>\n",
       "    </tr>\n",
       "    <tr>\n",
       "      <th>4</th>\n",
       "      <td>2021-07-03</td>\n",
       "      <td>2153.95</td>\n",
       "      <td>2240.00</td>\n",
       "      <td>2112.01</td>\n",
       "      <td>2226.99</td>\n",
       "      <td>2226.99</td>\n",
       "      <td>569264.0</td>\n",
       "      <td>0.0</td>\n",
       "      <td>1.0</td>\n",
       "    </tr>\n",
       "    <tr>\n",
       "      <th>...</th>\n",
       "      <td>...</td>\n",
       "      <td>...</td>\n",
       "      <td>...</td>\n",
       "      <td>...</td>\n",
       "      <td>...</td>\n",
       "      <td>...</td>\n",
       "      <td>...</td>\n",
       "      <td>...</td>\n",
       "      <td>...</td>\n",
       "    </tr>\n",
       "    <tr>\n",
       "      <th>95</th>\n",
       "      <td>2021-10-02</td>\n",
       "      <td>3309.91</td>\n",
       "      <td>3469.00</td>\n",
       "      <td>3257.00</td>\n",
       "      <td>3387.76</td>\n",
       "      <td>3387.76</td>\n",
       "      <td>422551.0</td>\n",
       "      <td>0.0</td>\n",
       "      <td>1.0</td>\n",
       "    </tr>\n",
       "    <tr>\n",
       "      <th>96</th>\n",
       "      <td>2021-10-03</td>\n",
       "      <td>3387.77</td>\n",
       "      <td>3488.00</td>\n",
       "      <td>3342.51</td>\n",
       "      <td>3417.73</td>\n",
       "      <td>3417.73</td>\n",
       "      <td>360586.0</td>\n",
       "      <td>0.0</td>\n",
       "      <td>1.0</td>\n",
       "    </tr>\n",
       "    <tr>\n",
       "      <th>97</th>\n",
       "      <td>2021-10-04</td>\n",
       "      <td>3417.73</td>\n",
       "      <td>3437.19</td>\n",
       "      <td>3270.00</td>\n",
       "      <td>3386.31</td>\n",
       "      <td>3386.31</td>\n",
       "      <td>485204.0</td>\n",
       "      <td>0.0</td>\n",
       "      <td>1.0</td>\n",
       "    </tr>\n",
       "    <tr>\n",
       "      <th>98</th>\n",
       "      <td>2021-10-05</td>\n",
       "      <td>3386.31</td>\n",
       "      <td>3545.00</td>\n",
       "      <td>3363.78</td>\n",
       "      <td>3515.27</td>\n",
       "      <td>3515.27</td>\n",
       "      <td>393900.0</td>\n",
       "      <td>0.0</td>\n",
       "      <td>1.0</td>\n",
       "    </tr>\n",
       "    <tr>\n",
       "      <th>99</th>\n",
       "      <td>2021-10-06</td>\n",
       "      <td>3515.48</td>\n",
       "      <td>3538.70</td>\n",
       "      <td>3502.80</td>\n",
       "      <td>3517.71</td>\n",
       "      <td>3517.71</td>\n",
       "      <td>11513.0</td>\n",
       "      <td>0.0</td>\n",
       "      <td>1.0</td>\n",
       "    </tr>\n",
       "  </tbody>\n",
       "</table>\n",
       "<p>100 rows × 9 columns</p>\n",
       "</div>"
      ],
      "text/plain": [
       "         date     open     high      low    close  adjusted_close    volume  \\\n",
       "0  2021-06-29  2084.42  2245.00  2073.57  2165.33         2165.33  831257.0   \n",
       "1  2021-06-30  2165.46  2287.78  2087.99  2275.68         2275.68  910583.0   \n",
       "2  2021-07-01  2275.68  2275.93  2073.12  2106.41         2106.41  787865.0   \n",
       "3  2021-07-02  2106.41  2160.00  2018.50  2154.13         2154.13  672282.0   \n",
       "4  2021-07-03  2153.95  2240.00  2112.01  2226.99         2226.99  569264.0   \n",
       "..        ...      ...      ...      ...      ...             ...       ...   \n",
       "95 2021-10-02  3309.91  3469.00  3257.00  3387.76         3387.76  422551.0   \n",
       "96 2021-10-03  3387.77  3488.00  3342.51  3417.73         3417.73  360586.0   \n",
       "97 2021-10-04  3417.73  3437.19  3270.00  3386.31         3386.31  485204.0   \n",
       "98 2021-10-05  3386.31  3545.00  3363.78  3515.27         3515.27  393900.0   \n",
       "99 2021-10-06  3515.48  3538.70  3502.80  3517.71         3517.71   11513.0   \n",
       "\n",
       "    dividend_amount  split_coefficient  \n",
       "0               0.0                1.0  \n",
       "1               0.0                1.0  \n",
       "2               0.0                1.0  \n",
       "3               0.0                1.0  \n",
       "4               0.0                1.0  \n",
       "..              ...                ...  \n",
       "95              0.0                1.0  \n",
       "96              0.0                1.0  \n",
       "97              0.0                1.0  \n",
       "98              0.0                1.0  \n",
       "99              0.0                1.0  \n",
       "\n",
       "[100 rows x 9 columns]"
      ]
     },
     "execution_count": 23,
     "metadata": {},
     "output_type": "execute_result"
    }
   ],
   "source": [
    "df"
   ]
  },
  {
   "cell_type": "code",
   "execution_count": 24,
   "id": "04891ced",
   "metadata": {},
   "outputs": [],
   "source": [
    "dclose=df[[\"date\",\"close\"]]\n",
    "# dclose.rename(columns={\"date\":df})"
   ]
  },
  {
   "cell_type": "code",
   "execution_count": 25,
   "id": "5ebc44e2",
   "metadata": {},
   "outputs": [
    {
     "data": {
      "text/html": [
       "<div>\n",
       "<style scoped>\n",
       "    .dataframe tbody tr th:only-of-type {\n",
       "        vertical-align: middle;\n",
       "    }\n",
       "\n",
       "    .dataframe tbody tr th {\n",
       "        vertical-align: top;\n",
       "    }\n",
       "\n",
       "    .dataframe thead th {\n",
       "        text-align: right;\n",
       "    }\n",
       "</style>\n",
       "<table border=\"1\" class=\"dataframe\">\n",
       "  <thead>\n",
       "    <tr style=\"text-align: right;\">\n",
       "      <th></th>\n",
       "      <th>date</th>\n",
       "      <th>close</th>\n",
       "    </tr>\n",
       "  </thead>\n",
       "  <tbody>\n",
       "    <tr>\n",
       "      <th>0</th>\n",
       "      <td>2021-06-29</td>\n",
       "      <td>2165.33</td>\n",
       "    </tr>\n",
       "    <tr>\n",
       "      <th>1</th>\n",
       "      <td>2021-06-30</td>\n",
       "      <td>2275.68</td>\n",
       "    </tr>\n",
       "    <tr>\n",
       "      <th>2</th>\n",
       "      <td>2021-07-01</td>\n",
       "      <td>2106.41</td>\n",
       "    </tr>\n",
       "    <tr>\n",
       "      <th>3</th>\n",
       "      <td>2021-07-02</td>\n",
       "      <td>2154.13</td>\n",
       "    </tr>\n",
       "    <tr>\n",
       "      <th>4</th>\n",
       "      <td>2021-07-03</td>\n",
       "      <td>2226.99</td>\n",
       "    </tr>\n",
       "    <tr>\n",
       "      <th>...</th>\n",
       "      <td>...</td>\n",
       "      <td>...</td>\n",
       "    </tr>\n",
       "    <tr>\n",
       "      <th>95</th>\n",
       "      <td>2021-10-02</td>\n",
       "      <td>3387.76</td>\n",
       "    </tr>\n",
       "    <tr>\n",
       "      <th>96</th>\n",
       "      <td>2021-10-03</td>\n",
       "      <td>3417.73</td>\n",
       "    </tr>\n",
       "    <tr>\n",
       "      <th>97</th>\n",
       "      <td>2021-10-04</td>\n",
       "      <td>3386.31</td>\n",
       "    </tr>\n",
       "    <tr>\n",
       "      <th>98</th>\n",
       "      <td>2021-10-05</td>\n",
       "      <td>3515.27</td>\n",
       "    </tr>\n",
       "    <tr>\n",
       "      <th>99</th>\n",
       "      <td>2021-10-06</td>\n",
       "      <td>3517.71</td>\n",
       "    </tr>\n",
       "  </tbody>\n",
       "</table>\n",
       "<p>100 rows × 2 columns</p>\n",
       "</div>"
      ],
      "text/plain": [
       "         date    close\n",
       "0  2021-06-29  2165.33\n",
       "1  2021-06-30  2275.68\n",
       "2  2021-07-01  2106.41\n",
       "3  2021-07-02  2154.13\n",
       "4  2021-07-03  2226.99\n",
       "..        ...      ...\n",
       "95 2021-10-02  3387.76\n",
       "96 2021-10-03  3417.73\n",
       "97 2021-10-04  3386.31\n",
       "98 2021-10-05  3515.27\n",
       "99 2021-10-06  3517.71\n",
       "\n",
       "[100 rows x 2 columns]"
      ]
     },
     "execution_count": 25,
     "metadata": {},
     "output_type": "execute_result"
    }
   ],
   "source": [
    "dclose"
   ]
  },
  {
   "cell_type": "code",
   "execution_count": 26,
   "id": "6be7bea6",
   "metadata": {},
   "outputs": [
    {
     "name": "stderr",
     "output_type": "stream",
     "text": [
      "/var/folders/bj/r2dj9qf91bv819f05q69y_jc0000gn/T/ipykernel_53946/3327503328.py:1: SettingWithCopyWarning: \n",
      "A value is trying to be set on a copy of a slice from a DataFrame.\n",
      "Try using .loc[row_indexer,col_indexer] = value instead\n",
      "\n",
      "See the caveats in the documentation: https://pandas.pydata.org/pandas-docs/stable/user_guide/indexing.html#returning-a-view-versus-a-copy\n",
      "  dclose[\"dateshift\"]=dclose[\"date\"]-dclose[\"date\"].shift()\n"
     ]
    },
    {
     "data": {
      "text/html": [
       "<div>\n",
       "<style scoped>\n",
       "    .dataframe tbody tr th:only-of-type {\n",
       "        vertical-align: middle;\n",
       "    }\n",
       "\n",
       "    .dataframe tbody tr th {\n",
       "        vertical-align: top;\n",
       "    }\n",
       "\n",
       "    .dataframe thead th {\n",
       "        text-align: right;\n",
       "    }\n",
       "</style>\n",
       "<table border=\"1\" class=\"dataframe\">\n",
       "  <thead>\n",
       "    <tr style=\"text-align: right;\">\n",
       "      <th></th>\n",
       "      <th>date</th>\n",
       "      <th>close</th>\n",
       "      <th>dateshift</th>\n",
       "    </tr>\n",
       "  </thead>\n",
       "  <tbody>\n",
       "    <tr>\n",
       "      <th>0</th>\n",
       "      <td>2021-06-29</td>\n",
       "      <td>2165.33</td>\n",
       "      <td>NaT</td>\n",
       "    </tr>\n",
       "    <tr>\n",
       "      <th>1</th>\n",
       "      <td>2021-06-30</td>\n",
       "      <td>2275.68</td>\n",
       "      <td>1 days</td>\n",
       "    </tr>\n",
       "    <tr>\n",
       "      <th>2</th>\n",
       "      <td>2021-07-01</td>\n",
       "      <td>2106.41</td>\n",
       "      <td>1 days</td>\n",
       "    </tr>\n",
       "    <tr>\n",
       "      <th>3</th>\n",
       "      <td>2021-07-02</td>\n",
       "      <td>2154.13</td>\n",
       "      <td>1 days</td>\n",
       "    </tr>\n",
       "    <tr>\n",
       "      <th>4</th>\n",
       "      <td>2021-07-03</td>\n",
       "      <td>2226.99</td>\n",
       "      <td>1 days</td>\n",
       "    </tr>\n",
       "    <tr>\n",
       "      <th>...</th>\n",
       "      <td>...</td>\n",
       "      <td>...</td>\n",
       "      <td>...</td>\n",
       "    </tr>\n",
       "    <tr>\n",
       "      <th>95</th>\n",
       "      <td>2021-10-02</td>\n",
       "      <td>3387.76</td>\n",
       "      <td>1 days</td>\n",
       "    </tr>\n",
       "    <tr>\n",
       "      <th>96</th>\n",
       "      <td>2021-10-03</td>\n",
       "      <td>3417.73</td>\n",
       "      <td>1 days</td>\n",
       "    </tr>\n",
       "    <tr>\n",
       "      <th>97</th>\n",
       "      <td>2021-10-04</td>\n",
       "      <td>3386.31</td>\n",
       "      <td>1 days</td>\n",
       "    </tr>\n",
       "    <tr>\n",
       "      <th>98</th>\n",
       "      <td>2021-10-05</td>\n",
       "      <td>3515.27</td>\n",
       "      <td>1 days</td>\n",
       "    </tr>\n",
       "    <tr>\n",
       "      <th>99</th>\n",
       "      <td>2021-10-06</td>\n",
       "      <td>3517.71</td>\n",
       "      <td>1 days</td>\n",
       "    </tr>\n",
       "  </tbody>\n",
       "</table>\n",
       "<p>100 rows × 3 columns</p>\n",
       "</div>"
      ],
      "text/plain": [
       "         date    close dateshift\n",
       "0  2021-06-29  2165.33       NaT\n",
       "1  2021-06-30  2275.68    1 days\n",
       "2  2021-07-01  2106.41    1 days\n",
       "3  2021-07-02  2154.13    1 days\n",
       "4  2021-07-03  2226.99    1 days\n",
       "..        ...      ...       ...\n",
       "95 2021-10-02  3387.76    1 days\n",
       "96 2021-10-03  3417.73    1 days\n",
       "97 2021-10-04  3386.31    1 days\n",
       "98 2021-10-05  3515.27    1 days\n",
       "99 2021-10-06  3517.71    1 days\n",
       "\n",
       "[100 rows x 3 columns]"
      ]
     },
     "execution_count": 26,
     "metadata": {},
     "output_type": "execute_result"
    }
   ],
   "source": [
    "dclose[\"dateshift\"]=dclose[\"date\"]-dclose[\"date\"].shift()\n",
    "dclose"
   ]
  },
  {
   "cell_type": "code",
   "execution_count": 27,
   "id": "d5b6606f",
   "metadata": {},
   "outputs": [
    {
     "name": "stderr",
     "output_type": "stream",
     "text": [
      "/Users/krutikasarode/opt/anaconda3/lib/python3.9/site-packages/pandas/core/frame.py:4906: SettingWithCopyWarning: \n",
      "A value is trying to be set on a copy of a slice from a DataFrame\n",
      "\n",
      "See the caveats in the documentation: https://pandas.pydata.org/pandas-docs/stable/user_guide/indexing.html#returning-a-view-versus-a-copy\n",
      "  return super().drop(\n"
     ]
    }
   ],
   "source": [
    "dclose.drop(\"dateshift\",inplace=True,axis=1)"
   ]
  },
  {
   "cell_type": "code",
   "execution_count": 28,
   "id": "69bccef5",
   "metadata": {},
   "outputs": [
    {
     "data": {
      "image/png": "[encoded data removed]",
      "text/plain": [
       "<Figure size 1080x288 with 1 Axes>"
      ]
     },
     "metadata": {
      "needs_background": "light"
     },
     "output_type": "display_data"
    }
   ],
   "source": [
    "import seaborn as sns # Visualization\n",
    "import matplotlib.pyplot as plt\n",
    "f, ax = plt.subplots(figsize=(15,4))\n",
    "\n",
    "sns.lineplot(x=dclose['date'], y=dclose['close'], color='darkorange', label = 'modified')\n",
    "plt.show()"
   ]
  },
  {
   "cell_type": "code",
   "execution_count": 29,
   "id": "d46ec92b",
   "metadata": {},
   "outputs": [
    {
     "name": "stdout",
     "output_type": "stream",
     "text": [
      "Data is not stationary pvalue: 0.6666251697155634\n"
     ]
    }
   ],
   "source": [
    "from statsmodels.tsa.stattools import adfuller\n",
    "# meandf.dropna(inplace=True)\n",
    "#perform augmented Dickey-Fuller test\n",
    "res=adfuller(dclose[\"close\"])\n",
    "if res[1]>0.05: print(\"Data is not stationary pvalue:\",res[1])\n",
    "else: print(\"Data is stationary\")"
   ]
  },
  {
   "cell_type": "code",
   "execution_count": 30,
   "id": "5a05c0d2",
   "metadata": {},
   "outputs": [
    {
     "name": "stdout",
     "output_type": "stream",
     "text": [
      "Data is not stationary pvalue: 0.6960888447593068\n"
     ]
    },
    {
     "name": "stderr",
     "output_type": "stream",
     "text": [
      "/var/folders/bj/r2dj9qf91bv819f05q69y_jc0000gn/T/ipykernel_53946/1979315563.py:1: SettingWithCopyWarning: \n",
      "A value is trying to be set on a copy of a slice from a DataFrame.\n",
      "Try using .loc[row_indexer,col_indexer] = value instead\n",
      "\n",
      "See the caveats in the documentation: https://pandas.pydata.org/pandas-docs/stable/user_guide/indexing.html#returning-a-view-versus-a-copy\n",
      "  dclose[\"closeLog\"]=dclose[\"close\"].apply(lambda x: np.log(x))\n"
     ]
    }
   ],
   "source": [
    "dclose[\"closeLog\"]=dclose[\"close\"].apply(lambda x: np.log(x))\n",
    "res=adfuller(dclose[\"closeLog\"])\n",
    "if res[1]>0.05: print(\"Data is not stationary pvalue:\",res[1])\n",
    "else: print(\"Data is stationary\")"
   ]
  },
  {
   "cell_type": "code",
   "execution_count": 31,
   "id": "fb7e59e4",
   "metadata": {},
   "outputs": [
    {
     "name": "stdout",
     "output_type": "stream",
     "text": [
      "Data is stationary\n"
     ]
    },
    {
     "name": "stderr",
     "output_type": "stream",
     "text": [
      "/Users/krutikasarode/opt/anaconda3/lib/python3.9/site-packages/pandas/util/_decorators.py:311: SettingWithCopyWarning: \n",
      "A value is trying to be set on a copy of a slice from a DataFrame\n",
      "\n",
      "See the caveats in the documentation: https://pandas.pydata.org/pandas-docs/stable/user_guide/indexing.html#returning-a-view-versus-a-copy\n",
      "  return func(*args, **kwargs)\n",
      "/var/folders/bj/r2dj9qf91bv819f05q69y_jc0000gn/T/ipykernel_53946/510333569.py:2: SettingWithCopyWarning: \n",
      "A value is trying to be set on a copy of a slice from a DataFrame.\n",
      "Try using .loc[row_indexer,col_indexer] = value instead\n",
      "\n",
      "See the caveats in the documentation: https://pandas.pydata.org/pandas-docs/stable/user_guide/indexing.html#returning-a-view-versus-a-copy\n",
      "  dclose[\"closeDiff\"]=dclose[\"close\"]-dclose[\"close\"].shift()\n"
     ]
    }
   ],
   "source": [
    "dclose.dropna(inplace=True)\n",
    "dclose[\"closeDiff\"]=dclose[\"close\"]-dclose[\"close\"].shift()\n",
    "dclose.dropna(inplace=True)\n",
    "\n",
    "res=adfuller(dclose[\"closeDiff\"])\n",
    "if res[1]>0.05: print(\"Data is not stationary pvalue:\",res[1])\n",
    "else: print(\"Data is stationary\")"
   ]
  },
  {
   "cell_type": "code",
   "execution_count": 32,
   "id": "fc7ba54f",
   "metadata": {},
   "outputs": [
    {
     "data": {
      "image/png": "[encoded data removed]",
      "text/plain": [
       "<Figure size 1080x288 with 1 Axes>"
      ]
     },
     "metadata": {
      "needs_background": "light"
     },
     "output_type": "display_data"
    }
   ],
   "source": [
    "import seaborn as sns # Visualization\n",
    "import matplotlib.pyplot as plt\n",
    "f, ax = plt.subplots(figsize=(15,4))\n",
    "\n",
    "sns.lineplot(x=dclose['date'], y=dclose['closeDiff'], color='darkorange', label = 'modified')\n",
    "plt.show()"
   ]
  },
  {
   "cell_type": "code",
   "execution_count": 33,
   "id": "be44ff65",
   "metadata": {},
   "outputs": [
    {
     "data": {
      "image/png": "[encoded data removed]",
      "text/plain": [
       "<Figure size 432x288 with 1 Axes>"
      ]
     },
     "metadata": {
      "needs_background": "light"
     },
     "output_type": "display_data"
    },
    {
     "data": {
      "image/png": "[encoded data removed]",
      "text/plain": [
       "<Figure size 432x288 with 1 Axes>"
      ]
     },
     "metadata": {
      "needs_background": "light"
     },
     "output_type": "display_data"
    }
   ],
   "source": [
    "from statsmodels.graphics.tsaplots import plot_pacf, plot_acf\n",
    "plot_pacf(dclose[\"closeDiff\"], lags=30)\n",
    "plot_acf(dclose[\"closeDiff\"], lags=30)\n",
    "\n",
    "plt.show()"
   ]
  },
  {
   "cell_type": "code",
   "execution_count": 34,
   "id": "572a68bf",
   "metadata": {},
   "outputs": [
    {
     "name": "stdout",
     "output_type": "stream",
     "text": [
      "89 10\n"
     ]
    }
   ],
   "source": [
    "train_size = int(0.90 * len(dclose))\n",
    "test_size = len(dclose) - train_size\n",
    "\n",
    "univariate_df = dclose[['date','close','closeDiff']].copy()\n",
    "# univariate_df.columns = ['ds', 'y']\n",
    "univariate_df.index=univariate_df.pop('date')\n",
    "train = univariate_df.iloc[:train_size, :]\n",
    "df.index=df.pop('date')\n",
    "x_train, y_train = pd.DataFrame(univariate_df.iloc[:train_size, 0]), pd.DataFrame(univariate_df.iloc[:train_size, 1])\n",
    "x_valid, y_valid = pd.DataFrame(univariate_df.iloc[train_size:, 0]), pd.DataFrame(univariate_df.iloc[train_size:, 1])\n",
    "\n",
    "print(len(train), len(x_valid))"
   ]
  },
  {
   "cell_type": "code",
   "execution_count": 48,
   "id": "2af7f792",
   "metadata": {},
   "outputs": [
    {
     "name": "stderr",
     "output_type": "stream",
     "text": [
      "/Users/krutikasarode/opt/anaconda3/lib/python3.9/site-packages/statsmodels/tsa/base/tsa_model.py:524: ValueWarning: No frequency information was provided, so inferred frequency D will be used.\n",
      "  warnings.warn('No frequency information was'\n",
      " This problem is unconstrained.\n"
     ]
    },
    {
     "name": "stdout",
     "output_type": "stream",
     "text": [
      "RUNNING THE L-BFGS-B CODE\n",
      "\n",
      "           * * *\n",
      "\n",
      "Machine precision = 2.220D-16\n",
      " N =            8     M =           12\n",
      "\n",
      "At X0         0 variables are exactly at the bounds\n",
      "\n",
      "At iterate    0    f=  6.72105D+00    |proj g|=  2.69427D-01\n",
      "\n",
      "At iterate    5    f=  6.35670D+00    |proj g|=  1.32913D-02\n",
      "\n",
      "At iterate   10    f=  6.35332D+00    |proj g|=  3.97060D-03\n",
      "\n",
      "At iterate   15    f=  6.35252D+00    |proj g|=  1.82100D-02\n",
      "\n",
      "At iterate   20    f=  6.35176D+00    |proj g|=  6.84803D-03\n",
      "\n",
      "At iterate   25    f=  6.35171D+00    |proj g|=  8.38689D-03\n"
     ]
    },
    {
     "name": "stderr",
     "output_type": "stream",
     "text": [
      "\n",
      " Bad direction in the line search;\n",
      "   refresh the lbfgs memory and restart the iteration.\n"
     ]
    },
    {
     "name": "stdout",
     "output_type": "stream",
     "text": [
      "\n",
      "At iterate   30    f=  6.35171D+00    |proj g|=  1.42656D-02\n"
     ]
    },
    {
     "name": "stderr",
     "output_type": "stream",
     "text": [
      "\n",
      " Bad direction in the line search;\n",
      "   refresh the lbfgs memory and restart the iteration.\n"
     ]
    },
    {
     "name": "stdout",
     "output_type": "stream",
     "text": [
      "\n",
      "At iterate   35    f=  6.35169D+00    |proj g|=  1.29745D-02\n",
      "\n",
      "At iterate   40    f=  6.35168D+00    |proj g|=  5.43467D-03\n"
     ]
    },
    {
     "name": "stderr",
     "output_type": "stream",
     "text": [
      "\n",
      " Bad direction in the line search;\n",
      "   refresh the lbfgs memory and restart the iteration.\n",
      "\n",
      " Bad direction in the line search;\n",
      "   refresh the lbfgs memory and restart the iteration.\n",
      "\n",
      " Line search cannot locate an adequate point after MAXLS\n",
      "  function and gradient evaluations.\n",
      "  Previous x, f and g restored.\n",
      " Possible causes: 1 error in function or gradient evaluation;\n",
      "                  2 rounding error dominate computation.\n"
     ]
    },
    {
     "name": "stdout",
     "output_type": "stream",
     "text": [
      "\n",
      "           * * *\n",
      "\n",
      "Tit   = total number of iterations\n",
      "Tnf   = total number of function evaluations\n",
      "Tnint = total number of segments explored during Cauchy searches\n",
      "Skip  = number of BFGS updates skipped\n",
      "Nact  = number of active bounds at final generalized Cauchy point\n",
      "Projg = norm of the final projected gradient\n",
      "F     = final function value\n",
      "\n",
      "           * * *\n",
      "\n",
      "   N    Tit     Tnf  Tnint  Skip  Nact     Projg        F\n",
      "    8     44    287      5     0     0   1.388D-02   6.352D+00\n",
      "  F =   6.3516804364097394     \n",
      "\n",
      "ABNORMAL_TERMINATION_IN_LNSRCH                              \n"
     ]
    },
    {
     "name": "stderr",
     "output_type": "stream",
     "text": [
      "/Users/krutikasarode/opt/anaconda3/lib/python3.9/site-packages/statsmodels/base/model.py:547: HessianInversionWarning: Inverting hessian failed, no bse or cov_params available\n",
      "  warnings.warn('Inverting hessian failed, no bse or cov_params '\n",
      "/Users/krutikasarode/opt/anaconda3/lib/python3.9/site-packages/statsmodels/base/model.py:566: ConvergenceWarning: Maximum Likelihood optimization failed to converge. Check mle_retvals\n",
      "  warnings.warn(\"Maximum Likelihood optimization failed to \"\n"
     ]
    }
   ],
   "source": [
    "from statsmodels.tsa.arima_model import ARIMA\n",
    "from sklearn.metrics import mean_absolute_error, mean_squared_error\n",
    "import math\n",
    "# Fit model\n",
    "model = ARIMA(x_train, order=(6,0,1))\n",
    "model_fit = model.fit()\n",
    "\n",
    "# Prediction with ARIMA\n",
    "# y_pred, se, conf = model_fit.forecast(15)\n",
    "y_pred=model_fit.predict(start=1,end=len(x_train)+len(x_valid)-1)\n",
    "# Calcuate metrics\n",
    "# print(y_pred)\n",
    "# print(len(y_pred))\n",
    "# score_mae = mean_absolute_error(x_valid, y_pred)\n",
    "# score_rmse = math.sqrt(mean_squared_error(x_valid, y_pred))\n",
    "\n",
    "# print('RMSE: {}'.format(score_rmse))"
   ]
  },
  {
   "cell_type": "code",
   "execution_count": 49,
   "id": "438e72c5",
   "metadata": {},
   "outputs": [
    {
     "data": {
      "image/png": "[encoded data removed]",
      "text/plain": [
       "<Figure size 1080x504 with 1 Axes>"
      ]
     },
     "metadata": {
      "needs_background": "light"
     },
     "output_type": "display_data"
    }
   ],
   "source": [
    "# print(y_train[0:5], y_pred[0:5])\n",
    "plt.subplots(figsize=(15,7))\n",
    "\n",
    "# plt.plot(x_train)\n",
    "plt.plot(train[\"close\"])\n",
    "\n",
    "plt.plot(y_pred,color=\"red\")\n",
    "plt.plot(x_valid)\n",
    "plt.suptitle('Time-Series Prediction')\n",
    "plt.legend([\"Actual\",\"Predicted\"])\n",
    "plt.show()"
   ]
  },
  {
   "cell_type": "code",
   "execution_count": 43,
   "id": "038091c7",
   "metadata": {},
   "outputs": [
    {
     "data": {
      "image/png": "[encoded data removed]",
      "text/plain": [
       "<Figure size 1080x504 with 1 Axes>"
      ]
     },
     "metadata": {
      "needs_background": "light"
     },
     "output_type": "display_data"
    }
   ],
   "source": [
    "# print(y_train[0:5], y_pred[0:5])\n",
    "plt.subplots(figsize=(15,7))\n",
    "\n",
    "# plt.plot(x_train)\n",
    "plt.plot(train[\"closeDiff\"])\n",
    "\n",
    "plt.plot(y_pred,color=\"red\")\n",
    "plt.plot(y_valid)\n",
    "plt.suptitle('Time-Series Prediction')\n",
    "plt.legend([\"Actual\",\"Predicted\"])\n",
    "plt.show()"
   ]
  },
  {
   "cell_type": "code",
   "execution_count": 38,
   "id": "7863f7b1",
   "metadata": {},
   "outputs": [
    {
     "name": "stdout",
     "output_type": "stream",
     "text": [
      "2021-07-01    2293.447665\n",
      "2021-07-02    2128.729795\n",
      "2021-07-03    2177.156677\n",
      "2021-07-04    2225.660956\n",
      "2021-07-05    2321.349168\n",
      "Freq: D, dtype: float64\n",
      "              close\n",
      "date               \n",
      "2021-06-30  2275.68\n",
      "2021-07-01  2106.41\n",
      "2021-07-02  2154.13\n",
      "2021-07-03  2226.99\n",
      "2021-07-04  2322.69\n"
     ]
    }
   ],
   "source": [
    "print(y_pred[:5])\n",
    "print(x_train[:5])"
   ]
  },
  {
   "cell_type": "code",
   "execution_count": null,
   "id": "f3dada67",
   "metadata": {},
   "outputs": [],
   "source": []
  }
 ],
 "metadata": {
  "kernelspec": {
   "display_name": "Python 3 (ipykernel)",
   "language": "python",
   "name": "python3"
  },
  "language_info": {
   "codemirror_mode": {
    "name": "ipython",
    "version": 3
   },
   "file_extension": ".py",
   "mimetype": "text/x-python",
   "name": "python",
   "nbconvert_exporter": "python",
   "pygments_lexer": "ipython3",
   "version": "3.9.7"
  }
 },
 "nbformat": 4,
 "nbformat_minor": 5
}
