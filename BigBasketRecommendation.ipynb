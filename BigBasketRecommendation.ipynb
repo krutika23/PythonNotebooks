{
  "nbformat": 4,
  "nbformat_minor": 0,
  "metadata": {
    "colab": {
      "provenance": [],
      "collapsed_sections": []
    },
    "kernelspec": {
      "name": "python3",
      "display_name": "Python 3"
    },
    "language_info": {
      "name": "python"
    }
  },
  "cells": [
    {
      "cell_type": "code",
      "execution_count": null,
      "metadata": {
        "colab": {
          "base_uri": "https://localhost:8080/",
          "height": 944
        },
        "id": "_pbQ5W8gBbla",
        "outputId": "82bad2a1-3472-451e-e001-0db51c99fbc1"
      },
      "outputs": [
        {
          "output_type": "execute_result",
          "data": {
            "text/plain": [
              "                                                 product  \\\n",
              "index                                                      \n",
              "1                 Garlic Oil - Vegetarian Capsule 500 mg   \n",
              "2                                  Water Bottle - Orange   \n",
              "3                         Brass Angle Deep - Plain, No.2   \n",
              "4      Cereal Flip Lid Container/Storage Jar - Assort...   \n",
              "5                     Creme Soft Soap - For Hands & Body   \n",
              "6                      Germ - Removal Multipurpose Wipes   \n",
              "7                                           Multani Mati   \n",
              "8                      Hand Sanitizer - 70% Alcohol Base   \n",
              "9      Biotin & Collagen Volumizing Hair Shampoo + Bi...   \n",
              "10                  Scrub Pad - Anti- Bacterial, Regular   \n",
              "\n",
              "                     category            sub_category              brand  \\\n",
              "index                                                                      \n",
              "1            Beauty & Hygiene               Hair Care  Sri Sri Ayurveda    \n",
              "2      Kitchen, Garden & Pets   Storage & Accessories         Mastercook   \n",
              "3        Cleaning & Household             Pooja Needs                Trm   \n",
              "4        Cleaning & Household    Bins & Bathroom Ware             Nakoda   \n",
              "5            Beauty & Hygiene        Bath & Hand Wash              Nivea   \n",
              "6        Cleaning & Household    All Purpose Cleaners     Nature Protect   \n",
              "7            Beauty & Hygiene               Skin Care          Satinance   \n",
              "8            Beauty & Hygiene        Bath & Hand Wash            Bionova   \n",
              "9            Beauty & Hygiene               Hair Care         StBotanica   \n",
              "10       Cleaning & Household  Mops, Brushes & Scrubs       Scotch brite   \n",
              "\n",
              "       sale_price  market_price                           type  rating  \\\n",
              "index                                                                    \n",
              "1           220.0         220.0               Hair Oil & Serum     4.1   \n",
              "2           180.0         180.0         Water & Fridge Bottles     2.3   \n",
              "3           119.0         250.0                Lamp & Lamp Oil     3.4   \n",
              "4           149.0         176.0       Laundry, Storage Baskets     3.7   \n",
              "5           162.0         162.0           Bathing Bars & Soaps     4.4   \n",
              "6           169.0         199.0  Disinfectant Spray & Cleaners     3.3   \n",
              "7            58.0          58.0                      Face Care     3.6   \n",
              "8           250.0         250.0         Hand Wash & Sanitizers     4.0   \n",
              "9          1098.0        1098.0          Shampoo & Conditioner     3.5   \n",
              "10           20.0          20.0       Utensil Scrub-Pad, Glove     4.3   \n",
              "\n",
              "                                             description  \n",
              "index                                                     \n",
              "1      This Product contains Garlic Oil that is known...  \n",
              "2      Each product is microwave safe (without lid), ...  \n",
              "3      A perfect gift for all occasions, be it your m...  \n",
              "4      Multipurpose container with an attractive desi...  \n",
              "5      Nivea Creme Soft Soap gives your skin the best...  \n",
              "6      Stay protected from contamination with Multipu...  \n",
              "7      Satinance multani matti is an excellent skin t...  \n",
              "8      70%Alcohol based is gentle of hand leaves skin...  \n",
              "9      An exclusive blend with Vitamin B7 Biotin, Hyd...  \n",
              "10     Scotch Brite Anti- Bacterial Scrub Pad thoroug...  "
            ],
            "text/html": [
              "\n",
              "  <div id=\"df-2e88c277-5766-4403-85c2-744b89ee5756\">\n",
              "    <div class=\"colab-df-container\">\n",
              "      <div>\n",
              "<style scoped>\n",
              "    .dataframe tbody tr th:only-of-type {\n",
              "        vertical-align: middle;\n",
              "    }\n",
              "\n",
              "    .dataframe tbody tr th {\n",
              "        vertical-align: top;\n",
              "    }\n",
              "\n",
              "    .dataframe thead th {\n",
              "        text-align: right;\n",
              "    }\n",
              "</style>\n",
              "<table border=\"1\" class=\"dataframe\">\n",
              "  <thead>\n",
              "    <tr style=\"text-align: right;\">\n",
              "      <th></th>\n",
              "      <th>product</th>\n",
              "      <th>category</th>\n",
              "      <th>sub_category</th>\n",
              "      <th>brand</th>\n",
              "      <th>sale_price</th>\n",
              "      <th>market_price</th>\n",
              "      <th>type</th>\n",
              "      <th>rating</th>\n",
              "      <th>description</th>\n",
              "    </tr>\n",
              "    <tr>\n",
              "      <th>index</th>\n",
              "      <th></th>\n",
              "      <th></th>\n",
              "      <th></th>\n",
              "      <th></th>\n",
              "      <th></th>\n",
              "      <th></th>\n",
              "      <th></th>\n",
              "      <th></th>\n",
              "      <th></th>\n",
              "    </tr>\n",
              "  </thead>\n",
              "  <tbody>\n",
              "    <tr>\n",
              "      <th>1</th>\n",
              "      <td>Garlic Oil - Vegetarian Capsule 500 mg</td>\n",
              "      <td>Beauty &amp; Hygiene</td>\n",
              "      <td>Hair Care</td>\n",
              "      <td>Sri Sri Ayurveda</td>\n",
              "      <td>220.0</td>\n",
              "      <td>220.0</td>\n",
              "      <td>Hair Oil &amp; Serum</td>\n",
              "      <td>4.1</td>\n",
              "      <td>This Product contains Garlic Oil that is known...</td>\n",
              "    </tr>\n",
              "    <tr>\n",
              "      <th>2</th>\n",
              "      <td>Water Bottle - Orange</td>\n",
              "      <td>Kitchen, Garden &amp; Pets</td>\n",
              "      <td>Storage &amp; Accessories</td>\n",
              "      <td>Mastercook</td>\n",
              "      <td>180.0</td>\n",
              "      <td>180.0</td>\n",
              "      <td>Water &amp; Fridge Bottles</td>\n",
              "      <td>2.3</td>\n",
              "      <td>Each product is microwave safe (without lid), ...</td>\n",
              "    </tr>\n",
              "    <tr>\n",
              "      <th>3</th>\n",
              "      <td>Brass Angle Deep - Plain, No.2</td>\n",
              "      <td>Cleaning &amp; Household</td>\n",
              "      <td>Pooja Needs</td>\n",
              "      <td>Trm</td>\n",
              "      <td>119.0</td>\n",
              "      <td>250.0</td>\n",
              "      <td>Lamp &amp; Lamp Oil</td>\n",
              "      <td>3.4</td>\n",
              "      <td>A perfect gift for all occasions, be it your m...</td>\n",
              "    </tr>\n",
              "    <tr>\n",
              "      <th>4</th>\n",
              "      <td>Cereal Flip Lid Container/Storage Jar - Assort...</td>\n",
              "      <td>Cleaning &amp; Household</td>\n",
              "      <td>Bins &amp; Bathroom Ware</td>\n",
              "      <td>Nakoda</td>\n",
              "      <td>149.0</td>\n",
              "      <td>176.0</td>\n",
              "      <td>Laundry, Storage Baskets</td>\n",
              "      <td>3.7</td>\n",
              "      <td>Multipurpose container with an attractive desi...</td>\n",
              "    </tr>\n",
              "    <tr>\n",
              "      <th>5</th>\n",
              "      <td>Creme Soft Soap - For Hands &amp; Body</td>\n",
              "      <td>Beauty &amp; Hygiene</td>\n",
              "      <td>Bath &amp; Hand Wash</td>\n",
              "      <td>Nivea</td>\n",
              "      <td>162.0</td>\n",
              "      <td>162.0</td>\n",
              "      <td>Bathing Bars &amp; Soaps</td>\n",
              "      <td>4.4</td>\n",
              "      <td>Nivea Creme Soft Soap gives your skin the best...</td>\n",
              "    </tr>\n",
              "    <tr>\n",
              "      <th>6</th>\n",
              "      <td>Germ - Removal Multipurpose Wipes</td>\n",
              "      <td>Cleaning &amp; Household</td>\n",
              "      <td>All Purpose Cleaners</td>\n",
              "      <td>Nature Protect</td>\n",
              "      <td>169.0</td>\n",
              "      <td>199.0</td>\n",
              "      <td>Disinfectant Spray &amp; Cleaners</td>\n",
              "      <td>3.3</td>\n",
              "      <td>Stay protected from contamination with Multipu...</td>\n",
              "    </tr>\n",
              "    <tr>\n",
              "      <th>7</th>\n",
              "      <td>Multani Mati</td>\n",
              "      <td>Beauty &amp; Hygiene</td>\n",
              "      <td>Skin Care</td>\n",
              "      <td>Satinance</td>\n",
              "      <td>58.0</td>\n",
              "      <td>58.0</td>\n",
              "      <td>Face Care</td>\n",
              "      <td>3.6</td>\n",
              "      <td>Satinance multani matti is an excellent skin t...</td>\n",
              "    </tr>\n",
              "    <tr>\n",
              "      <th>8</th>\n",
              "      <td>Hand Sanitizer - 70% Alcohol Base</td>\n",
              "      <td>Beauty &amp; Hygiene</td>\n",
              "      <td>Bath &amp; Hand Wash</td>\n",
              "      <td>Bionova</td>\n",
              "      <td>250.0</td>\n",
              "      <td>250.0</td>\n",
              "      <td>Hand Wash &amp; Sanitizers</td>\n",
              "      <td>4.0</td>\n",
              "      <td>70%Alcohol based is gentle of hand leaves skin...</td>\n",
              "    </tr>\n",
              "    <tr>\n",
              "      <th>9</th>\n",
              "      <td>Biotin &amp; Collagen Volumizing Hair Shampoo + Bi...</td>\n",
              "      <td>Beauty &amp; Hygiene</td>\n",
              "      <td>Hair Care</td>\n",
              "      <td>StBotanica</td>\n",
              "      <td>1098.0</td>\n",
              "      <td>1098.0</td>\n",
              "      <td>Shampoo &amp; Conditioner</td>\n",
              "      <td>3.5</td>\n",
              "      <td>An exclusive blend with Vitamin B7 Biotin, Hyd...</td>\n",
              "    </tr>\n",
              "    <tr>\n",
              "      <th>10</th>\n",
              "      <td>Scrub Pad - Anti- Bacterial, Regular</td>\n",
              "      <td>Cleaning &amp; Household</td>\n",
              "      <td>Mops, Brushes &amp; Scrubs</td>\n",
              "      <td>Scotch brite</td>\n",
              "      <td>20.0</td>\n",
              "      <td>20.0</td>\n",
              "      <td>Utensil Scrub-Pad, Glove</td>\n",
              "      <td>4.3</td>\n",
              "      <td>Scotch Brite Anti- Bacterial Scrub Pad thoroug...</td>\n",
              "    </tr>\n",
              "  </tbody>\n",
              "</table>\n",
              "</div>\n",
              "      <button class=\"colab-df-convert\" onclick=\"convertToInteractive('df-2e88c277-5766-4403-85c2-744b89ee5756')\"\n",
              "              title=\"Convert this dataframe to an interactive table.\"\n",
              "              style=\"display:none;\">\n",
              "        \n",
              "  <svg xmlns=\"http://www.w3.org/2000/svg\" height=\"24px\"viewBox=\"0 0 24 24\"\n",
              "       width=\"24px\">\n",
              "    <path d=\"M0 0h24v24H0V0z\" fill=\"none\"/>\n",
              "    <path d=\"M18.56 5.44l.94 2.06.94-2.06 2.06-.94-2.06-.94-.94-2.06-.94 2.06-2.06.94zm-11 1L8.5 8.5l.94-2.06 2.06-.94-2.06-.94L8.5 2.5l-.94 2.06-2.06.94zm10 10l.94 2.06.94-2.06 2.06-.94-2.06-.94-.94-2.06-.94 2.06-2.06.94z\"/><path d=\"M17.41 7.96l-1.37-1.37c-.4-.4-.92-.59-1.43-.59-.52 0-1.04.2-1.43.59L10.3 9.45l-7.72 7.72c-.78.78-.78 2.05 0 2.83L4 21.41c.39.39.9.59 1.41.59.51 0 1.02-.2 1.41-.59l7.78-7.78 2.81-2.81c.8-.78.8-2.07 0-2.86zM5.41 20L4 18.59l7.72-7.72 1.47 1.35L5.41 20z\"/>\n",
              "  </svg>\n",
              "      </button>\n",
              "      \n",
              "  <style>\n",
              "    .colab-df-container {\n",
              "      display:flex;\n",
              "      flex-wrap:wrap;\n",
              "      gap: 12px;\n",
              "    }\n",
              "\n",
              "    .colab-df-convert {\n",
              "      background-color: #E8F0FE;\n",
              "      border: none;\n",
              "      border-radius: 50%;\n",
              "      cursor: pointer;\n",
              "      display: none;\n",
              "      fill: #1967D2;\n",
              "      height: 32px;\n",
              "      padding: 0 0 0 0;\n",
              "      width: 32px;\n",
              "    }\n",
              "\n",
              "    .colab-df-convert:hover {\n",
              "      background-color: #E2EBFA;\n",
              "      box-shadow: 0px 1px 2px rgba(60, 64, 67, 0.3), 0px 1px 3px 1px rgba(60, 64, 67, 0.15);\n",
              "      fill: #174EA6;\n",
              "    }\n",
              "\n",
              "    [theme=dark] .colab-df-convert {\n",
              "      background-color: #3B4455;\n",
              "      fill: #D2E3FC;\n",
              "    }\n",
              "\n",
              "    [theme=dark] .colab-df-convert:hover {\n",
              "      background-color: #434B5C;\n",
              "      box-shadow: 0px 1px 3px 1px rgba(0, 0, 0, 0.15);\n",
              "      filter: drop-shadow(0px 1px 2px rgba(0, 0, 0, 0.3));\n",
              "      fill: #FFFFFF;\n",
              "    }\n",
              "  </style>\n",
              "\n",
              "      <script>\n",
              "        const buttonEl =\n",
              "          document.querySelector('#df-2e88c277-5766-4403-85c2-744b89ee5756 button.colab-df-convert');\n",
              "        buttonEl.style.display =\n",
              "          google.colab.kernel.accessAllowed ? 'block' : 'none';\n",
              "\n",
              "        async function convertToInteractive(key) {\n",
              "          const element = document.querySelector('#df-2e88c277-5766-4403-85c2-744b89ee5756');\n",
              "          const dataTable =\n",
              "            await google.colab.kernel.invokeFunction('convertToInteractive',\n",
              "                                                     [key], {});\n",
              "          if (!dataTable) return;\n",
              "\n",
              "          const docLinkHtml = 'Like what you see? Visit the ' +\n",
              "            '<a target=\"_blank\" href=https://colab.research.google.com/notebooks/data_table.ipynb>data table notebook</a>'\n",
              "            + ' to learn more about interactive tables.';\n",
              "          element.innerHTML = '';\n",
              "          dataTable['output_type'] = 'display_data';\n",
              "          await google.colab.output.renderOutput(dataTable, element);\n",
              "          const docLink = document.createElement('div');\n",
              "          docLink.innerHTML = docLinkHtml;\n",
              "          element.appendChild(docLink);\n",
              "        }\n",
              "      </script>\n",
              "    </div>\n",
              "  </div>\n",
              "  "
            ]
          },
          "metadata": {},
          "execution_count": 2
        }
      ],
      "source": [
        " import numpy as np\n",
        "import pandas as pd\n",
        "\n",
        "#Visualization Libraries\n",
        "import matplotlib.pyplot as plt\n",
        "import seaborn as sns\n",
        "import plotly.express as px\n",
        "\n",
        "#Text Handling Libraries\n",
        "import re\n",
        "from sklearn.feature_extraction.text import TfidfVectorizer, CountVectorizer\n",
        "from sklearn.metrics.pairwise import linear_kernel, cosine_similarity\n",
        "\n",
        "df=pd.read_csv('/content/drive/MyDrive/Data/BigBasket Products.csv',index_col='index')\n",
        "df.head(10)"
      ]
    },
    {
      "cell_type": "code",
      "source": [
        "print(df.shape)\n",
        "df.isna().sum()\n"
      ],
      "metadata": {
        "colab": {
          "base_uri": "https://localhost:8080/"
        },
        "id": "PzxXEvyOCS8w",
        "outputId": "18edeeaa-3e2d-4cf6-bc09-31b4a618af4a"
      },
      "execution_count": null,
      "outputs": [
        {
          "output_type": "stream",
          "name": "stdout",
          "text": [
            "(27555, 9)\n"
          ]
        },
        {
          "output_type": "execute_result",
          "data": {
            "text/plain": [
              "product            1\n",
              "category           0\n",
              "sub_category       0\n",
              "brand              1\n",
              "sale_price         0\n",
              "market_price       0\n",
              "type               0\n",
              "rating          8626\n",
              "description      115\n",
              "dtype: int64"
            ]
          },
          "metadata": {},
          "execution_count": 3
        }
      ]
    },
    {
      "cell_type": "code",
      "source": [
        "df.dropna(inplace=True)\n",
        "print(df.shape)"
      ],
      "metadata": {
        "colab": {
          "base_uri": "https://localhost:8080/"
        },
        "id": "KxWrBKG0Cb9Y",
        "outputId": "1d96c6af-cf49-4b56-9baf-47f51ce84519"
      },
      "execution_count": null,
      "outputs": [
        {
          "output_type": "stream",
          "name": "stdout",
          "text": [
            "(18840, 9)\n"
          ]
        }
      ]
    },
    {
      "cell_type": "code",
      "source": [
        "df['category'].value_counts()"
      ],
      "metadata": {
        "colab": {
          "base_uri": "https://localhost:8080/"
        },
        "id": "T8M-ex-OCulR",
        "outputId": "54ba9eea-3f67-4f3d-d7eb-9a0ca72d5519"
      },
      "execution_count": null,
      "outputs": [
        {
          "output_type": "execute_result",
          "data": {
            "text/plain": [
              "Beauty & Hygiene            5460\n",
              "Kitchen, Garden & Pets      2494\n",
              "Snacks & Branded Foods      2468\n",
              "Gourmet & World Food        2364\n",
              "Foodgrains, Oil & Masala    2173\n",
              "Cleaning & Household        2091\n",
              "Bakery, Cakes & Dairy        665\n",
              "Beverages                    630\n",
              "Baby Care                    495\n",
              "Name: category, dtype: int64"
            ]
          },
          "metadata": {},
          "execution_count": 5
        }
      ]
    },
    {
      "cell_type": "code",
      "source": [
        "tfidf = TfidfVectorizer(stop_words='english')\n",
        "tfidf_matrix = tfidf.fit_transform(df['description'])\n",
        "tfidf_matrix.shape"
      ],
      "metadata": {
        "colab": {
          "base_uri": "https://localhost:8080/"
        },
        "id": "Id26DIlgDk4p",
        "outputId": "e6def853-b332-4425-aba2-fd86b441f375"
      },
      "execution_count": null,
      "outputs": [
        {
          "output_type": "execute_result",
          "data": {
            "text/plain": [
              "(18840, 23342)"
            ]
          },
          "metadata": {},
          "execution_count": 6
        }
      ]
    },
    {
      "cell_type": "code",
      "source": [
        "len(tfidf.get_feature_names())"
      ],
      "metadata": {
        "colab": {
          "base_uri": "https://localhost:8080/"
        },
        "id": "oPWgDzg6Gn5n",
        "outputId": "23f35605-5e4a-4406-d2a6-49b99a9d491c"
      },
      "execution_count": null,
      "outputs": [
        {
          "output_type": "stream",
          "name": "stderr",
          "text": [
            "/usr/local/lib/python3.7/dist-packages/sklearn/utils/deprecation.py:87: FutureWarning: Function get_feature_names is deprecated; get_feature_names is deprecated in 1.0 and will be removed in 1.2. Please use get_feature_names_out instead.\n",
            "  warnings.warn(msg, category=FutureWarning)\n"
          ]
        },
        {
          "output_type": "execute_result",
          "data": {
            "text/plain": [
              "23342"
            ]
          },
          "metadata": {},
          "execution_count": 7
        }
      ]
    },
    {
      "cell_type": "code",
      "source": [
        "cosine_sim = linear_kernel(tfidf_matrix, tfidf_matrix)\n",
        "cosine_sim"
      ],
      "metadata": {
        "colab": {
          "base_uri": "https://localhost:8080/"
        },
        "id": "uVmcpKPRG02C",
        "outputId": "7f7af163-874e-4f76-b96c-8e0dd8860290"
      },
      "execution_count": null,
      "outputs": [
        {
          "output_type": "execute_result",
          "data": {
            "text/plain": [
              "array([[1.        , 0.01632718, 0.00999603, ..., 0.01056047, 0.01133156,\n",
              "        0.        ],\n",
              "       [0.01632718, 1.        , 0.00719713, ..., 0.        , 0.        ,\n",
              "        0.        ],\n",
              "       [0.00999603, 0.00719713, 1.        , ..., 0.00635776, 0.        ,\n",
              "        0.        ],\n",
              "       ...,\n",
              "       [0.01056047, 0.        , 0.00635776, ..., 1.        , 0.        ,\n",
              "        0.        ],\n",
              "       [0.01133156, 0.        , 0.        , ..., 0.        , 1.        ,\n",
              "        0.        ],\n",
              "       [0.        , 0.        , 0.        , ..., 0.        , 0.        ,\n",
              "        1.        ]])"
            ]
          },
          "metadata": {},
          "execution_count": 8
        }
      ]
    },
    {
      "cell_type": "code",
      "source": [
        "indices=pd.Series(df.index,index=df['product']).drop_duplicates()"
      ],
      "metadata": {
        "id": "JL5Z3zbTG_V3"
      },
      "execution_count": null,
      "outputs": []
    },
    {
      "cell_type": "code",
      "source": [
        "def get_similar(title,cosine_sim):\n",
        "  idx=indices[title]\n",
        "  sim_score=list(enumerate(cosine_sim[idx]))\n",
        "  sim_score.sort(reverse=True,key=lambda x:x[1])\n",
        "  sim_score=sim_score[1:11]\n",
        "  indexes=[i[0] for i in sim_score]\n",
        "  items=df['product'].iloc[indexes]\n",
        "  return items\n",
        "get_similar('Hand Sanitizer - 70% Alcohol Base',cosine_sim)"
      ],
      "metadata": {
        "colab": {
          "base_uri": "https://localhost:8080/"
        },
        "id": "qdycnOasKno2",
        "outputId": "aa180b11-9c16-46b5-aad8-b3bfa646e228"
      },
      "execution_count": null,
      "outputs": [
        {
          "output_type": "execute_result",
          "data": {
            "text/plain": [
              "index\n",
              "11582                   Biotin & Collagen Hair Conditioner\n",
              "22148            Biotin & Collagen Strenghtening Hair Mask\n",
              "18491                      Conditioner - Biotin & Collagen\n",
              "5251     Bounce Hair Recovery Complex, Biotin & Seleniu...\n",
              "2709     Pro Keratin & Argan Oil Smooth Therapy Conditi...\n",
              "18867    Red Onion Hair Shampoo - With Biotin, Argan Oi...\n",
              "23324                                   Protein Hair Cream\n",
              "16492    Moroccan Argan Hair Oil - Jojoba, Almond, Cast...\n",
              "5457     Hair Strengthening Conditioner - For Thicker &...\n",
              "6720     Hair Strengthening Conditioner - For Thicker &...\n",
              "Name: product, dtype: object"
            ]
          },
          "metadata": {},
          "execution_count": 10
        }
      ]
    },
    {
      "cell_type": "code",
      "source": [
        "df2=df.copy()"
      ],
      "metadata": {
        "id": "FAlVr48ULRRb"
      },
      "execution_count": null,
      "outputs": []
    },
    {
      "cell_type": "code",
      "source": [
        "for i in ['category','sub_category','type']:\n",
        "  df2[i]=df2[i].apply(lambda x: re.split('& |, |\\*|\\n',str(x).strip()))"
      ],
      "metadata": {
        "id": "ZFTC8ilUOY8U"
      },
      "execution_count": null,
      "outputs": []
    },
    {
      "cell_type": "code",
      "source": [
        "df2.head()"
      ],
      "metadata": {
        "colab": {
          "base_uri": "https://localhost:8080/",
          "height": 534
        },
        "id": "h9tpjQa0OvQA",
        "outputId": "c66eb243-1d03-40f2-cce8-9c8039dcadc1"
      },
      "execution_count": null,
      "outputs": [
        {
          "output_type": "execute_result",
          "data": {
            "text/plain": [
              "                                                 product  \\\n",
              "index                                                      \n",
              "1                 Garlic Oil - Vegetarian Capsule 500 mg   \n",
              "2                                  Water Bottle - Orange   \n",
              "3                         Brass Angle Deep - Plain, No.2   \n",
              "4      Cereal Flip Lid Container/Storage Jar - Assort...   \n",
              "5                     Creme Soft Soap - For Hands & Body   \n",
              "\n",
              "                       category             sub_category              brand  \\\n",
              "index                                                                         \n",
              "1            [Beauty , Hygiene]              [Hair Care]  Sri Sri Ayurveda    \n",
              "2      [Kitchen, Garden , Pets]  [Storage , Accessories]         Mastercook   \n",
              "3        [Cleaning , Household]            [Pooja Needs]                Trm   \n",
              "4        [Cleaning , Household]   [Bins , Bathroom Ware]             Nakoda   \n",
              "5            [Beauty , Hygiene]       [Bath , Hand Wash]              Nivea   \n",
              "\n",
              "       sale_price  market_price                        type  rating  \\\n",
              "index                                                                 \n",
              "1           220.0         220.0          [Hair Oil , Serum]     4.1   \n",
              "2           180.0         180.0    [Water , Fridge Bottles]     2.3   \n",
              "3           119.0         250.0           [Lamp , Lamp Oil]     3.4   \n",
              "4           149.0         176.0  [Laundry, Storage Baskets]     3.7   \n",
              "5           162.0         162.0      [Bathing Bars , Soaps]     4.4   \n",
              "\n",
              "                                             description  \n",
              "index                                                     \n",
              "1      This Product contains Garlic Oil that is known...  \n",
              "2      Each product is microwave safe (without lid), ...  \n",
              "3      A perfect gift for all occasions, be it your m...  \n",
              "4      Multipurpose container with an attractive desi...  \n",
              "5      Nivea Creme Soft Soap gives your skin the best...  "
            ],
            "text/html": [
              "\n",
              "  <div id=\"df-a5b91b91-23b9-4e16-84fc-000da483f211\">\n",
              "    <div class=\"colab-df-container\">\n",
              "      <div>\n",
              "<style scoped>\n",
              "    .dataframe tbody tr th:only-of-type {\n",
              "        vertical-align: middle;\n",
              "    }\n",
              "\n",
              "    .dataframe tbody tr th {\n",
              "        vertical-align: top;\n",
              "    }\n",
              "\n",
              "    .dataframe thead th {\n",
              "        text-align: right;\n",
              "    }\n",
              "</style>\n",
              "<table border=\"1\" class=\"dataframe\">\n",
              "  <thead>\n",
              "    <tr style=\"text-align: right;\">\n",
              "      <th></th>\n",
              "      <th>product</th>\n",
              "      <th>category</th>\n",
              "      <th>sub_category</th>\n",
              "      <th>brand</th>\n",
              "      <th>sale_price</th>\n",
              "      <th>market_price</th>\n",
              "      <th>type</th>\n",
              "      <th>rating</th>\n",
              "      <th>description</th>\n",
              "    </tr>\n",
              "    <tr>\n",
              "      <th>index</th>\n",
              "      <th></th>\n",
              "      <th></th>\n",
              "      <th></th>\n",
              "      <th></th>\n",
              "      <th></th>\n",
              "      <th></th>\n",
              "      <th></th>\n",
              "      <th></th>\n",
              "      <th></th>\n",
              "    </tr>\n",
              "  </thead>\n",
              "  <tbody>\n",
              "    <tr>\n",
              "      <th>1</th>\n",
              "      <td>Garlic Oil - Vegetarian Capsule 500 mg</td>\n",
              "      <td>[Beauty , Hygiene]</td>\n",
              "      <td>[Hair Care]</td>\n",
              "      <td>Sri Sri Ayurveda</td>\n",
              "      <td>220.0</td>\n",
              "      <td>220.0</td>\n",
              "      <td>[Hair Oil , Serum]</td>\n",
              "      <td>4.1</td>\n",
              "      <td>This Product contains Garlic Oil that is known...</td>\n",
              "    </tr>\n",
              "    <tr>\n",
              "      <th>2</th>\n",
              "      <td>Water Bottle - Orange</td>\n",
              "      <td>[Kitchen, Garden , Pets]</td>\n",
              "      <td>[Storage , Accessories]</td>\n",
              "      <td>Mastercook</td>\n",
              "      <td>180.0</td>\n",
              "      <td>180.0</td>\n",
              "      <td>[Water , Fridge Bottles]</td>\n",
              "      <td>2.3</td>\n",
              "      <td>Each product is microwave safe (without lid), ...</td>\n",
              "    </tr>\n",
              "    <tr>\n",
              "      <th>3</th>\n",
              "      <td>Brass Angle Deep - Plain, No.2</td>\n",
              "      <td>[Cleaning , Household]</td>\n",
              "      <td>[Pooja Needs]</td>\n",
              "      <td>Trm</td>\n",
              "      <td>119.0</td>\n",
              "      <td>250.0</td>\n",
              "      <td>[Lamp , Lamp Oil]</td>\n",
              "      <td>3.4</td>\n",
              "      <td>A perfect gift for all occasions, be it your m...</td>\n",
              "    </tr>\n",
              "    <tr>\n",
              "      <th>4</th>\n",
              "      <td>Cereal Flip Lid Container/Storage Jar - Assort...</td>\n",
              "      <td>[Cleaning , Household]</td>\n",
              "      <td>[Bins , Bathroom Ware]</td>\n",
              "      <td>Nakoda</td>\n",
              "      <td>149.0</td>\n",
              "      <td>176.0</td>\n",
              "      <td>[Laundry, Storage Baskets]</td>\n",
              "      <td>3.7</td>\n",
              "      <td>Multipurpose container with an attractive desi...</td>\n",
              "    </tr>\n",
              "    <tr>\n",
              "      <th>5</th>\n",
              "      <td>Creme Soft Soap - For Hands &amp; Body</td>\n",
              "      <td>[Beauty , Hygiene]</td>\n",
              "      <td>[Bath , Hand Wash]</td>\n",
              "      <td>Nivea</td>\n",
              "      <td>162.0</td>\n",
              "      <td>162.0</td>\n",
              "      <td>[Bathing Bars , Soaps]</td>\n",
              "      <td>4.4</td>\n",
              "      <td>Nivea Creme Soft Soap gives your skin the best...</td>\n",
              "    </tr>\n",
              "  </tbody>\n",
              "</table>\n",
              "</div>\n",
              "      <button class=\"colab-df-convert\" onclick=\"convertToInteractive('df-a5b91b91-23b9-4e16-84fc-000da483f211')\"\n",
              "              title=\"Convert this dataframe to an interactive table.\"\n",
              "              style=\"display:none;\">\n",
              "        \n",
              "  <svg xmlns=\"http://www.w3.org/2000/svg\" height=\"24px\"viewBox=\"0 0 24 24\"\n",
              "       width=\"24px\">\n",
              "    <path d=\"M0 0h24v24H0V0z\" fill=\"none\"/>\n",
              "    <path d=\"M18.56 5.44l.94 2.06.94-2.06 2.06-.94-2.06-.94-.94-2.06-.94 2.06-2.06.94zm-11 1L8.5 8.5l.94-2.06 2.06-.94-2.06-.94L8.5 2.5l-.94 2.06-2.06.94zm10 10l.94 2.06.94-2.06 2.06-.94-2.06-.94-.94-2.06-.94 2.06-2.06.94z\"/><path d=\"M17.41 7.96l-1.37-1.37c-.4-.4-.92-.59-1.43-.59-.52 0-1.04.2-1.43.59L10.3 9.45l-7.72 7.72c-.78.78-.78 2.05 0 2.83L4 21.41c.39.39.9.59 1.41.59.51 0 1.02-.2 1.41-.59l7.78-7.78 2.81-2.81c.8-.78.8-2.07 0-2.86zM5.41 20L4 18.59l7.72-7.72 1.47 1.35L5.41 20z\"/>\n",
              "  </svg>\n",
              "      </button>\n",
              "      \n",
              "  <style>\n",
              "    .colab-df-container {\n",
              "      display:flex;\n",
              "      flex-wrap:wrap;\n",
              "      gap: 12px;\n",
              "    }\n",
              "\n",
              "    .colab-df-convert {\n",
              "      background-color: #E8F0FE;\n",
              "      border: none;\n",
              "      border-radius: 50%;\n",
              "      cursor: pointer;\n",
              "      display: none;\n",
              "      fill: #1967D2;\n",
              "      height: 32px;\n",
              "      padding: 0 0 0 0;\n",
              "      width: 32px;\n",
              "    }\n",
              "\n",
              "    .colab-df-convert:hover {\n",
              "      background-color: #E2EBFA;\n",
              "      box-shadow: 0px 1px 2px rgba(60, 64, 67, 0.3), 0px 1px 3px 1px rgba(60, 64, 67, 0.15);\n",
              "      fill: #174EA6;\n",
              "    }\n",
              "\n",
              "    [theme=dark] .colab-df-convert {\n",
              "      background-color: #3B4455;\n",
              "      fill: #D2E3FC;\n",
              "    }\n",
              "\n",
              "    [theme=dark] .colab-df-convert:hover {\n",
              "      background-color: #434B5C;\n",
              "      box-shadow: 0px 1px 3px 1px rgba(0, 0, 0, 0.15);\n",
              "      filter: drop-shadow(0px 1px 2px rgba(0, 0, 0, 0.3));\n",
              "      fill: #FFFFFF;\n",
              "    }\n",
              "  </style>\n",
              "\n",
              "      <script>\n",
              "        const buttonEl =\n",
              "          document.querySelector('#df-a5b91b91-23b9-4e16-84fc-000da483f211 button.colab-df-convert');\n",
              "        buttonEl.style.display =\n",
              "          google.colab.kernel.accessAllowed ? 'block' : 'none';\n",
              "\n",
              "        async function convertToInteractive(key) {\n",
              "          const element = document.querySelector('#df-a5b91b91-23b9-4e16-84fc-000da483f211');\n",
              "          const dataTable =\n",
              "            await google.colab.kernel.invokeFunction('convertToInteractive',\n",
              "                                                     [key], {});\n",
              "          if (!dataTable) return;\n",
              "\n",
              "          const docLinkHtml = 'Like what you see? Visit the ' +\n",
              "            '<a target=\"_blank\" href=https://colab.research.google.com/notebooks/data_table.ipynb>data table notebook</a>'\n",
              "            + ' to learn more about interactive tables.';\n",
              "          element.innerHTML = '';\n",
              "          dataTable['output_type'] = 'display_data';\n",
              "          await google.colab.output.renderOutput(dataTable, element);\n",
              "          const docLink = document.createElement('div');\n",
              "          docLink.innerHTML = docLinkHtml;\n",
              "          element.appendChild(docLink);\n",
              "        }\n",
              "      </script>\n",
              "    </div>\n",
              "  </div>\n",
              "  "
            ]
          },
          "metadata": {},
          "execution_count": 13
        }
      ]
    },
    {
      "cell_type": "code",
      "source": [
        "df2['type']=df2['type'].apply(lambda x: [i.replace(\" \",\"\").lower() for i in x])\n",
        "df2['category']=df2['category'].apply(lambda x: [i.replace(\" \",\"\").lower() for i in x])\n",
        "df2['sub_category']=df2['sub_category'].apply(lambda x: [i.replace(\" \",\"\").lower() for i in x])\n",
        "df2['brand']=df2['brand'].apply(lambda x: str(x).lower())\n"
      ],
      "metadata": {
        "id": "lfCFPZXlQHfV"
      },
      "execution_count": null,
      "outputs": []
    },
    {
      "cell_type": "code",
      "source": [
        "def merged_value(x):\n",
        "  return ' '.join(x['category']) + ' ' + ' '.join(x['sub_category']) + ' '+x['brand']+' ' +' '.join( x['type'])\n",
        "df2['merged']=df2.apply(merged_value,axis=1)\n",
        "df2.head()"
      ],
      "metadata": {
        "colab": {
          "base_uri": "https://localhost:8080/",
          "height": 639
        },
        "id": "e5ZrkOUwWbPl",
        "outputId": "1ed5d6c2-556e-41dc-b24b-17dc2ef84686"
      },
      "execution_count": null,
      "outputs": [
        {
          "output_type": "execute_result",
          "data": {
            "text/plain": [
              "                                                 product  \\\n",
              "index                                                      \n",
              "1                 Garlic Oil - Vegetarian Capsule 500 mg   \n",
              "2                                  Water Bottle - Orange   \n",
              "3                         Brass Angle Deep - Plain, No.2   \n",
              "4      Cereal Flip Lid Container/Storage Jar - Assort...   \n",
              "5                     Creme Soft Soap - For Hands & Body   \n",
              "\n",
              "                      category            sub_category              brand  \\\n",
              "index                                                                       \n",
              "1            [beauty, hygiene]              [haircare]  sri sri ayurveda    \n",
              "2      [kitchen, garden, pets]  [storage, accessories]         mastercook   \n",
              "3        [cleaning, household]            [poojaneeds]                trm   \n",
              "4        [cleaning, household]    [bins, bathroomware]             nakoda   \n",
              "5            [beauty, hygiene]        [bath, handwash]              nivea   \n",
              "\n",
              "       sale_price  market_price                       type  rating  \\\n",
              "index                                                                \n",
              "1           220.0         220.0           [hairoil, serum]     4.1   \n",
              "2           180.0         180.0     [water, fridgebottles]     2.3   \n",
              "3           119.0         250.0            [lamp, lampoil]     3.4   \n",
              "4           149.0         176.0  [laundry, storagebaskets]     3.7   \n",
              "5           162.0         162.0       [bathingbars, soaps]     4.4   \n",
              "\n",
              "                                             description  \\\n",
              "index                                                      \n",
              "1      This Product contains Garlic Oil that is known...   \n",
              "2      Each product is microwave safe (without lid), ...   \n",
              "3      A perfect gift for all occasions, be it your m...   \n",
              "4      Multipurpose container with an attractive desi...   \n",
              "5      Nivea Creme Soft Soap gives your skin the best...   \n",
              "\n",
              "                                                  merged  \n",
              "index                                                     \n",
              "1      beauty hygiene haircare sri sri ayurveda  hair...  \n",
              "2      kitchen garden pets storage accessories master...  \n",
              "3         cleaning household poojaneeds trm lamp lampoil  \n",
              "4      cleaning household bins bathroomware nakoda la...  \n",
              "5      beauty hygiene bath handwash nivea bathingbars...  "
            ],
            "text/html": [
              "\n",
              "  <div id=\"df-c8a989f1-68c9-404a-beaf-f5b9e29f7d49\">\n",
              "    <div class=\"colab-df-container\">\n",
              "      <div>\n",
              "<style scoped>\n",
              "    .dataframe tbody tr th:only-of-type {\n",
              "        vertical-align: middle;\n",
              "    }\n",
              "\n",
              "    .dataframe tbody tr th {\n",
              "        vertical-align: top;\n",
              "    }\n",
              "\n",
              "    .dataframe thead th {\n",
              "        text-align: right;\n",
              "    }\n",
              "</style>\n",
              "<table border=\"1\" class=\"dataframe\">\n",
              "  <thead>\n",
              "    <tr style=\"text-align: right;\">\n",
              "      <th></th>\n",
              "      <th>product</th>\n",
              "      <th>category</th>\n",
              "      <th>sub_category</th>\n",
              "      <th>brand</th>\n",
              "      <th>sale_price</th>\n",
              "      <th>market_price</th>\n",
              "      <th>type</th>\n",
              "      <th>rating</th>\n",
              "      <th>description</th>\n",
              "      <th>merged</th>\n",
              "    </tr>\n",
              "    <tr>\n",
              "      <th>index</th>\n",
              "      <th></th>\n",
              "      <th></th>\n",
              "      <th></th>\n",
              "      <th></th>\n",
              "      <th></th>\n",
              "      <th></th>\n",
              "      <th></th>\n",
              "      <th></th>\n",
              "      <th></th>\n",
              "      <th></th>\n",
              "    </tr>\n",
              "  </thead>\n",
              "  <tbody>\n",
              "    <tr>\n",
              "      <th>1</th>\n",
              "      <td>Garlic Oil - Vegetarian Capsule 500 mg</td>\n",
              "      <td>[beauty, hygiene]</td>\n",
              "      <td>[haircare]</td>\n",
              "      <td>sri sri ayurveda</td>\n",
              "      <td>220.0</td>\n",
              "      <td>220.0</td>\n",
              "      <td>[hairoil, serum]</td>\n",
              "      <td>4.1</td>\n",
              "      <td>This Product contains Garlic Oil that is known...</td>\n",
              "      <td>beauty hygiene haircare sri sri ayurveda  hair...</td>\n",
              "    </tr>\n",
              "    <tr>\n",
              "      <th>2</th>\n",
              "      <td>Water Bottle - Orange</td>\n",
              "      <td>[kitchen, garden, pets]</td>\n",
              "      <td>[storage, accessories]</td>\n",
              "      <td>mastercook</td>\n",
              "      <td>180.0</td>\n",
              "      <td>180.0</td>\n",
              "      <td>[water, fridgebottles]</td>\n",
              "      <td>2.3</td>\n",
              "      <td>Each product is microwave safe (without lid), ...</td>\n",
              "      <td>kitchen garden pets storage accessories master...</td>\n",
              "    </tr>\n",
              "    <tr>\n",
              "      <th>3</th>\n",
              "      <td>Brass Angle Deep - Plain, No.2</td>\n",
              "      <td>[cleaning, household]</td>\n",
              "      <td>[poojaneeds]</td>\n",
              "      <td>trm</td>\n",
              "      <td>119.0</td>\n",
              "      <td>250.0</td>\n",
              "      <td>[lamp, lampoil]</td>\n",
              "      <td>3.4</td>\n",
              "      <td>A perfect gift for all occasions, be it your m...</td>\n",
              "      <td>cleaning household poojaneeds trm lamp lampoil</td>\n",
              "    </tr>\n",
              "    <tr>\n",
              "      <th>4</th>\n",
              "      <td>Cereal Flip Lid Container/Storage Jar - Assort...</td>\n",
              "      <td>[cleaning, household]</td>\n",
              "      <td>[bins, bathroomware]</td>\n",
              "      <td>nakoda</td>\n",
              "      <td>149.0</td>\n",
              "      <td>176.0</td>\n",
              "      <td>[laundry, storagebaskets]</td>\n",
              "      <td>3.7</td>\n",
              "      <td>Multipurpose container with an attractive desi...</td>\n",
              "      <td>cleaning household bins bathroomware nakoda la...</td>\n",
              "    </tr>\n",
              "    <tr>\n",
              "      <th>5</th>\n",
              "      <td>Creme Soft Soap - For Hands &amp; Body</td>\n",
              "      <td>[beauty, hygiene]</td>\n",
              "      <td>[bath, handwash]</td>\n",
              "      <td>nivea</td>\n",
              "      <td>162.0</td>\n",
              "      <td>162.0</td>\n",
              "      <td>[bathingbars, soaps]</td>\n",
              "      <td>4.4</td>\n",
              "      <td>Nivea Creme Soft Soap gives your skin the best...</td>\n",
              "      <td>beauty hygiene bath handwash nivea bathingbars...</td>\n",
              "    </tr>\n",
              "  </tbody>\n",
              "</table>\n",
              "</div>\n",
              "      <button class=\"colab-df-convert\" onclick=\"convertToInteractive('df-c8a989f1-68c9-404a-beaf-f5b9e29f7d49')\"\n",
              "              title=\"Convert this dataframe to an interactive table.\"\n",
              "              style=\"display:none;\">\n",
              "        \n",
              "  <svg xmlns=\"http://www.w3.org/2000/svg\" height=\"24px\"viewBox=\"0 0 24 24\"\n",
              "       width=\"24px\">\n",
              "    <path d=\"M0 0h24v24H0V0z\" fill=\"none\"/>\n",
              "    <path d=\"M18.56 5.44l.94 2.06.94-2.06 2.06-.94-2.06-.94-.94-2.06-.94 2.06-2.06.94zm-11 1L8.5 8.5l.94-2.06 2.06-.94-2.06-.94L8.5 2.5l-.94 2.06-2.06.94zm10 10l.94 2.06.94-2.06 2.06-.94-2.06-.94-.94-2.06-.94 2.06-2.06.94z\"/><path d=\"M17.41 7.96l-1.37-1.37c-.4-.4-.92-.59-1.43-.59-.52 0-1.04.2-1.43.59L10.3 9.45l-7.72 7.72c-.78.78-.78 2.05 0 2.83L4 21.41c.39.39.9.59 1.41.59.51 0 1.02-.2 1.41-.59l7.78-7.78 2.81-2.81c.8-.78.8-2.07 0-2.86zM5.41 20L4 18.59l7.72-7.72 1.47 1.35L5.41 20z\"/>\n",
              "  </svg>\n",
              "      </button>\n",
              "      \n",
              "  <style>\n",
              "    .colab-df-container {\n",
              "      display:flex;\n",
              "      flex-wrap:wrap;\n",
              "      gap: 12px;\n",
              "    }\n",
              "\n",
              "    .colab-df-convert {\n",
              "      background-color: #E8F0FE;\n",
              "      border: none;\n",
              "      border-radius: 50%;\n",
              "      cursor: pointer;\n",
              "      display: none;\n",
              "      fill: #1967D2;\n",
              "      height: 32px;\n",
              "      padding: 0 0 0 0;\n",
              "      width: 32px;\n",
              "    }\n",
              "\n",
              "    .colab-df-convert:hover {\n",
              "      background-color: #E2EBFA;\n",
              "      box-shadow: 0px 1px 2px rgba(60, 64, 67, 0.3), 0px 1px 3px 1px rgba(60, 64, 67, 0.15);\n",
              "      fill: #174EA6;\n",
              "    }\n",
              "\n",
              "    [theme=dark] .colab-df-convert {\n",
              "      background-color: #3B4455;\n",
              "      fill: #D2E3FC;\n",
              "    }\n",
              "\n",
              "    [theme=dark] .colab-df-convert:hover {\n",
              "      background-color: #434B5C;\n",
              "      box-shadow: 0px 1px 3px 1px rgba(0, 0, 0, 0.15);\n",
              "      filter: drop-shadow(0px 1px 2px rgba(0, 0, 0, 0.3));\n",
              "      fill: #FFFFFF;\n",
              "    }\n",
              "  </style>\n",
              "\n",
              "      <script>\n",
              "        const buttonEl =\n",
              "          document.querySelector('#df-c8a989f1-68c9-404a-beaf-f5b9e29f7d49 button.colab-df-convert');\n",
              "        buttonEl.style.display =\n",
              "          google.colab.kernel.accessAllowed ? 'block' : 'none';\n",
              "\n",
              "        async function convertToInteractive(key) {\n",
              "          const element = document.querySelector('#df-c8a989f1-68c9-404a-beaf-f5b9e29f7d49');\n",
              "          const dataTable =\n",
              "            await google.colab.kernel.invokeFunction('convertToInteractive',\n",
              "                                                     [key], {});\n",
              "          if (!dataTable) return;\n",
              "\n",
              "          const docLinkHtml = 'Like what you see? Visit the ' +\n",
              "            '<a target=\"_blank\" href=https://colab.research.google.com/notebooks/data_table.ipynb>data table notebook</a>'\n",
              "            + ' to learn more about interactive tables.';\n",
              "          element.innerHTML = '';\n",
              "          dataTable['output_type'] = 'display_data';\n",
              "          await google.colab.output.renderOutput(dataTable, element);\n",
              "          const docLink = document.createElement('div');\n",
              "          docLink.innerHTML = docLinkHtml;\n",
              "          element.appendChild(docLink);\n",
              "        }\n",
              "      </script>\n",
              "    </div>\n",
              "  </div>\n",
              "  "
            ]
          },
          "metadata": {},
          "execution_count": 15
        }
      ]
    },
    {
      "cell_type": "code",
      "source": [
        "tfidf = CountVectorizer(stop_words='english')\n",
        "tfidf_matrix = tfidf.fit_transform(df2['merged'])\n",
        "tfidf_matrix.shape"
      ],
      "metadata": {
        "colab": {
          "base_uri": "https://localhost:8080/"
        },
        "id": "qm0V_XPKWdAW",
        "outputId": "20b7d334-09e0-4f35-e563-7245b7471530"
      },
      "execution_count": null,
      "outputs": [
        {
          "output_type": "execute_result",
          "data": {
            "text/plain": [
              "(18840, 2672)"
            ]
          },
          "metadata": {},
          "execution_count": 16
        }
      ]
    },
    {
      "cell_type": "code",
      "source": [
        "cosine_sim = linear_kernel(tfidf_matrix, tfidf_matrix)\n",
        "cosine_sim"
      ],
      "metadata": {
        "colab": {
          "base_uri": "https://localhost:8080/"
        },
        "id": "oTGmYPgsXaVE",
        "outputId": "6c6fd809-2ad3-4dff-cefb-7a68dbb89983"
      },
      "execution_count": null,
      "outputs": [
        {
          "output_type": "execute_result",
          "data": {
            "text/plain": [
              "array([[10.,  0.,  0., ...,  0.,  0.,  2.],\n",
              "       [ 0.,  8.,  0., ...,  0.,  0.,  0.],\n",
              "       [ 0.,  0.,  6., ...,  0.,  0.,  0.],\n",
              "       ...,\n",
              "       [ 0.,  0.,  0., ...,  8.,  0.,  0.],\n",
              "       [ 0.,  0.,  0., ...,  0.,  4.,  0.],\n",
              "       [ 2.,  0.,  0., ...,  0.,  0., 11.]])"
            ]
          },
          "metadata": {},
          "execution_count": 17
        }
      ]
    },
    {
      "cell_type": "code",
      "source": [
        "indices=pd.Series(df2.index,index=df2['product']).drop_duplicates()"
      ],
      "metadata": {
        "id": "7L98FBzFXwq1"
      },
      "execution_count": null,
      "outputs": []
    },
    {
      "cell_type": "code",
      "source": [
        "def get_similar(title,cosine_sim):\n",
        "  idx=indices[title]\n",
        "  sim_score=list(enumerate(cosine_sim[idx]))\n",
        "  sim_score.sort(reverse=True,key=lambda x:x[1])\n",
        "  sim_score=sim_score[1:11]\n",
        "  indexes=[i[0] for i in sim_score]\n",
        "  items=df2['product'].iloc[indexes]\n",
        "  return items\n",
        "get_similar('Cadbury Perk - Chocolate Bar',cosine_sim)"
      ],
      "metadata": {
        "colab": {
          "base_uri": "https://localhost:8080/"
        },
        "id": "AbTPiV54X3oD",
        "outputId": "b5c71d31-7d0a-4361-95b2-3cbb402edc5f"
      },
      "execution_count": null,
      "outputs": [
        {
          "output_type": "execute_result",
          "data": {
            "text/plain": [
              "index\n",
              "4955                                   Pickle - Gooseberry\n",
              "21303                             Pickle - Mixed Vegetable\n",
              "26457                                      Pickle - Garlic\n",
              "367                     Andhra Special Allam/Ginger Pickle\n",
              "662                                           Dates Pickle\n",
              "1260     Homemade  Seedless Amla Pickle - No Preservatives\n",
              "1398                                       Thokku - Tomato\n",
              "1931                            Achar - Sweet & Sour Berry\n",
              "2080                           Pickle - Red Stuffed Chilli\n",
              "2470                           Pickle - Punjabi Pacharanga\n",
              "Name: product, dtype: object"
            ]
          },
          "metadata": {},
          "execution_count": 19
        }
      ]
    },
    {
      "cell_type": "code",
      "source": [],
      "metadata": {
        "id": "3E_YpgXuX_YU"
      },
      "execution_count": null,
      "outputs": []
    }
  ]
}