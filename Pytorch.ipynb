{
 "cells": [
  {
   "cell_type": "code",
   "execution_count": 1,
   "id": "55da7d15",
   "metadata": {},
   "outputs": [],
   "source": [
    "import torch\n",
    "import numpy as np"
   ]
  },
  {
   "cell_type": "code",
   "execution_count": 2,
   "id": "66e06b24",
   "metadata": {},
   "outputs": [
    {
     "name": "stdout",
     "output_type": "stream",
     "text": [
      "<class 'torch.Tensor'>\n",
      "<class 'numpy.ndarray'>\n"
     ]
    }
   ],
   "source": [
    "arr=np.array([1,2,3,4])\n",
    "tensor=torch.from_numpy(arr)\n",
    "print(type(tensor))\n",
    "num=tensor.numpy()\n",
    "print(type(num))"
   ]
  },
  {
   "cell_type": "code",
   "execution_count": 3,
   "id": "1fb4a711",
   "metadata": {},
   "outputs": [
    {
     "name": "stdout",
     "output_type": "stream",
     "text": [
      "<class 'torch.Tensor'>\n"
     ]
    }
   ],
   "source": [
    "import pandas as pd\n",
    "series=pd.Series([1,2,4,5])\n",
    "tensor=torch.from_numpy(series.values)\n",
    "print(type(tensor))"
   ]
  },
  {
   "cell_type": "code",
   "execution_count": 4,
   "id": "40d653cb",
   "metadata": {},
   "outputs": [
    {
     "data": {
      "text/plain": [
       "1"
      ]
     },
     "execution_count": 4,
     "metadata": {},
     "output_type": "execute_result"
    }
   ],
   "source": [
    "# to return values from tensor\n",
    "tensor[0].item()"
   ]
  },
  {
   "cell_type": "code",
   "execution_count": 5,
   "id": "fc3eb7ed",
   "metadata": {},
   "outputs": [
    {
     "data": {
      "text/plain": [
       "tensor(13)"
      ]
     },
     "execution_count": 5,
     "metadata": {},
     "output_type": "execute_result"
    }
   ],
   "source": [
    "#dot product\n",
    "u=torch.tensor([1,3])\n",
    "v=torch.tensor([4,3])\n",
    "product=torch.dot(u,v)\n",
    "product"
   ]
  },
  {
   "cell_type": "code",
   "execution_count": 6,
   "id": "52d1c28b",
   "metadata": {},
   "outputs": [
    {
     "data": {
      "text/plain": [
       "tensor([-2.0000, -0.6667,  0.6667,  2.0000])"
      ]
     },
     "execution_count": 6,
     "metadata": {},
     "output_type": "execute_result"
    }
   ],
   "source": [
    "#linspace\n",
    "torch.linspace(-2,2,steps=4)"
   ]
  },
  {
   "cell_type": "code",
   "execution_count": 7,
   "id": "0d510f98",
   "metadata": {},
   "outputs": [
    {
     "data": {
      "text/plain": [
       "tensor(16., dtype=torch.float64, grad_fn=<PowBackward0>)"
      ]
     },
     "execution_count": 7,
     "metadata": {},
     "output_type": "execute_result"
    }
   ],
   "source": [
    "#Derivative of values set requires_grad parameter\n",
    "x=torch.tensor(4,requires_grad=True,dtype=float)\n",
    "y=x**2\n",
    "y"
   ]
  },
  {
   "cell_type": "code",
   "execution_count": 8,
   "id": "e73a1703",
   "metadata": {},
   "outputs": [
    {
     "data": {
      "text/plain": [
       "tensor(16., dtype=torch.float64, grad_fn=<PowBackward0>)"
      ]
     },
     "execution_count": 8,
     "metadata": {},
     "output_type": "execute_result"
    }
   ],
   "source": [
    "#backward() for calculating derivative\n",
    "y.backward()\n",
    "y"
   ]
  },
  {
   "cell_type": "code",
   "execution_count": 9,
   "id": "7d28d881",
   "metadata": {},
   "outputs": [],
   "source": [
    "from torch.utils.data import Dataset\n",
    "class toy_set(Dataset):\n",
    "    def __init__(self,length=100,transform=False):\n",
    "        self.x=2*torch.ones(length,2)\n",
    "        self.y=torch.ones(length,1)\n",
    "        self.len=length\n",
    "        self.transform=transform\n",
    "    def __len__(self):\n",
    "        return self.len\n",
    "    def __getitem__(self,index):\n",
    "        sample=self.x[index],self.y[index]\n",
    "        if self.transform:\n",
    "            sample=self.transform(sample)\n",
    "        return sample"
   ]
  },
  {
   "cell_type": "code",
   "execution_count": 10,
   "id": "00fd937c",
   "metadata": {},
   "outputs": [],
   "source": [
    "class add_mult(object):\n",
    "    def __init__(self,addx=1,muly=1):\n",
    "        self.addx=addx\n",
    "        self.muly=muly\n",
    "    def __call__(self,sample):\n",
    "        x=sample[0]\n",
    "        y=sample[1]\n",
    "        x=x+self.addx\n",
    "        y=y*self.muly\n",
    "        sample=x,y\n",
    "        return sample"
   ]
  },
  {
   "cell_type": "code",
   "execution_count": 11,
   "id": "2b7ae9fe",
   "metadata": {},
   "outputs": [],
   "source": [
    "from torchvision import transforms\n",
    "#Apply multiple transform methods on dataset elements\n",
    "multiple_t=transforms.Compose([add_mult(),add_mult()])"
   ]
  },
  {
   "cell_type": "code",
   "execution_count": 12,
   "id": "a8eefe17",
   "metadata": {},
   "outputs": [
    {
     "data": {
      "text/plain": [
       "Dataset MNIST\n",
       "    Number of datapoints: 60000\n",
       "    Root location: ./\n",
       "    Split: Train\n",
       "    StandardTransform\n",
       "Transform: ToTensor()"
      ]
     },
     "execution_count": 12,
     "metadata": {},
     "output_type": "execute_result"
    }
   ],
   "source": [
    "#torchvision has some inbuilt datasets which we can use\n",
    "import torchvision.datasets as dsets\n",
    "dataset=dsets.MNIST(root=\"./\",download=True,transform=transforms.ToTensor()) #transform converts the image to a tensor\n",
    "dataset"
   ]
  },
  {
   "cell_type": "code",
   "execution_count": 13,
   "id": "74cfda70",
   "metadata": {},
   "outputs": [
    {
     "name": "stdout",
     "output_type": "stream",
     "text": [
      "<generator object Module.parameters at 0x7f96a294a890>\n",
      "torch.FloatTensor\n"
     ]
    },
    {
     "data": {
      "text/plain": [
       "tensor([[-0.5775]], grad_fn=<AddmmBackward0>)"
      ]
     },
     "execution_count": 13,
     "metadata": {},
     "output_type": "execute_result"
    }
   ],
   "source": [
    "#Linear regression model\n",
    "from torch.nn import Linear\n",
    "model=Linear(in_features=1,out_features=1)\n",
    "print(model.parameters())\n",
    "X=torch.tensor([[1.0]])\n",
    "print(X.type())\n",
    "yhat=model(X)\n",
    "yhat"
   ]
  },
  {
   "cell_type": "code",
   "execution_count": 20,
   "id": "fab4f7c8",
   "metadata": {},
   "outputs": [],
   "source": [
    "# we generally create custom modules which inherits nn.Module to pack multiple models in a class\n",
    "import torch.nn as nn\n",
    "\n",
    "class LR(nn.Module):\n",
    "    def __init__(self,in_featrues=1,out_features=1):\n",
    "        super(LR,self).__init__()\n",
    "        self.linear=nn.Linear(in_features=1,out_features=1)\n",
    "    \n",
    "    def forward(self,X):\n",
    "        out=self.linear(X)\n",
    "        return out\n",
    "    def criterion(self,yhat,y):\n",
    "        return torch.mean((yhat-y)**2)"
   ]
  },
  {
   "cell_type": "code",
   "execution_count": 25,
   "id": "7bc0f307",
   "metadata": {},
   "outputs": [],
   "source": [
    "model=LR(1,1)\n",
    "yhat=model.forward(X)\n"
   ]
  },
  {
   "cell_type": "code",
   "execution_count": 26,
   "id": "6bbc8e85",
   "metadata": {},
   "outputs": [
    {
     "data": {
      "text/plain": [
       "OrderedDict([('linear.weight', tensor([[0.6237]])),\n",
       "             ('linear.bias', tensor([-0.5253]))])"
      ]
     },
     "execution_count": 26,
     "metadata": {},
     "output_type": "execute_result"
    }
   ],
   "source": [
    "model.state_dict()"
   ]
  },
  {
   "cell_type": "code",
   "execution_count": 27,
   "id": "add22cd4",
   "metadata": {},
   "outputs": [],
   "source": [
    "w=torch.tensor(-15.0,requires_grad=True)\n",
    "b=torch.tensor(10.0,requires_grad=True)\n",
    "X=torch.arange(-3,3,0.1).view(-1,1)\n",
    "lr=0.01\n",
    "# print(X)\n",
    "f=1*X-1\n",
    "y=f+0.1*torch.randn(X.size())\n",
    "# print(y)"
   ]
  },
  {
   "cell_type": "code",
   "execution_count": 30,
   "id": "ea32e3d8",
   "metadata": {},
   "outputs": [],
   "source": [
    "# print(w.data,w.grad)\n",
    "for epoch in range(15):\n",
    "    yhat=model.forward(X)\n",
    "    loss=model.criterion(yhat,y)\n",
    "    loss.backward()\n",
    "    w.data=w.data-lr*w.grad.data\n",
    "    w.grad.data.zero_()\n",
    "    b.data=b.data-lr*b.grad.data\n",
    "    b.data.grad.zero_()\n",
    "    \n",
    "criterion=nn.MSELoss()\n"
   ]
  },
  {
   "cell_type": "code",
   "execution_count": 31,
   "id": "90804979",
   "metadata": {},
   "outputs": [
    {
     "name": "stdout",
     "output_type": "stream",
     "text": [
      "<bound method Module.parameters of Linear(in_features=2, out_features=1, bias=True)>\n"
     ]
    }
   ],
   "source": [
    "#linear regression in multiple dimension\n",
    "import torch.nn as nn\n",
    "from torch.nn import Linear \n",
    "torch.manual_seed(1)\n",
    "model=Linear(in_features=2,out_features=1)\n",
    "print(model.parameters)"
   ]
  },
  {
   "cell_type": "code",
   "execution_count": 32,
   "id": "d1f69c20",
   "metadata": {},
   "outputs": [
    {
     "name": "stdout",
     "output_type": "stream",
     "text": [
      "tensor([[-0.3969],\n",
      "        [-0.9689]], grad_fn=<AddmmBackward0>)\n"
     ]
    }
   ],
   "source": [
    "X=torch.tensor([[1.0,2,0],[1.0,3,0],[4.0,2,0]])\n",
    "X=torch.tensor([[1.0,2.0],[2.0,5.0]])\n",
    "\n",
    "yhat=model(X)\n",
    "print(yhat)"
   ]
  },
  {
   "cell_type": "code",
   "execution_count": 33,
   "id": "441c551a",
   "metadata": {},
   "outputs": [],
   "source": [
    "class MLR(nn.Module):\n",
    "    def __init__(self,inn=1,out=1):\n",
    "        super(MLR,self).__init__()\n",
    "        self.in_features=inn\n",
    "        self.out_features=out\n",
    "        self.Linear=Linear(in_features=inn,out_features=out)\n",
    "    def forward(self,X):\n",
    "        return self.Linear(X)"
   ]
  },
  {
   "cell_type": "code",
   "execution_count": 34,
   "id": "e5e8dee1",
   "metadata": {},
   "outputs": [
    {
     "data": {
      "text/plain": [
       "tensor([[-0.5754],\n",
       "        [-2.2406]], grad_fn=<AddmmBackward0>)"
      ]
     },
     "execution_count": 34,
     "metadata": {},
     "output_type": "execute_result"
    }
   ],
   "source": [
    "model=MLR(2,1)\n",
    "yhat=model.forward(X)\n",
    "yhat"
   ]
  },
  {
   "cell_type": "code",
   "execution_count": 35,
   "id": "3185880e",
   "metadata": {},
   "outputs": [],
   "source": [
    "from torch import nn,optim\n",
    "import torch\n",
    "from torch.utils.data import Dataset, DataLoader\n",
    "class Data2d(Dataset):\n",
    "    def __init__(self):\n",
    "        self.x=torch.zeros(20,2)\n",
    "        self.x[:,0]=torch.arange(-1,1,0.1)\n",
    "        self.x[:,1]=torch.arange(-1,1,0.1)\n",
    "        self.w=torch.tensor([[1.0],[1.0]])\n",
    "        self.b=1\n",
    "        self.f=torch.mm(self.x,self.w)+self.b\n",
    "        self.y=self.f+0.1*torch.randn((20,1))\n",
    "        self.len=self.x.shape[0]\n",
    "    def __len__(self):\n",
    "        return self.len\n",
    "    def __getitem__(self,idx):\n",
    "        return self.x[idx],self.y[idx]"
   ]
  },
  {
   "cell_type": "code",
   "execution_count": 36,
   "id": "aceaf870",
   "metadata": {},
   "outputs": [],
   "source": [
    "dataloader=Data2d()\n",
    "criterion=nn.MSELoss()\n",
    "trainloader=DataLoader(dataset=dataloader,batch_size=2)\n",
    "model=MLR(2,1)\n",
    "optimizer=optim.SGD(model.parameters(),lr=0.1)\n"
   ]
  },
  {
   "cell_type": "code",
   "execution_count": 37,
   "id": "5648a330",
   "metadata": {},
   "outputs": [],
   "source": [
    "for epoch in range(10):\n",
    "    for x,y in trainloader:\n",
    "        yhat=model.forward(x)\n",
    "        loss=criterion(yhat,y)\n",
    "        optimizer.zero_grad() # Makes all gradeints zero\n",
    "        loss.backward()\n",
    "        optimizer.step() # calculates change in weights and bias"
   ]
  },
  {
   "cell_type": "code",
   "execution_count": 38,
   "id": "dc6033ad",
   "metadata": {},
   "outputs": [],
   "source": [
    "#Logistic regression\n",
    "import torch\n",
    "import torch.nn as nn\n",
    "z=torch.arange(-100.0,100.0,1).view(-1,1)\n",
    "sig=nn.Sigmoid()\n",
    "y=sig(z)\n"
   ]
  },
  {
   "cell_type": "code",
   "execution_count": 42,
   "id": "ad3c328e",
   "metadata": {},
   "outputs": [],
   "source": [
    "# We use nn.Sequential package for logistic regression\n",
    "#For logistic regression, we require a linear function followed by a sigmoid function,\n",
    "#We can combine this in a sequential function\n",
    "model=nn.Sequential(nn.Linear(1,1),nn.Sigmoid())\n",
    "yhat=model(z)\n",
    "# yhat"
   ]
  },
  {
   "cell_type": "code",
   "execution_count": 40,
   "id": "fc148cb4",
   "metadata": {},
   "outputs": [],
   "source": [
    "class LogisticRegression(nn.Module):\n",
    "    def __init__(self,inn=1,out=1):\n",
    "        super(MLR,self).__init__()\n",
    "        self.in_features=inn\n",
    "        self.out_features=out\n",
    "        self.Linear=Linear(in_features=inn,out_features=out)\n",
    "    def forward(self,X):\n",
    "        return torch.Sigmoid(self.Linear(X))"
   ]
  },
  {
   "cell_type": "code",
   "execution_count": 43,
   "id": "2ec5015e",
   "metadata": {},
   "outputs": [],
   "source": [
    "import torch\n",
    "import torch.nn as nn,optim\n",
    "import torchvision.transforms as transforms\n",
    "import torchvision.datasets as dsets \n",
    "train_dataset=dsets.MNIST(root=\"./\",download=True,train=True,transform=transforms.ToTensor()) #transform converts the iamge to a tensor\n",
    "val_dataset=dsets.MNIST(root=\"./\",download=True,train=False,transform=transforms.ToTensor()) #transform converts the iamge to a tensor\n"
   ]
  },
  {
   "cell_type": "code",
   "execution_count": null,
   "id": "2300114a",
   "metadata": {},
   "outputs": [],
   "source": [
    "# train_dataset[0]\n"
   ]
  },
  {
   "cell_type": "code",
   "execution_count": null,
   "id": "023bbd59",
   "metadata": {},
   "outputs": [],
   "source": [
    "class Softmax(nn.Module):\n",
    "    def __init__(self,inn=1,out=1):\n",
    "        super(Softmax,self).__init__()\n",
    "        self.in_features=inn\n",
    "        self.out_features=out\n",
    "        self.Linear=Linear(in_features=inn,out_features=out)\n",
    "    def forward(self,X):\n",
    "        return self.Linear(X)"
   ]
  },
  {
   "cell_type": "code",
   "execution_count": null,
   "id": "cf307b4f",
   "metadata": {},
   "outputs": [],
   "source": [
    "input_dim=28*28\n",
    "output_dim=10\n",
    "smodel=Softmax(input_dim,output_dim)"
   ]
  },
  {
   "cell_type": "code",
   "execution_count": null,
   "id": "f798416b",
   "metadata": {},
   "outputs": [],
   "source": [
    "train_loader=torch.utils.data.DataLoader(dataset=train_dataset,batch_size=100)\n",
    "val_loader=torch.utils.data.DataLoader(dataset=val_dataset,batch_size=500)\n",
    "optimizer=optim.SGD(model.parameters(),lr=0.01)\n",
    "criterion=nn.CrossEntropyLoss()\n"
   ]
  },
  {
   "cell_type": "code",
   "execution_count": null,
   "id": "b9b28323",
   "metadata": {},
   "outputs": [],
   "source": [
    "#When the loss is defined as CrossEntropyLoss in pytorch, it will automatically perform softmax classification \n",
    "\n",
    "n_epoch=10\n",
    "for e in range(n_epoch):\n",
    "    for x,y in train_loader:\n",
    "        optimizer.zero_grad()\n",
    "        z=smodel(x.view(-1,28*28))\n",
    "        _,z=torch.max(z.data,1)\n",
    "        print(z)\n",
    "        print(y)\n",
    "        loss=criterion(z,y)\n",
    "        loss.backward()\n",
    "        optimizer.step()\n",
    "\n",
    "    correct=0\n",
    "    for x,y in val_loader:\n",
    "        z=smodel(x.view(-1,28*28))\n",
    "        _,yhat=torch.max(z.data,1) #max is similar to argmax function\n",
    "        correct+=(yhat==y).sum().item()\n",
    "accuracy=correct/len(train_loader)\n",
    "print(accuracy)"
   ]
  },
  {
   "cell_type": "code",
   "execution_count": null,
   "id": "972e3693",
   "metadata": {},
   "outputs": [],
   "source": [
    "from torch import sigmoid \n",
    "class NN(nn.Module):\n",
    "    def __init__(self,inn,out):\n",
    "        super(NN,self).__init__()\n",
    "        self.hidden=1\n",
    "        self.lin1=nn.Linear(inn,self.hidden)\n",
    "        self.lin2=nn.Linear(self.hidden,out)\n",
    "    def forward(self,x):\n",
    "        x=sigmoid(self.lin1(x))\n",
    "        x=sigmoid(self.lin2(x))\n",
    "        return x "
   ]
  },
  {
   "cell_type": "code",
   "execution_count": null,
   "id": "1434a523",
   "metadata": {},
   "outputs": [],
   "source": [
    "model=NN(1,1)\n",
    "x=torch.tensor([[0.4]])\n",
    "y=model.forward(x)\n",
    "y"
   ]
  },
  {
   "cell_type": "code",
   "execution_count": null,
   "id": "5d57ed93",
   "metadata": {},
   "outputs": [],
   "source": [
    "model=nn.Sequential(\n",
    "    nn.Linear(1,2),nn.Sigmoid(),nn.Linear(2,4),nn.Sigmoid()\n",
    "    )"
   ]
  },
  {
   "cell_type": "code",
   "execution_count": null,
   "id": "06a78516",
   "metadata": {},
   "outputs": [],
   "source": [
    "import torch\n",
    "a=[1,2,3]\n",
    "t_a=torch.tensor(a,dtype=torch.int32)\n",
    "print(t_a.shape)\n",
    "import numpy as np\n",
    "b=np.array([4,5,6],dtype=np.int32)\n",
    "t_b=torch.from_numpy(b)\n",
    "print(type(t_b))\n",
    "t_ones=torch.ones(2,3)\n",
    "print(t_ones)\n",
    "t_rand=torch.rand(3,4)\n",
    "print(t_rand)"
   ]
  },
  {
   "cell_type": "code",
   "execution_count": null,
   "id": "e73e44a1",
   "metadata": {},
   "outputs": [],
   "source": [
    "print(type(t_a),t_a.dtype)\n",
    "t_a_new=t_a.to(torch.int64)\n",
    "print(t_a_new.dtype)"
   ]
  },
  {
   "cell_type": "code",
   "execution_count": null,
   "id": "219ec98a",
   "metadata": {},
   "outputs": [],
   "source": [
    "#linear regression in multiple dimension\n",
    "import torch.nn as nn\n",
    "from torch.nn import Linear \n",
    "torch.manual_seed(1)\n",
    "model=Linear(in_features=2,out_features=1)\n",
    "print(model.parameters)\n",
    "model=nn.Sequential(\n",
    "    nn.Linear(2,1),\n",
    "    nn.ReLU()\n",
    ")\n",
    "print(model[0].weight)\n",
    "nn.init.xavier_normal_(model[0].weight)\n",
    "print(model[0].weight)\n",
    "print(model)"
   ]
  },
  {
   "cell_type": "code",
   "execution_count": null,
   "id": "48f1b8c0",
   "metadata": {},
   "outputs": [],
   "source": [
    "class NoisyLayer(nn.Module):\n",
    "    def __init__(self,input_size,output_size,noise_dev=0.1):\n",
    "        super().__init__()\n",
    "        w=torch.Tensor(input_size,output_size)\n",
    "        self.w=nn.Parameter(w)\n",
    "        nn.init.xavier_normal_(self.w)\n",
    "        b=torch.Tensor(output_size).fill_(0)\n",
    "        print(\"bias: \",b)\n",
    "        self.b=nn.Parameter(b)\n",
    "        self.noise_dev=noise_dev\n",
    "        \n",
    "    def forward(self,x,training=True):\n",
    "        if training:\n",
    "            noise=torch.normal(0.0,self.noise_dev,x.shape)\n",
    "            x_new=torch.add(x,noise)\n",
    "        else:\n",
    "            x_new=x\n",
    "        return torch.add(torch.mm(x_new,self.w),self.b)\n",
    "    \n",
    "    "
   ]
  },
  {
   "cell_type": "code",
   "execution_count": null,
   "id": "5478443c",
   "metadata": {},
   "outputs": [],
   "source": [
    "torch.manual_seed(1)\n",
    "noisy_layer=NoisyLayer(4,2)\n",
    "x=torch.zeros((1,4))\n",
    "print(noisy_layer.forward(x,training=True))\n",
    "print(noisy_layer.forward(x,training=True))\n",
    "print(noisy_layer.forward(x,training=False))"
   ]
  },
  {
   "cell_type": "code",
   "execution_count": null,
   "id": "14ddba64",
   "metadata": {},
   "outputs": [],
   "source": [
    "import pandas as pd\n",
    "url=\"http://archive.ics.uci.edu/ml/machine-learning-databases/auto-mpg/auto-mpg.data\"\n",
    "df=pd.read_csv(url,na_values=\"?\",skipinitialspace=True,\n",
    "              sep=\" \",comment=\"\\t\",\n",
    "               names=['Mgp','Cylinders','Displacement','Horsepower','Weight','Acceleration','Model','Origin'])"
   ]
  },
  {
   "cell_type": "code",
   "execution_count": null,
   "id": "0eee7918",
   "metadata": {},
   "outputs": [],
   "source": [
    "df.head(4)"
   ]
  },
  {
   "cell_type": "code",
   "execution_count": null,
   "id": "cde06cfd",
   "metadata": {},
   "outputs": [],
   "source": [
    "df.shape"
   ]
  },
  {
   "cell_type": "code",
   "execution_count": null,
   "id": "346511be",
   "metadata": {},
   "outputs": [],
   "source": [
    "df.dropna(inplace=True)\n",
    "df.reset_index(drop=True,inplace=True)\n",
    "df.shape"
   ]
  },
  {
   "cell_type": "code",
   "execution_count": null,
   "id": "797af2c1",
   "metadata": {},
   "outputs": [],
   "source": [
    "df.head(2)"
   ]
  },
  {
   "cell_type": "code",
   "execution_count": null,
   "id": "4f150ad7",
   "metadata": {},
   "outputs": [],
   "source": [
    "import sklearn\n",
    "import numpy as np\n",
    "from sklearn.model_selection import train_test_split\n",
    "df_train, df_test = sklearn.model_selection.train_test_split(df, train_size=0.8, random_state=1)"
   ]
  },
  {
   "cell_type": "code",
   "execution_count": null,
   "id": "19c53a95",
   "metadata": {},
   "outputs": [],
   "source": [
    "df_stats=df_train.describe().transpose()\n",
    "df_stats"
   ]
  },
  {
   "cell_type": "code",
   "execution_count": null,
   "id": "2ae365af",
   "metadata": {},
   "outputs": [],
   "source": [
    "numeric_column_names=df.select_dtypes(include=np.number).columns.tolist()\n",
    "numeric_column_names\n",
    "numeric_column_names = ['Cylinders', 'Displacement','Horsepower', 'Weight','Acceleration']"
   ]
  },
  {
   "cell_type": "code",
   "execution_count": null,
   "id": "adc001d1",
   "metadata": {},
   "outputs": [],
   "source": [
    "df_train_norm,df_test_norm=df_train.copy(),df_test.copy()\n",
    "for cols in numeric_column_names:\n",
    "    m=df_stats.loc[cols,'mean']\n",
    "    std=df_stats.loc[cols,'std']\n",
    "    print(m,std)\n",
    "    df_train[cols].apply(lambda x: (x-m)/std)\n",
    "    df_test[cols].apply(lambda x: (x-m)/std)\n",
    "df_train_norm.head(5)"
   ]
  },
  {
   "cell_type": "code",
   "execution_count": null,
   "id": "90432b67",
   "metadata": {},
   "outputs": [],
   "source": [
    "df_train_norm.iloc[203]"
   ]
  },
  {
   "cell_type": "code",
   "execution_count": null,
   "id": "9e5f46eb",
   "metadata": {},
   "outputs": [],
   "source": [
    "import torch\n",
    "boundaries=torch.tensor([73,76,79])\n",
    "v=torch.tensor(df_train_norm['Model'].values)\n",
    "df_train_norm['ModelYearBucketed']=torch.bucketize(v,boundaries,right=True)"
   ]
  },
  {
   "cell_type": "code",
   "execution_count": null,
   "id": "ae7b71b8",
   "metadata": {},
   "outputs": [],
   "source": [
    "v=torch.tensor(df_test_norm['Model'].values)\n",
    "df_test_norm['ModelYearBucketed']=torch.bucketize(v,boundaries,right=True)"
   ]
  },
  {
   "cell_type": "code",
   "execution_count": null,
   "id": "d09e209b",
   "metadata": {},
   "outputs": [],
   "source": [
    "numeric_column_names.append(\"ModelYearBucketed\")"
   ]
  },
  {
   "cell_type": "code",
   "execution_count": null,
   "id": "cd1249b1",
   "metadata": {},
   "outputs": [],
   "source": [
    "from torch.utils.data import Dataset\n",
    "class TensorDataset(Dataset):\n",
    "    def __init__(self,x,y):\n",
    "        self.x=x\n",
    "        self.y=y\n",
    "        self.len=self.x.shape[1]\n",
    "\n",
    "    def __len__(self):\n",
    "        return self.len\n",
    "    def __getitem__(self,index):\n",
    "        return self.x[index],self.y[index]"
   ]
  },
  {
   "cell_type": "code",
   "execution_count": null,
   "id": "498b396e",
   "metadata": {},
   "outputs": [],
   "source": [
    "from torch.nn.functional import one_hot\n",
    "total_origin=len(set(df_train['Origin']))\n",
    "origin_encoded=one_hot(torch.from_numpy(df_train_norm[\"Origin\"].values)%total_origin)\n",
    "x_train_numeric=torch.tensor(df_train_norm[numeric_column_names].values)\n",
    "x_train=torch.cat([x_train_numeric,origin_encoded],1).float()\n",
    "origin_encoded=one_hot(torch.from_numpy(df_test_norm[\"Origin\"].values)%total_origin)\n",
    "x_test_numeric=torch.tensor(df_test_norm[numeric_column_names].values)\n",
    "x_test=torch.cat([x_test_numeric,origin_encoded],1).float()\n",
    "y_train=torch.tensor(df_train_norm['Mgp'].values).float()\n",
    "y_test=torch.tensor(df_test_norm['Mgp'].values).float()\n"
   ]
  },
  {
   "cell_type": "code",
   "execution_count": null,
   "id": "5467c6cf",
   "metadata": {},
   "outputs": [],
   "source": [
    "from torch.utils.data import Dataset, DataLoader\n",
    "import torch.nn as nn\n",
    "train_ds=TensorDataset(x_train,y_train)\n",
    "batch_size=8\n",
    "torch.manual_seed(1)\n",
    "train_dl=DataLoader(train_ds,batch_size,shuffle=True)\n",
    "hidden_units=[8,4]\n",
    "input_size=x_train.shape[1]\n",
    "all_layers=[]\n",
    "for h in hidden_units:\n",
    "    layer=nn.Linear(input_size,h)\n",
    "    all_layers.append(layer)\n",
    "    all_layers.append(nn.ReLU())\n",
    "    input_size=h\n",
    "all_layers.append(nn.Linear(input_size,1))\n",
    "model=nn.Sequential(*all_layers)\n",
    "print(model.parameters)"
   ]
  },
  {
   "cell_type": "code",
   "execution_count": null,
   "id": "e11eda1d",
   "metadata": {},
   "outputs": [],
   "source": [
    "loss_fn=nn.MSELoss()\n",
    "optimizer=torch.optim.SGD(model.parameters(),lr=0.001)\n",
    "epochs=1000"
   ]
  },
  {
   "cell_type": "code",
   "execution_count": null,
   "id": "1609ccad",
   "metadata": {},
   "outputs": [],
   "source": [
    "\n",
    "for e in range(epochs):\n",
    "    loss_hist_train=0\n",
    "    for x_batch,y_batch in train_dl:\n",
    "        y_pred=model.forward(x_batch)\n",
    "        loss=loss_fn(y_pred,y_batch)\n",
    "#         print(loss)\n",
    "        loss.backward()\n",
    "        optimizer.step()\n",
    "        optimizer.zero_grad()\n",
    "        loss_hist_train+=loss.item()\n",
    "    if e % 20==0:\n",
    "        print(f'Epoch {e} Loss {loss_hist_train/len(train_dl):.4f}')"
   ]
  },
  {
   "cell_type": "code",
   "execution_count": null,
   "id": "759b091b",
   "metadata": {},
   "outputs": [],
   "source": [
    "with torch.no_grad():\n",
    "    pred = model(x_test.float())[:, 0]\n",
    "    loss = loss_fn(pred, y_test)\n",
    "    print(f'Test MSE: {loss.item():.4f}')\n",
    "    print(f'Test MAE: {nn.L1Loss()(pred, y_test).item():.4f}')"
   ]
  },
  {
   "cell_type": "code",
   "execution_count": null,
   "id": "010ae912",
   "metadata": {},
   "outputs": [],
   "source": [
    "#RNN model from scratch\n",
    "import torch\n",
    "import torch.nn as nn\n",
    "torch.manual_seed(1)\n",
    "model=nn.RNN(input_size=5,hidden_size=2,num_layers=1,batch_first=True)\n",
    "print(model.weight_ih_l0)\n",
    "w_xh=model.weight_ih_l0\n",
    "w_hh=model.weight_hh_l0\n",
    "b_xh=model.bias_ih_l0\n",
    "b_hh=model.bias_hh_l0\n",
    "print(w_xh.shape,w_hh.shape,b_xh.shape,b_hh.shape)"
   ]
  },
  {
   "cell_type": "code",
   "execution_count": null,
   "id": "73aa97bb",
   "metadata": {},
   "outputs": [],
   "source": [
    "x_seq=torch.tensor([[1]*5,[2]*5,[3]*5]).float()\n",
    "output,hn=model(torch.reshape(x_seq,(1,3,5))) # (1,3,5)=(batch_size,sequence(rows),no_features(columns))\n",
    "print(x_seq[0].shape)"
   ]
  },
  {
   "cell_type": "code",
   "execution_count": null,
   "id": "65f5c3a6",
   "metadata": {},
   "outputs": [],
   "source": [
    "#manually computing\n",
    "out_man=[]\n",
    "for i in range(3):\n",
    "    xt=torch.reshape(x_seq[i],(1,5))\n",
    "    print(f'At timestep {i} input={xt.numpy()}')\n",
    "    ht=torch.matmul(xt,torch.transpose(w_xh,0,1))+b_xh\n",
    "    print(\"Hidden at \",i,\": \",ht.detach().numpy())\n",
    "    if i>0:\n",
    "        prev_h=out_man[i-1]\n",
    "    else:\n",
    "        prev_h=torch.zeros(ht.shape)\n",
    "    ot=ht+torch.matmul(prev_h,torch.transpose(w_hh,0,1))+b_hh\n",
    "    ot=torch.tanh(ot)\n",
    "    out_man.append(ot)\n",
    "    print(\"Output at \",i,\": \",ot.detach().numpy())"
   ]
  },
  {
   "cell_type": "code",
   "execution_count": null,
   "id": "e6f68a9e",
   "metadata": {},
   "outputs": [],
   "source": [
    "!pip uninstall -y torchtext \n",
    "!pip install --no-cache-dir torchtext==0.13.0\n",
    "from torchtext.datasets import IMDB\n",
    "train_data=IMDB(split='train')\n",
    "test_data=IMDB(split='test')\n",
    "\n"
   ]
  },
  {
   "cell_type": "code",
   "execution_count": null,
   "id": "3e31a74c",
   "metadata": {},
   "outputs": [],
   "source": [
    "from torch.utils.data.dataset import random_split\n",
    "torch.manual_seed(1)\n",
    "train_datset,val_dataset=random_split(list(train_data),[20000,5000])"
   ]
  },
  {
   "cell_type": "code",
   "execution_count": null,
   "id": "ce9418c0",
   "metadata": {},
   "outputs": [],
   "source": [
    "#Find unique tokens\n",
    "import re\n",
    "from collections import Counter, OrderedDict\n",
    "def tokenizer(text):\n",
    "    text = re.sub('<[^>]*>', '', text)\n",
    "    emoticons = re.findall(\n",
    "        '(?::|;|=)(?:-)?(?:\\)|\\(|D|P)', text.lower()\n",
    "    text = re.sub('[\\W]+', ' ', text.lower()) +\\\n",
    "        ' '.join(emoticons).replace('-', '')\n",
    "    tokenized = text.split()\n",
    "    return tokenized\n",
    "        "
   ]
  },
  {
   "cell_type": "code",
   "execution_count": null,
   "id": "04533697",
   "metadata": {},
   "outputs": [],
   "source": [
    "token_counts=Counter()\n",
    "for label,line in train_dataset:\n",
    "    tokens=tokenizer(line)\n",
    "    token_counts.update(tokens)\n",
    "print('Vocab-size:', len(token_counts))   "
   ]
  },
  {
   "cell_type": "code",
   "execution_count": null,
   "id": "64142588",
   "metadata": {},
   "outputs": [],
   "source": [
    "from torchtext.vocab import vocab\n",
    "sorted_by=sorted(token_counts.items(),lambda x:x[1],reverse=True)\n",
    "ordered_doct=OrderedDict(sorted_by)\n",
    "vocab=vocab(ordered_dict)\n",
    "vocab.insert_token(\"<pad>\",0)\n",
    "vocab.insert_token(\"<unk>\",1)\n",
    "\n"
   ]
  },
  {
   "cell_type": "code",
   "execution_count": null,
   "id": "1fe6c6fa",
   "metadata": {},
   "outputs": [],
   "source": [
    "textt_pipeline=lambda x: [vocab(line) for line in tokenizer(x)]\n",
    "label_pipeline=lambda x : 1 if x=='pos' or 0"
   ]
  },
  {
   "cell_type": "code",
   "execution_count": null,
   "id": "c39d5650",
   "metadata": {},
   "outputs": [],
   "source": [
    "def collate_batch(batch):\n",
    "    label_list, text_list, lengths = [], [], []\n",
    "    for _label, _text in batch:\n",
    "        label_list.append(label_pipeline(_label))\n",
    "        processed_text = torch.tensor(text_pipeline(_text),\n",
    "        dtype=torch.int64)\n",
    "        text_list.append(processed_text)\n",
    "        lengths.append(processed_text.size(0))\n",
    "    label_list = torch.tensor(label_list)\n",
    "    lengths = torch.tensor(lengths)\n",
    "    padded_text_list = nn.utils.rnn.pad_sequence(\n",
    "    text_list, batch_first=True)\n",
    "    return padded_text_list, label_list, lengths"
   ]
  },
  {
   "cell_type": "code",
   "execution_count": null,
   "id": "5cff613a",
   "metadata": {},
   "outputs": [],
   "source": [
    "from torch.utils.data import DataLoader\n",
    "dataloader = DataLoader(train_dataset, batch_size=4,shuffle=False, collate_fn=collate_batch)"
   ]
  },
  {
   "cell_type": "code",
   "execution_count": null,
   "id": "68727aee",
   "metadata": {},
   "outputs": [],
   "source": [
    "batch_size = 32\n",
    "train_dl = DataLoader(train_dataset, batch_size=batch_size,shuffle=True, collate_fn=collate_batch)\n",
    "valid_dl = DataLoader(valid_dataset, batch_size=batch_size,shuffle=False, collate_fn=collate_batch) \n",
    "test_dl = DataLoader(test_dataset, batch_size=batch_size,shuffle=False, collate_fn=collate_batch)"
   ]
  },
  {
   "cell_type": "code",
   "execution_count": null,
   "id": "c57ce0e8",
   "metadata": {},
   "outputs": [],
   "source": [
    "embedding=nn.Embedding(\n",
    "    num_embedding=10 # Input sequence\n",
    "    embedding_dim=3, # Size of embedding features\n",
    "    padding_idx=0\n",
    "    )"
   ]
  },
  {
   "cell_type": "code",
   "execution_count": null,
   "id": "f05a85ba",
   "metadata": {},
   "outputs": [],
   "source": [
    "class RNN(nn.Module):\n",
    "    def __init__(self, vocab_size,embed_dim,rnn_hidden_size,fc_hidden_size):\n",
    "        super().__init__()\n",
    "        self.embedding=nn.Embedding(vocab_size,embedding_dim=embed_dim,padding_idx=0)\n",
    "        \n",
    "        self.rnn = nn.LSTM(embed_dim, rnn_hidden_size,batch_first=True)\n",
    "        self.fc1=nn.Linear(rnn_hidden_size,fc_hidden_size)\n",
    "        self.relu1=nn.ReLU()\n",
    "        self.fc1=nn.Linear(fc_hidden_size,1)\n",
    "        self.sigmoid=nn.Sigmoid()\n",
    "        \n",
    "    def forward(self, text,lengths):\n",
    "         out=self.embedding(text)\n",
    "        \n",
    "model = RNN(64, 32)\n",
    "print(model)\n",
    "model(torch.randn(5, 3, 64))"
   ]
  },
  {
   "cell_type": "code",
   "execution_count": null,
   "id": "b76e0b91",
   "metadata": {},
   "outputs": [],
   "source": []
  },
  {
   "cell_type": "code",
   "execution_count": null,
   "id": "ff9bee90",
   "metadata": {},
   "outputs": [],
   "source": []
  },
  {
   "cell_type": "code",
   "execution_count": null,
   "id": "a15c697e",
   "metadata": {},
   "outputs": [],
   "source": []
  },
  {
   "cell_type": "code",
   "execution_count": null,
   "id": "25ebf186",
   "metadata": {},
   "outputs": [],
   "source": []
  },
  {
   "cell_type": "code",
   "execution_count": null,
   "id": "4bcb0464",
   "metadata": {},
   "outputs": [],
   "source": []
  },
  {
   "cell_type": "code",
   "execution_count": null,
   "id": "0bb9c1e2",
   "metadata": {},
   "outputs": [],
   "source": []
  },
  {
   "cell_type": "code",
   "execution_count": null,
   "id": "831a9b8f",
   "metadata": {},
   "outputs": [],
   "source": []
  },
  {
   "cell_type": "code",
   "execution_count": null,
   "id": "52b8032e",
   "metadata": {},
   "outputs": [],
   "source": []
  },
  {
   "cell_type": "code",
   "execution_count": null,
   "id": "0112c7e7",
   "metadata": {},
   "outputs": [],
   "source": []
  },
  {
   "cell_type": "code",
   "execution_count": null,
   "id": "32dd0bd6",
   "metadata": {},
   "outputs": [],
   "source": []
  }
 ],
 "metadata": {
  "kernelspec": {
   "display_name": "Python 3 (ipykernel)",
   "language": "python",
   "name": "python3"
  },
  "language_info": {
   "codemirror_mode": {
    "name": "ipython",
    "version": 3
   },
   "file_extension": ".py",
   "mimetype": "text/x-python",
   "name": "python",
   "nbconvert_exporter": "python",
   "pygments_lexer": "ipython3",
   "version": "3.9.7"
  }
 },
 "nbformat": 4,
 "nbformat_minor": 5
}
